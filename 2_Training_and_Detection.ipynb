{
  "cells": [
    {
      "cell_type": "markdown",
      "metadata": {
        "id": "QUANWN3rpfC9"
      },
      "source": [
        "# 0. Setup Paths"
      ]
    },
    {
      "cell_type": "code",
      "execution_count": 1,
      "metadata": {
        "id": "iCilx3l2ncW0",
        "outputId": "150a1ca4-a20a-4fe7-af31-33269a292aba"
      },
      "outputs": [
        {
          "name": "stdout",
          "output_type": "stream",
          "text": [
            "Requirement already satisfied: tensorflow in c:\\users\\varshaa\\onedrive\\desktop\\ci_ai\\lib\\site-packages (2.10.1)Note: you may need to restart the kernel to use updated packages.\n"
          ]
        },
        {
          "name": "stderr",
          "output_type": "stream",
          "text": [
            "WARNING: Ignoring invalid distribution -pencv-python (c:\\users\\varshaa\\onedrive\\desktop\\ci_ai\\lib\\site-packages)\n",
            "WARNING: Ignoring invalid distribution -pencv-python (c:\\users\\varshaa\\onedrive\\desktop\\ci_ai\\lib\\site-packages)\n",
            "WARNING: Ignoring invalid distribution -pencv-python (c:\\users\\varshaa\\onedrive\\desktop\\ci_ai\\lib\\site-packages)\n",
            "WARNING: Ignoring invalid distribution -pencv-python (c:\\users\\varshaa\\onedrive\\desktop\\ci_ai\\lib\\site-packages)\n",
            "WARNING: Ignoring invalid distribution -pencv-python (c:\\users\\varshaa\\onedrive\\desktop\\ci_ai\\lib\\site-packages)\n",
            "WARNING: Ignoring invalid distribution -pencv-python (c:\\users\\varshaa\\onedrive\\desktop\\ci_ai\\lib\\site-packages)\n",
            "WARNING: You are using pip version 22.0.4; however, version 23.1.2 is available.\n",
            "You should consider upgrading via the 'c:\\Users\\Varshaa\\OneDrive\\Desktop\\CI_AI\\Scripts\\python.exe -m pip install --upgrade pip' command.\n"
          ]
        },
        {
          "name": "stdout",
          "output_type": "stream",
          "text": [
            "\n",
            "Requirement already satisfied: grpcio<2.0,>=1.24.3 in c:\\users\\varshaa\\onedrive\\desktop\\ci_ai\\lib\\site-packages (from tensorflow) (1.53.0)\n",
            "Requirement already satisfied: astunparse>=1.6.0 in c:\\users\\varshaa\\onedrive\\desktop\\ci_ai\\lib\\site-packages (from tensorflow) (1.6.3)\n",
            "Requirement already satisfied: keras<2.11,>=2.10.0 in c:\\users\\varshaa\\onedrive\\desktop\\ci_ai\\lib\\site-packages (from tensorflow) (2.10.0)\n",
            "Requirement already satisfied: gast<=0.4.0,>=0.2.1 in c:\\users\\varshaa\\onedrive\\desktop\\ci_ai\\lib\\site-packages (from tensorflow) (0.4.0)\n",
            "Requirement already satisfied: flatbuffers>=2.0 in c:\\users\\varshaa\\onedrive\\desktop\\ci_ai\\lib\\site-packages (from tensorflow) (23.3.3)\n",
            "Requirement already satisfied: setuptools in c:\\users\\varshaa\\onedrive\\desktop\\ci_ai\\lib\\site-packages (from tensorflow) (58.1.0)\n",
            "Requirement already satisfied: tensorflow-estimator<2.11,>=2.10.0 in c:\\users\\varshaa\\onedrive\\desktop\\ci_ai\\lib\\site-packages (from tensorflow) (2.10.0)\n",
            "Requirement already satisfied: wrapt>=1.11.0 in c:\\users\\varshaa\\onedrive\\desktop\\ci_ai\\lib\\site-packages (from tensorflow) (1.14.1)\n",
            "Requirement already satisfied: tensorboard<2.11,>=2.10 in c:\\users\\varshaa\\onedrive\\desktop\\ci_ai\\lib\\site-packages (from tensorflow) (2.10.1)\n",
            "Requirement already satisfied: termcolor>=1.1.0 in c:\\users\\varshaa\\onedrive\\desktop\\ci_ai\\lib\\site-packages (from tensorflow) (2.2.0)\n",
            "Requirement already satisfied: numpy>=1.20 in c:\\users\\varshaa\\onedrive\\desktop\\ci_ai\\lib\\site-packages (from tensorflow) (1.23.5)\n",
            "Requirement already satisfied: packaging in c:\\users\\varshaa\\onedrive\\desktop\\ci_ai\\lib\\site-packages (from tensorflow) (23.0)\n",
            "Requirement already satisfied: google-pasta>=0.1.1 in c:\\users\\varshaa\\onedrive\\desktop\\ci_ai\\lib\\site-packages (from tensorflow) (0.2.0)\n",
            "Requirement already satisfied: h5py>=2.9.0 in c:\\users\\varshaa\\onedrive\\desktop\\ci_ai\\lib\\site-packages (from tensorflow) (3.8.0)\n",
            "Requirement already satisfied: tensorflow-io-gcs-filesystem>=0.23.1 in c:\\users\\varshaa\\onedrive\\desktop\\ci_ai\\lib\\site-packages (from tensorflow) (0.31.0)\n",
            "Requirement already satisfied: opt-einsum>=2.3.2 in c:\\users\\varshaa\\onedrive\\desktop\\ci_ai\\lib\\site-packages (from tensorflow) (3.3.0)\n",
            "Requirement already satisfied: six>=1.12.0 in c:\\users\\varshaa\\onedrive\\desktop\\ci_ai\\lib\\site-packages (from tensorflow) (1.16.0)\n",
            "Requirement already satisfied: typing-extensions>=3.6.6 in c:\\users\\varshaa\\onedrive\\desktop\\ci_ai\\lib\\site-packages (from tensorflow) (4.5.0)\n",
            "Requirement already satisfied: keras-preprocessing>=1.1.1 in c:\\users\\varshaa\\onedrive\\desktop\\ci_ai\\lib\\site-packages (from tensorflow) (1.1.2)\n",
            "Requirement already satisfied: absl-py>=1.0.0 in c:\\users\\varshaa\\onedrive\\desktop\\ci_ai\\lib\\site-packages (from tensorflow) (1.4.0)\n",
            "Requirement already satisfied: libclang>=13.0.0 in c:\\users\\varshaa\\onedrive\\desktop\\ci_ai\\lib\\site-packages (from tensorflow) (16.0.0)\n",
            "Requirement already satisfied: protobuf<3.20,>=3.9.2 in c:\\users\\varshaa\\onedrive\\desktop\\ci_ai\\lib\\site-packages (from tensorflow) (3.19.6)\n",
            "Requirement already satisfied: wheel<1.0,>=0.23.0 in c:\\users\\varshaa\\onedrive\\desktop\\ci_ai\\lib\\site-packages (from astunparse>=1.6.0->tensorflow) (0.40.0)\n",
            "Requirement already satisfied: google-auth<3,>=1.6.3 in c:\\users\\varshaa\\onedrive\\desktop\\ci_ai\\lib\\site-packages (from tensorboard<2.11,>=2.10->tensorflow) (2.17.2)\n",
            "Requirement already satisfied: werkzeug>=1.0.1 in c:\\users\\varshaa\\onedrive\\desktop\\ci_ai\\lib\\site-packages (from tensorboard<2.11,>=2.10->tensorflow) (2.2.3)\n",
            "Requirement already satisfied: markdown>=2.6.8 in c:\\users\\varshaa\\onedrive\\desktop\\ci_ai\\lib\\site-packages (from tensorboard<2.11,>=2.10->tensorflow) (3.4.3)\n",
            "Requirement already satisfied: tensorboard-data-server<0.7.0,>=0.6.0 in c:\\users\\varshaa\\onedrive\\desktop\\ci_ai\\lib\\site-packages (from tensorboard<2.11,>=2.10->tensorflow) (0.6.1)\n",
            "Requirement already satisfied: tensorboard-plugin-wit>=1.6.0 in c:\\users\\varshaa\\onedrive\\desktop\\ci_ai\\lib\\site-packages (from tensorboard<2.11,>=2.10->tensorflow) (1.8.1)\n",
            "Requirement already satisfied: requests<3,>=2.21.0 in c:\\users\\varshaa\\onedrive\\desktop\\ci_ai\\lib\\site-packages (from tensorboard<2.11,>=2.10->tensorflow) (2.28.2)\n",
            "Requirement already satisfied: google-auth-oauthlib<0.5,>=0.4.1 in c:\\users\\varshaa\\onedrive\\desktop\\ci_ai\\lib\\site-packages (from tensorboard<2.11,>=2.10->tensorflow) (0.4.6)\n",
            "Requirement already satisfied: cachetools<6.0,>=2.0.0 in c:\\users\\varshaa\\onedrive\\desktop\\ci_ai\\lib\\site-packages (from google-auth<3,>=1.6.3->tensorboard<2.11,>=2.10->tensorflow) (5.3.0)\n",
            "Requirement already satisfied: pyasn1-modules>=0.2.1 in c:\\users\\varshaa\\onedrive\\desktop\\ci_ai\\lib\\site-packages (from google-auth<3,>=1.6.3->tensorboard<2.11,>=2.10->tensorflow) (0.2.8)\n",
            "Requirement already satisfied: rsa<5,>=3.1.4 in c:\\users\\varshaa\\onedrive\\desktop\\ci_ai\\lib\\site-packages (from google-auth<3,>=1.6.3->tensorboard<2.11,>=2.10->tensorflow) (4.9)\n",
            "Requirement already satisfied: requests-oauthlib>=0.7.0 in c:\\users\\varshaa\\onedrive\\desktop\\ci_ai\\lib\\site-packages (from google-auth-oauthlib<0.5,>=0.4.1->tensorboard<2.11,>=2.10->tensorflow) (1.3.1)\n",
            "Requirement already satisfied: idna<4,>=2.5 in c:\\users\\varshaa\\onedrive\\desktop\\ci_ai\\lib\\site-packages (from requests<3,>=2.21.0->tensorboard<2.11,>=2.10->tensorflow) (3.4)\n",
            "Requirement already satisfied: urllib3<1.27,>=1.21.1 in c:\\users\\varshaa\\onedrive\\desktop\\ci_ai\\lib\\site-packages (from requests<3,>=2.21.0->tensorboard<2.11,>=2.10->tensorflow) (1.26.15)\n",
            "Requirement already satisfied: certifi>=2017.4.17 in c:\\users\\varshaa\\onedrive\\desktop\\ci_ai\\lib\\site-packages (from requests<3,>=2.21.0->tensorboard<2.11,>=2.10->tensorflow) (2022.12.7)\n",
            "Requirement already satisfied: charset-normalizer<4,>=2 in c:\\users\\varshaa\\onedrive\\desktop\\ci_ai\\lib\\site-packages (from requests<3,>=2.21.0->tensorboard<2.11,>=2.10->tensorflow) (3.1.0)\n",
            "Requirement already satisfied: MarkupSafe>=2.1.1 in c:\\users\\varshaa\\onedrive\\desktop\\ci_ai\\lib\\site-packages (from werkzeug>=1.0.1->tensorboard<2.11,>=2.10->tensorflow) (2.1.2)\n",
            "Requirement already satisfied: pyasn1<0.5.0,>=0.4.6 in c:\\users\\varshaa\\onedrive\\desktop\\ci_ai\\lib\\site-packages (from pyasn1-modules>=0.2.1->google-auth<3,>=1.6.3->tensorboard<2.11,>=2.10->tensorflow) (0.4.8)\n",
            "Requirement already satisfied: oauthlib>=3.0.0 in c:\\users\\varshaa\\onedrive\\desktop\\ci_ai\\lib\\site-packages (from requests-oauthlib>=0.7.0->google-auth-oauthlib<0.5,>=0.4.1->tensorboard<2.11,>=2.10->tensorflow) (3.2.2)\n"
          ]
        }
      ],
      "source": [
        "pip install tensorflow"
      ]
    },
    {
      "cell_type": "code",
      "execution_count": 2,
      "metadata": {},
      "outputs": [
        {
          "name": "stdout",
          "output_type": "stream",
          "text": [
            "Requirement already satisfied: tf-models-official in c:\\users\\varshaa\\onedrive\\desktop\\ci_ai\\lib\\site-packages (2.10.1)\n",
            "Requirement already satisfied: tf-slim>=1.1.0 in c:\\users\\varshaa\\onedrive\\desktop\\ci_ai\\lib\\site-packages (from tf-models-official) (1.1.0)\n",
            "Requirement already satisfied: oauth2client in c:\\users\\varshaa\\onedrive\\desktop\\ci_ai\\lib\\site-packages (from tf-models-official) (4.1.3)\n",
            "Requirement already satisfied: tensorflow-model-optimization>=0.4.1 in c:\\users\\varshaa\\onedrive\\desktop\\ci_ai\\lib\\site-packages (from tf-models-official) (0.7.4)\n",
            "Requirement already satisfied: Pillow in c:\\users\\varshaa\\onedrive\\desktop\\ci_ai\\lib\\site-packages (from tf-models-official) (9.5.0)\n",
            "Requirement already satisfied: tensorflow-addons in c:\\users\\varshaa\\onedrive\\desktop\\ci_ai\\lib\\site-packages (from tf-models-official) (0.20.0)\n",
            "Requirement already satisfied: gin-config in c:\\users\\varshaa\\onedrive\\desktop\\ci_ai\\lib\\site-packages (from tf-models-official) (0.5.0)\n",
            "Requirement already satisfied: tensorflow-hub>=0.6.0 in c:\\users\\varshaa\\onedrive\\desktop\\ci_ai\\lib\\site-packages (from tf-models-official) (0.13.0)\n",
            "Requirement already satisfied: scipy>=0.19.1 in c:\\users\\varshaa\\onedrive\\desktop\\ci_ai\\lib\\site-packages (from tf-models-official) (1.10.1)\n",
            "Requirement already satisfied: seqeval in c:\\users\\varshaa\\onedrive\\desktop\\ci_ai\\lib\\site-packages (from tf-models-official) (1.2.2)\n",
            "Requirement already satisfied: numpy>=1.20 in c:\\users\\varshaa\\onedrive\\desktop\\ci_ai\\lib\\site-packages (from tf-models-official) (1.23.5)\n",
            "Requirement already satisfied: py-cpuinfo>=3.3.0 in c:\\users\\varshaa\\onedrive\\desktop\\ci_ai\\lib\\site-packages (from tf-models-official) (9.0.0)\n",
            "Requirement already satisfied: kaggle>=1.3.9 in c:\\users\\varshaa\\onedrive\\desktop\\ci_ai\\lib\\site-packages (from tf-models-official) (1.5.13)\n",
            "Requirement already satisfied: sacrebleu==2.2.0 in c:\\users\\varshaa\\onedrive\\desktop\\ci_ai\\lib\\site-packages\\sacrebleu-2.2.0-py3.10.egg (from tf-models-official) (2.2.0)\n",
            "Requirement already satisfied: matplotlib in c:\\users\\varshaa\\onedrive\\desktop\\ci_ai\\lib\\site-packages (from tf-models-official) (3.7.1)\n",
            "Requirement already satisfied: opencv-python-headless in c:\\users\\varshaa\\onedrive\\desktop\\ci_ai\\lib\\site-packages (from tf-models-official) (4.7.0.72)\n",
            "Requirement already satisfied: google-api-python-client>=1.6.7 in c:\\users\\varshaa\\onedrive\\desktop\\ci_ai\\lib\\site-packages (from tf-models-official) (2.84.0)\n",
            "Requirement already satisfied: Cython in c:\\users\\varshaa\\onedrive\\desktop\\ci_ai\\lib\\site-packages (from tf-models-official) (0.29.34)\n",
            "Requirement already satisfied: sentencepiece in c:\\users\\varshaa\\onedrive\\desktop\\ci_ai\\lib\\site-packages (from tf-models-official) (0.1.97)\n",
            "Requirement already satisfied: pyyaml<6.0,>=5.1 in c:\\users\\varshaa\\onedrive\\desktop\\ci_ai\\lib\\site-packages (from tf-models-official) (5.4.1)\n",
            "Requirement already satisfied: pandas>=0.22.0 in c:\\users\\varshaa\\onedrive\\desktop\\ci_ai\\lib\\site-packages (from tf-models-official) (2.0.0)\n",
            "Requirement already satisfied: psutil>=5.4.3 in c:\\users\\varshaa\\onedrive\\desktop\\ci_ai\\lib\\site-packages (from tf-models-official) (5.9.4)\n",
            "Requirement already satisfied: six in c:\\users\\varshaa\\onedrive\\desktop\\ci_ai\\lib\\site-packages (from tf-models-official) (1.16.0)\n",
            "Requirement already satisfied: tensorflow~=2.10.0 in c:\\users\\varshaa\\onedrive\\desktop\\ci_ai\\lib\\site-packages (from tf-models-official) (2.10.1)\n",
            "Requirement already satisfied: tensorflow-datasets in c:\\users\\varshaa\\onedrive\\desktop\\ci_ai\\lib\\site-packages (from tf-models-official) (4.9.0)\n",
            "Requirement already satisfied: tensorflow-text~=2.10.0 in c:\\users\\varshaa\\onedrive\\desktop\\ci_ai\\lib\\site-packages (from tf-models-official) (2.10.0)\n",
            "Requirement already satisfied: immutabledict in c:\\users\\varshaa\\onedrive\\desktop\\ci_ai\\lib\\site-packages (from tf-models-official) (2.2.4)\n",
            "Requirement already satisfied: pycocotools in c:\\users\\varshaa\\onedrive\\desktop\\ci_ai\\lib\\site-packages (from tf-models-official) (2.0.6)\n",
            "Requirement already satisfied: colorama in c:\\users\\varshaa\\onedrive\\desktop\\ci_ai\\lib\\site-packages (from sacrebleu==2.2.0->tf-models-official) (0.4.6)\n",
            "Requirement already satisfied: lxml in c:\\users\\varshaa\\onedrive\\desktop\\ci_ai\\lib\\site-packages (from sacrebleu==2.2.0->tf-models-official) (4.9.2)\n",
            "Requirement already satisfied: portalocker in c:\\users\\varshaa\\onedrive\\desktop\\ci_ai\\lib\\site-packages (from sacrebleu==2.2.0->tf-models-official) (2.7.0)\n",
            "Requirement already satisfied: regex in c:\\users\\varshaa\\onedrive\\desktop\\ci_ai\\lib\\site-packages (from sacrebleu==2.2.0->tf-models-official) (2023.3.23)\n",
            "Requirement already satisfied: tabulate>=0.8.9 in c:\\users\\varshaa\\onedrive\\desktop\\ci_ai\\lib\\site-packages (from sacrebleu==2.2.0->tf-models-official) (0.9.0)\n",
            "Requirement already satisfied: google-auth-httplib2>=0.1.0 in c:\\users\\varshaa\\onedrive\\desktop\\ci_ai\\lib\\site-packages (from google-api-python-client>=1.6.7->tf-models-official) (0.1.0)\n",
            "Requirement already satisfied: google-api-core!=2.0.*,!=2.1.*,!=2.2.*,!=2.3.0,<3.0.0dev,>=1.31.5 in c:\\users\\varshaa\\onedrive\\desktop\\ci_ai\\lib\\site-packages (from google-api-python-client>=1.6.7->tf-models-official) (2.11.0)\n",
            "Requirement already satisfied: uritemplate<5,>=3.0.1 in c:\\users\\varshaa\\onedrive\\desktop\\ci_ai\\lib\\site-packages (from google-api-python-client>=1.6.7->tf-models-official) (4.1.1)\n",
            "Requirement already satisfied: httplib2<1dev,>=0.15.0 in c:\\users\\varshaa\\onedrive\\desktop\\ci_ai\\lib\\site-packages (from google-api-python-client>=1.6.7->tf-models-official) (0.22.0)\n",
            "Requirement already satisfied: google-auth<3.0.0dev,>=1.19.0 in c:\\users\\varshaa\\onedrive\\desktop\\ci_ai\\lib\\site-packages (from google-api-python-client>=1.6.7->tf-models-official) (2.17.2)\n",
            "Requirement already satisfied: python-slugify in c:\\users\\varshaa\\onedrive\\desktop\\ci_ai\\lib\\site-packages (from kaggle>=1.3.9->tf-models-official) (8.0.1)\n",
            "Requirement already satisfied: tqdm in c:\\users\\varshaa\\onedrive\\desktop\\ci_ai\\lib\\site-packages (from kaggle>=1.3.9->tf-models-official) (4.65.0)\n",
            "Requirement already satisfied: requests in c:\\users\\varshaa\\onedrive\\desktop\\ci_ai\\lib\\site-packages (from kaggle>=1.3.9->tf-models-official) (2.28.2)\n",
            "Requirement already satisfied: python-dateutil in c:\\users\\varshaa\\onedrive\\desktop\\ci_ai\\lib\\site-packages (from kaggle>=1.3.9->tf-models-official) (2.8.2)\n",
            "Requirement already satisfied: urllib3 in c:\\users\\varshaa\\onedrive\\desktop\\ci_ai\\lib\\site-packages (from kaggle>=1.3.9->tf-models-official) (1.26.15)\n",
            "Requirement already satisfied: certifi in c:\\users\\varshaa\\onedrive\\desktop\\ci_ai\\lib\\site-packages (from kaggle>=1.3.9->tf-models-official) (2022.12.7)\n",
            "Requirement already satisfied: pytz>=2020.1 in c:\\users\\varshaa\\onedrive\\desktop\\ci_ai\\lib\\site-packages (from pandas>=0.22.0->tf-models-official) (2023.3)\n",
            "Requirement already satisfied: tzdata>=2022.1 in c:\\users\\varshaa\\onedrive\\desktop\\ci_ai\\lib\\site-packages (from pandas>=0.22.0->tf-models-official) (2023.3)\n",
            "Requirement already satisfied: protobuf<3.20,>=3.9.2 in c:\\users\\varshaa\\onedrive\\desktop\\ci_ai\\lib\\site-packages (from tensorflow~=2.10.0->tf-models-official) (3.19.6)\n",
            "Requirement already satisfied: flatbuffers>=2.0 in c:\\users\\varshaa\\onedrive\\desktop\\ci_ai\\lib\\site-packages (from tensorflow~=2.10.0->tf-models-official) (23.3.3)\n",
            "Requirement already satisfied: gast<=0.4.0,>=0.2.1 in c:\\users\\varshaa\\onedrive\\desktop\\ci_ai\\lib\\site-packages (from tensorflow~=2.10.0->tf-models-official) (0.4.0)\n",
            "Requirement already satisfied: tensorflow-estimator<2.11,>=2.10.0 in c:\\users\\varshaa\\onedrive\\desktop\\ci_ai\\lib\\site-packages (from tensorflow~=2.10.0->tf-models-official) (2.10.0)\n",
            "Requirement already satisfied: grpcio<2.0,>=1.24.3 in c:\\users\\varshaa\\onedrive\\desktop\\ci_ai\\lib\\site-packages (from tensorflow~=2.10.0->tf-models-official) (1.53.0)\n",
            "Requirement already satisfied: h5py>=2.9.0 in c:\\users\\varshaa\\onedrive\\desktop\\ci_ai\\lib\\site-packages (from tensorflow~=2.10.0->tf-models-official) (3.8.0)\n",
            "Requirement already satisfied: opt-einsum>=2.3.2 in c:\\users\\varshaa\\onedrive\\desktop\\ci_ai\\lib\\site-packages (from tensorflow~=2.10.0->tf-models-official) (3.3.0)\n",
            "Requirement already satisfied: absl-py>=1.0.0 in c:\\users\\varshaa\\onedrive\\desktop\\ci_ai\\lib\\site-packages (from tensorflow~=2.10.0->tf-models-official) (1.4.0)\n",
            "Requirement already satisfied: tensorboard<2.11,>=2.10 in c:\\users\\varshaa\\onedrive\\desktop\\ci_ai\\lib\\site-packages (from tensorflow~=2.10.0->tf-models-official) (2.10.1)\n",
            "Requirement already satisfied: keras-preprocessing>=1.1.1 in c:\\users\\varshaa\\onedrive\\desktop\\ci_ai\\lib\\site-packages (from tensorflow~=2.10.0->tf-models-official) (1.1.2)\n",
            "Requirement already satisfied: typing-extensions>=3.6.6 in c:\\users\\varshaa\\onedrive\\desktop\\ci_ai\\lib\\site-packages (from tensorflow~=2.10.0->tf-models-official) (4.5.0)\n",
            "Requirement already satisfied: wrapt>=1.11.0 in c:\\users\\varshaa\\onedrive\\desktop\\ci_ai\\lib\\site-packages (from tensorflow~=2.10.0->tf-models-official) (1.14.1)\n",
            "Requirement already satisfied: termcolor>=1.1.0 in c:\\users\\varshaa\\onedrive\\desktop\\ci_ai\\lib\\site-packages (from tensorflow~=2.10.0->tf-models-official) (2.2.0)\n",
            "Requirement already satisfied: keras<2.11,>=2.10.0 in c:\\users\\varshaa\\onedrive\\desktop\\ci_ai\\lib\\site-packages (from tensorflow~=2.10.0->tf-models-official) (2.10.0)\n",
            "Requirement already satisfied: libclang>=13.0.0 in c:\\users\\varshaa\\onedrive\\desktop\\ci_ai\\lib\\site-packages (from tensorflow~=2.10.0->tf-models-official) (16.0.0)\n",
            "Requirement already satisfied: tensorflow-io-gcs-filesystem>=0.23.1 in c:\\users\\varshaa\\onedrive\\desktop\\ci_ai\\lib\\site-packages (from tensorflow~=2.10.0->tf-models-official) (0.31.0)\n",
            "Requirement already satisfied: astunparse>=1.6.0 in c:\\users\\varshaa\\onedrive\\desktop\\ci_ai\\lib\\site-packages (from tensorflow~=2.10.0->tf-models-official) (1.6.3)\n",
            "Requirement already satisfied: packaging in c:\\users\\varshaa\\onedrive\\desktop\\ci_ai\\lib\\site-packages (from tensorflow~=2.10.0->tf-models-official) (23.0)\n",
            "Requirement already satisfied: setuptools in c:\\users\\varshaa\\onedrive\\desktop\\ci_ai\\lib\\site-packages (from tensorflow~=2.10.0->tf-models-official) (58.1.0)\n",
            "Requirement already satisfied: google-pasta>=0.1.1 in c:\\users\\varshaa\\onedrive\\desktop\\ci_ai\\lib\\site-packages (from tensorflow~=2.10.0->tf-models-official) (0.2.0)\n",
            "Requirement already satisfied: dm-tree~=0.1.1 in c:\\users\\varshaa\\onedrive\\desktop\\ci_ai\\lib\\site-packages (from tensorflow-model-optimization>=0.4.1->tf-models-official) (0.1.8)\n",
            "Requirement already satisfied: kiwisolver>=1.0.1 in c:\\users\\varshaa\\onedrive\\desktop\\ci_ai\\lib\\site-packages (from matplotlib->tf-models-official) (1.4.4)\n",
            "Requirement already satisfied: fonttools>=4.22.0 in c:\\users\\varshaa\\onedrive\\desktop\\ci_ai\\lib\\site-packages (from matplotlib->tf-models-official) (4.39.3)\n",
            "Requirement already satisfied: cycler>=0.10 in c:\\users\\varshaa\\onedrive\\desktop\\ci_ai\\lib\\site-packages (from matplotlib->tf-models-official) (0.11.0)\n",
            "Requirement already satisfied: pyparsing>=2.3.1 in c:\\users\\varshaa\\onedrive\\desktop\\ci_ai\\lib\\site-packages\\pyparsing-2.4.7-py3.10.egg (from matplotlib->tf-models-official) (2.4.7)\n",
            "Requirement already satisfied: contourpy>=1.0.1 in c:\\users\\varshaa\\onedrive\\desktop\\ci_ai\\lib\\site-packages (from matplotlib->tf-models-official) (1.0.7)\n",
            "Requirement already satisfied: pyasn1-modules>=0.0.5 in c:\\users\\varshaa\\onedrive\\desktop\\ci_ai\\lib\\site-packages (from oauth2client->tf-models-official) (0.2.8)\n",
            "Requirement already satisfied: rsa>=3.1.4 in c:\\users\\varshaa\\onedrive\\desktop\\ci_ai\\lib\\site-packages (from oauth2client->tf-models-official) (4.9)\n",
            "Requirement already satisfied: pyasn1>=0.1.7 in c:\\users\\varshaa\\onedrive\\desktop\\ci_ai\\lib\\site-packages (from oauth2client->tf-models-official) (0.4.8)\n",
            "Requirement already satisfied: scikit-learn>=0.21.3 in c:\\users\\varshaa\\onedrive\\desktop\\ci_ai\\lib\\site-packages (from seqeval->tf-models-official) (1.2.2)\n",
            "Requirement already satisfied: typeguard<3.0.0,>=2.7 in c:\\users\\varshaa\\onedrive\\desktop\\ci_ai\\lib\\site-packages (from tensorflow-addons->tf-models-official) (2.13.3)\n",
            "Requirement already satisfied: click in c:\\users\\varshaa\\onedrive\\desktop\\ci_ai\\lib\\site-packages (from tensorflow-datasets->tf-models-official) (8.1.3)\n",
            "Requirement already satisfied: array-record in c:\\users\\varshaa\\onedrive\\desktop\\ci_ai\\lib\\site-packages (from tensorflow-datasets->tf-models-official) (0.2.0)\n",
            "Requirement already satisfied: toml in c:\\users\\varshaa\\onedrive\\desktop\\ci_ai\\lib\\site-packages (from tensorflow-datasets->tf-models-official) (0.10.2)\n",
            "Requirement already satisfied: tensorflow-metadata in c:\\users\\varshaa\\onedrive\\desktop\\ci_ai\\lib\\site-packages (from tensorflow-datasets->tf-models-official) (1.13.0)\n",
            "Requirement already satisfied: etils[enp,epath]>=0.9.0 in c:\\users\\varshaa\\onedrive\\desktop\\ci_ai\\lib\\site-packages (from tensorflow-datasets->tf-models-official) (1.2.0)\n",
            "Requirement already satisfied: promise in c:\\users\\varshaa\\onedrive\\desktop\\ci_ai\\lib\\site-packages (from tensorflow-datasets->tf-models-official) (2.3)\n",
            "Requirement already satisfied: wheel<1.0,>=0.23.0 in c:\\users\\varshaa\\onedrive\\desktop\\ci_ai\\lib\\site-packages (from astunparse>=1.6.0->tensorflow~=2.10.0->tf-models-official) (0.40.0)\n",
            "Requirement already satisfied: zipp in c:\\users\\varshaa\\onedrive\\desktop\\ci_ai\\lib\\site-packages (from etils[enp,epath]>=0.9.0->tensorflow-datasets->tf-models-official) (3.15.0)\n",
            "Requirement already satisfied: importlib_resources in c:\\users\\varshaa\\onedrive\\desktop\\ci_ai\\lib\\site-packages (from etils[enp,epath]>=0.9.0->tensorflow-datasets->tf-models-official) (5.12.0)\n",
            "Requirement already satisfied: googleapis-common-protos<2.0dev,>=1.56.2 in c:\\users\\varshaa\\onedrive\\desktop\\ci_ai\\lib\\site-packages (from google-api-core!=2.0.*,!=2.1.*,!=2.2.*,!=2.3.0,<3.0.0dev,>=1.31.5->google-api-python-client>=1.6.7->tf-models-official) (1.59.0)\n",
            "Requirement already satisfied: cachetools<6.0,>=2.0.0 in c:\\users\\varshaa\\onedrive\\desktop\\ci_ai\\lib\\site-packages (from google-auth<3.0.0dev,>=1.19.0->google-api-python-client>=1.6.7->tf-models-official) (5.3.0)\n",
            "Requirement already satisfied: idna<4,>=2.5 in c:\\users\\varshaa\\onedrive\\desktop\\ci_ai\\lib\\site-packages (from requests->kaggle>=1.3.9->tf-models-official) (3.4)\n",
            "Requirement already satisfied: charset-normalizer<4,>=2 in c:\\users\\varshaa\\onedrive\\desktop\\ci_ai\\lib\\site-packages (from requests->kaggle>=1.3.9->tf-models-official) (3.1.0)\n",
            "Requirement already satisfied: threadpoolctl>=2.0.0 in c:\\users\\varshaa\\onedrive\\desktop\\ci_ai\\lib\\site-packages (from scikit-learn>=0.21.3->seqeval->tf-models-official) (3.1.0)\n",
            "Requirement already satisfied: joblib>=1.1.1 in c:\\users\\varshaa\\onedrive\\desktop\\ci_ai\\lib\\site-packages (from scikit-learn>=0.21.3->seqeval->tf-models-official) (1.2.0)\n",
            "Requirement already satisfied: tensorboard-plugin-wit>=1.6.0 in c:\\users\\varshaa\\onedrive\\desktop\\ci_ai\\lib\\site-packages (from tensorboard<2.11,>=2.10->tensorflow~=2.10.0->tf-models-official) (1.8.1)\n",
            "Requirement already satisfied: werkzeug>=1.0.1 in c:\\users\\varshaa\\onedrive\\desktop\\ci_ai\\lib\\site-packages (from tensorboard<2.11,>=2.10->tensorflow~=2.10.0->tf-models-official) (2.2.3)\n",
            "Requirement already satisfied: google-auth-oauthlib<0.5,>=0.4.1 in c:\\users\\varshaa\\onedrive\\desktop\\ci_ai\\lib\\site-packages (from tensorboard<2.11,>=2.10->tensorflow~=2.10.0->tf-models-official) (0.4.6)\n",
            "Requirement already satisfied: markdown>=2.6.8 in c:\\users\\varshaa\\onedrive\\desktop\\ci_ai\\lib\\site-packages (from tensorboard<2.11,>=2.10->tensorflow~=2.10.0->tf-models-official) (3.4.3)\n",
            "Requirement already satisfied: tensorboard-data-server<0.7.0,>=0.6.0 in c:\\users\\varshaa\\onedrive\\desktop\\ci_ai\\lib\\site-packages (from tensorboard<2.11,>=2.10->tensorflow~=2.10.0->tf-models-official) (0.6.1)\n",
            "Requirement already satisfied: pywin32>=226 in c:\\users\\varshaa\\onedrive\\desktop\\ci_ai\\lib\\site-packages (from portalocker->sacrebleu==2.2.0->tf-models-official) (306)\n",
            "Requirement already satisfied: text-unidecode>=1.3 in c:\\users\\varshaa\\onedrive\\desktop\\ci_ai\\lib\\site-packages (from python-slugify->kaggle>=1.3.9->tf-models-official) (1.3)\n",
            "Requirement already satisfied: requests-oauthlib>=0.7.0 in c:\\users\\varshaa\\onedrive\\desktop\\ci_ai\\lib\\site-packages (from google-auth-oauthlib<0.5,>=0.4.1->tensorboard<2.11,>=2.10->tensorflow~=2.10.0->tf-models-official) (1.3.1)\n",
            "Requirement already satisfied: MarkupSafe>=2.1.1 in c:\\users\\varshaa\\onedrive\\desktop\\ci_ai\\lib\\site-packages (from werkzeug>=1.0.1->tensorboard<2.11,>=2.10->tensorflow~=2.10.0->tf-models-official) (2.1.2)\n",
            "Requirement already satisfied: oauthlib>=3.0.0 in c:\\users\\varshaa\\onedrive\\desktop\\ci_ai\\lib\\site-packages (from requests-oauthlib>=0.7.0->google-auth-oauthlib<0.5,>=0.4.1->tensorboard<2.11,>=2.10->tensorflow~=2.10.0->tf-models-official) (3.2.2)\n",
            "Note: you may need to restart the kernel to use updated packages.\n"
          ]
        },
        {
          "name": "stderr",
          "output_type": "stream",
          "text": [
            "WARNING: Ignoring invalid distribution -pencv-python (c:\\users\\varshaa\\onedrive\\desktop\\ci_ai\\lib\\site-packages)\n",
            "WARNING: Ignoring invalid distribution -pencv-python (c:\\users\\varshaa\\onedrive\\desktop\\ci_ai\\lib\\site-packages)\n",
            "WARNING: Ignoring invalid distribution -pencv-python (c:\\users\\varshaa\\onedrive\\desktop\\ci_ai\\lib\\site-packages)\n",
            "WARNING: Ignoring invalid distribution -pencv-python (c:\\users\\varshaa\\onedrive\\desktop\\ci_ai\\lib\\site-packages)\n",
            "WARNING: Ignoring invalid distribution -pencv-python (c:\\users\\varshaa\\onedrive\\desktop\\ci_ai\\lib\\site-packages)\n",
            "WARNING: Ignoring invalid distribution -pencv-python (c:\\users\\varshaa\\onedrive\\desktop\\ci_ai\\lib\\site-packages)\n",
            "WARNING: You are using pip version 22.0.4; however, version 23.1.2 is available.\n",
            "You should consider upgrading via the 'c:\\Users\\Varshaa\\OneDrive\\Desktop\\CI_AI\\Scripts\\python.exe -m pip install --upgrade pip' command.\n"
          ]
        }
      ],
      "source": [
        "pip install tf-models-official\n"
      ]
    },
    {
      "cell_type": "code",
      "execution_count": 3,
      "metadata": {},
      "outputs": [
        {
          "name": "stdout",
          "output_type": "stream",
          "text": [
            "Requirement already satisfied: pycocotools in c:\\users\\varshaa\\onedrive\\desktop\\ci_ai\\lib\\site-packages (2.0.6)"
          ]
        },
        {
          "name": "stderr",
          "output_type": "stream",
          "text": [
            "WARNING: Ignoring invalid distribution -pencv-python (c:\\users\\varshaa\\onedrive\\desktop\\ci_ai\\lib\\site-packages)\n",
            "WARNING: Ignoring invalid distribution -pencv-python (c:\\users\\varshaa\\onedrive\\desktop\\ci_ai\\lib\\site-packages)\n",
            "WARNING: Ignoring invalid distribution -pencv-python (c:\\users\\varshaa\\onedrive\\desktop\\ci_ai\\lib\\site-packages)\n",
            "WARNING: Ignoring invalid distribution -pencv-python (c:\\users\\varshaa\\onedrive\\desktop\\ci_ai\\lib\\site-packages)\n",
            "WARNING: Ignoring invalid distribution -pencv-python (c:\\users\\varshaa\\onedrive\\desktop\\ci_ai\\lib\\site-packages)\n",
            "WARNING: Ignoring invalid distribution -pencv-python (c:\\users\\varshaa\\onedrive\\desktop\\ci_ai\\lib\\site-packages)\n",
            "WARNING: You are using pip version 22.0.4; however, version 23.1.2 is available.\n",
            "You should consider upgrading via the 'C:\\Users\\Varshaa\\OneDrive\\Desktop\\CI_AI\\Scripts\\python.exe -m pip install --upgrade pip' command.\n"
          ]
        },
        {
          "name": "stdout",
          "output_type": "stream",
          "text": [
            "\n",
            "Requirement already satisfied: numpy in c:\\users\\varshaa\\onedrive\\desktop\\ci_ai\\lib\\site-packages (from pycocotools) (1.23.5)\n",
            "Requirement already satisfied: matplotlib>=2.1.0 in c:\\users\\varshaa\\onedrive\\desktop\\ci_ai\\lib\\site-packages (from pycocotools) (3.7.1)\n",
            "Requirement already satisfied: kiwisolver>=1.0.1 in c:\\users\\varshaa\\onedrive\\desktop\\ci_ai\\lib\\site-packages (from matplotlib>=2.1.0->pycocotools) (1.4.4)\n",
            "Requirement already satisfied: cycler>=0.10 in c:\\users\\varshaa\\onedrive\\desktop\\ci_ai\\lib\\site-packages (from matplotlib>=2.1.0->pycocotools) (0.11.0)\n",
            "Requirement already satisfied: packaging>=20.0 in c:\\users\\varshaa\\onedrive\\desktop\\ci_ai\\lib\\site-packages (from matplotlib>=2.1.0->pycocotools) (23.0)\n",
            "Requirement already satisfied: contourpy>=1.0.1 in c:\\users\\varshaa\\onedrive\\desktop\\ci_ai\\lib\\site-packages (from matplotlib>=2.1.0->pycocotools) (1.0.7)\n",
            "Requirement already satisfied: pillow>=6.2.0 in c:\\users\\varshaa\\onedrive\\desktop\\ci_ai\\lib\\site-packages (from matplotlib>=2.1.0->pycocotools) (9.5.0)\n",
            "Requirement already satisfied: pyparsing>=2.3.1 in c:\\users\\varshaa\\onedrive\\desktop\\ci_ai\\lib\\site-packages\\pyparsing-2.4.7-py3.10.egg (from matplotlib>=2.1.0->pycocotools) (2.4.7)\n",
            "Requirement already satisfied: fonttools>=4.22.0 in c:\\users\\varshaa\\onedrive\\desktop\\ci_ai\\lib\\site-packages (from matplotlib>=2.1.0->pycocotools) (4.39.3)\n",
            "Requirement already satisfied: python-dateutil>=2.7 in c:\\users\\varshaa\\onedrive\\desktop\\ci_ai\\lib\\site-packages (from matplotlib>=2.1.0->pycocotools) (2.8.2)\n",
            "Requirement already satisfied: six>=1.5 in c:\\users\\varshaa\\onedrive\\desktop\\ci_ai\\lib\\site-packages (from python-dateutil>=2.7->matplotlib>=2.1.0->pycocotools) (1.16.0)\n"
          ]
        }
      ],
      "source": [
        "!pip install pycocotools"
      ]
    },
    {
      "cell_type": "code",
      "execution_count": 1,
      "metadata": {
        "id": "howRGZLbncW2",
        "outputId": "37cd3b52-384d-4f6f-8920-7eb0f8a8d295"
      },
      "outputs": [
        {
          "name": "stdout",
          "output_type": "stream",
          "text": [
            "2.10.1\n"
          ]
        }
      ],
      "source": [
        "import tensorflow\n",
        "print(tensorflow.__version__)"
      ]
    },
    {
      "cell_type": "code",
      "execution_count": 2,
      "metadata": {
        "id": "146BB11JpfDA"
      },
      "outputs": [],
      "source": [
        "import os"
      ]
    },
    {
      "cell_type": "code",
      "execution_count": 3,
      "metadata": {
        "id": "42hJEdo_pfDB"
      },
      "outputs": [],
      "source": [
        "CUSTOM_MODEL_NAME = 'Face_Detection' \n",
        "PRETRAINED_MODEL_NAME = 'ssd_mobilenet_v2_fpnlite_320x320_coco17_tpu-8'\n",
        "PRETRAINED_MODEL_URL = 'http://download.tensorflow.org/models/object_detection/tf2/20200711/ssd_mobilenet_v2_fpnlite_320x320_coco17_tpu-8.tar.gz'\n",
        "TF_RECORD_SCRIPT_NAME = 'generate_tfrecord.py'\n",
        "LABEL_MAP_NAME = 'label_map.pbtxt'"
      ]
    },
    {
      "cell_type": "code",
      "execution_count": 4,
      "metadata": {
        "id": "hbPhYVy_pfDB"
      },
      "outputs": [],
      "source": [
        "paths = {\n",
        "    'WORKSPACE_PATH': os.path.join('Tensorflow', 'workspace'),\n",
        "    'SCRIPTS_PATH': os.path.join('Tensorflow','scripts'),\n",
        "    'APIMODEL_PATH': os.path.join('Tensorflow','models'),\n",
        "    'ANNOTATION_PATH': os.path.join('Tensorflow', 'workspace','annotations'),\n",
        "    'IMAGE_PATH': os.path.join('Tensorflow', 'workspace','images'),\n",
        "    'MODEL_PATH': os.path.join('Tensorflow', 'workspace','models'),\n",
        "    'PRETRAINED_MODEL_PATH': os.path.join('Tensorflow', 'workspace','pre-trained-models'),\n",
        "    'CHECKPOINT_PATH': os.path.join('Tensorflow', 'workspace','models',CUSTOM_MODEL_NAME), \n",
        "    'OUTPUT_PATH': os.path.join('Tensorflow', 'workspace','models',CUSTOM_MODEL_NAME, 'export'), \n",
        "    'TFJS_PATH':os.path.join('Tensorflow', 'workspace','models',CUSTOM_MODEL_NAME, 'tfjsexport'), \n",
        "    'TFLITE_PATH':os.path.join('Tensorflow', 'workspace','models',CUSTOM_MODEL_NAME, 'tfliteexport'), \n",
        "    'PROTOC_PATH':os.path.join('Tensorflow','protoc')\n",
        " }"
      ]
    },
    {
      "cell_type": "code",
      "execution_count": 5,
      "metadata": {
        "id": "LwhWZMI0pfDC"
      },
      "outputs": [],
      "source": [
        "files = {\n",
        "    'PIPELINE_CONFIG':os.path.join('Tensorflow', 'workspace','models', CUSTOM_MODEL_NAME, 'pipeline.config'),\n",
        "    'TF_RECORD_SCRIPT': os.path.join(paths['SCRIPTS_PATH'], TF_RECORD_SCRIPT_NAME), \n",
        "    'LABELMAP': os.path.join(paths['ANNOTATION_PATH'], LABEL_MAP_NAME)\n",
        "}"
      ]
    },
    {
      "cell_type": "code",
      "execution_count": 6,
      "metadata": {
        "id": "HR-TfDGrpfDC"
      },
      "outputs": [],
      "source": [
        "for path in paths.values():\n",
        "    if not os.path.exists(path):\n",
        "        if os.name == 'posix':\n",
        "            !mkdir -p {path}\n",
        "        if os.name == 'nt':\n",
        "            !mkdir {path}"
      ]
    },
    {
      "cell_type": "markdown",
      "metadata": {
        "id": "OLU-rs_ipfDE"
      },
      "source": [
        "# 1. Download TF Models (Pretrained Models) from Tensorflow Model Zoo and Install TFOD"
      ]
    },
    {
      "cell_type": "code",
      "execution_count": 10,
      "metadata": {
        "id": "mvh_ecXencW6"
      },
      "outputs": [],
      "source": [
        "# https://www.tensorflow.org/install/source_windows"
      ]
    },
    {
      "cell_type": "code",
      "execution_count": 10,
      "metadata": {
        "id": "K-Cmz2edpfDE",
        "outputId": "64503216-f4c1-477a-b4db-192af0196ca0",
        "scrolled": true
      },
      "outputs": [
        {
          "name": "stdout",
          "output_type": "stream",
          "text": [
            "Requirement already satisfied: wget in c:\\users\\varshaa\\onedrive\\desktop\\ci_ai\\lib\\site-packages (3.2)\n"
          ]
        },
        {
          "name": "stderr",
          "output_type": "stream",
          "text": [
            "WARNING: Ignoring invalid distribution -pencv-python (c:\\users\\varshaa\\onedrive\\desktop\\ci_ai\\lib\\site-packages)\n",
            "WARNING: Ignoring invalid distribution -pencv-python (c:\\users\\varshaa\\onedrive\\desktop\\ci_ai\\lib\\site-packages)\n",
            "WARNING: Ignoring invalid distribution -pencv-python (c:\\users\\varshaa\\onedrive\\desktop\\ci_ai\\lib\\site-packages)\n",
            "WARNING: Ignoring invalid distribution -pencv-python (c:\\users\\varshaa\\onedrive\\desktop\\ci_ai\\lib\\site-packages)\n",
            "WARNING: Ignoring invalid distribution -pencv-python (c:\\users\\varshaa\\onedrive\\desktop\\ci_ai\\lib\\site-packages)\n",
            "WARNING: Ignoring invalid distribution -pencv-python (c:\\users\\varshaa\\onedrive\\desktop\\ci_ai\\lib\\site-packages)\n",
            "WARNING: You are using pip version 22.0.4; however, version 23.1.2 is available.\n",
            "You should consider upgrading via the 'C:\\Users\\Varshaa\\OneDrive\\Desktop\\CI_AI\\Scripts\\python.exe -m pip install --upgrade pip' command.\n"
          ]
        }
      ],
      "source": [
        "if os.name=='nt':\n",
        "    !pip install wget\n",
        "    import wget"
      ]
    },
    {
      "cell_type": "code",
      "execution_count": 11,
      "metadata": {
        "id": "Il9DLFyVncW6",
        "outputId": "b6f24690-ef33-4c39-a434-89802289f50b"
      },
      "outputs": [
        {
          "name": "stdout",
          "output_type": "stream",
          "text": [
            "Requirement already satisfied: python-git in c:\\users\\varshaa\\onedrive\\desktop\\ci_ai\\lib\\site-packages (2018.2.1)\n",
            "Requirement already satisfied: send2trash in c:\\users\\varshaa\\onedrive\\desktop\\ci_ai\\lib\\site-packages (from python-git) (1.8.0)\n",
            "Note: you may need to restart the kernel to use updated packages.\n"
          ]
        },
        {
          "name": "stderr",
          "output_type": "stream",
          "text": [
            "WARNING: Ignoring invalid distribution -pencv-python (c:\\users\\varshaa\\onedrive\\desktop\\ci_ai\\lib\\site-packages)\n",
            "WARNING: Ignoring invalid distribution -pencv-python (c:\\users\\varshaa\\onedrive\\desktop\\ci_ai\\lib\\site-packages)\n",
            "WARNING: Ignoring invalid distribution -pencv-python (c:\\users\\varshaa\\onedrive\\desktop\\ci_ai\\lib\\site-packages)\n",
            "WARNING: Ignoring invalid distribution -pencv-python (c:\\users\\varshaa\\onedrive\\desktop\\ci_ai\\lib\\site-packages)\n",
            "WARNING: Ignoring invalid distribution -pencv-python (c:\\users\\varshaa\\onedrive\\desktop\\ci_ai\\lib\\site-packages)\n",
            "WARNING: Ignoring invalid distribution -pencv-python (c:\\users\\varshaa\\onedrive\\desktop\\ci_ai\\lib\\site-packages)\n",
            "WARNING: You are using pip version 22.0.4; however, version 23.1.2 is available.\n",
            "You should consider upgrading via the 'c:\\Users\\Varshaa\\OneDrive\\Desktop\\CI_AI\\Scripts\\python.exe -m pip install --upgrade pip' command.\n"
          ]
        }
      ],
      "source": [
        "pip install python-git"
      ]
    },
    {
      "cell_type": "code",
      "execution_count": 12,
      "metadata": {
        "id": "iA1DIq5OpfDE",
        "outputId": "6da9d545-2527-4d8e-d1da-0ba2dfbc24d6"
      },
      "outputs": [],
      "source": [
        "if not os.path.exists(os.path.join(paths['APIMODEL_PATH'], 'research', 'object_detection')):\n",
        "    !git clone https://github.com/tensorflow/models {paths['APIMODEL_PATH']}"
      ]
    },
    {
      "cell_type": "code",
      "execution_count": 13,
      "metadata": {
        "id": "rJjMHbnDs3Tv",
        "outputId": "40802258-fa30-416b-e959-518a36f0d8d5"
      },
      "outputs": [
        {
          "name": "stdout",
          "output_type": "stream",
          "text": [
            "        1 file(s) moved.\n",
            "^C\n"
          ]
        }
      ],
      "source": [
        "# Install Tensorflow Object Detection \n",
        "if os.name=='posix':  \n",
        "    !apt-get install protobuf-compiler\n",
        "    !cd Tensorflow/models/research && protoc object_detection/protos/*.proto --python_out=. && cp object_detection/packages/tf2/setup.py . && python -m pip install . \n",
        "    \n",
        "if os.name=='nt':\n",
        "    url=\"https://github.com/protocolbuffers/protobuf/releases/download/v3.15.6/protoc-3.15.6-win64.zip\"\n",
        "    wget.download(url)\n",
        "    !move protoc-3.15.6-win64.zip {paths['PROTOC_PATH']}\n",
        "    !cd {paths['PROTOC_PATH']} && tar -xf protoc-3.15.6-win64.zip\n",
        "    os.environ['PATH'] += os.pathsep + os.path.abspath(os.path.join(paths['PROTOC_PATH'], 'bin'))   \n",
        "    !cd Tensorflow/models/research && protoc object_detection/protos/*.proto --python_out=. && copy object_detection\\\\packages\\\\tf2\\\\setup.py setup.py && python setup.py build && python setup.py install\n",
        "    !cd Tensorflow/models/research/slim && pip install -e . "
      ]
    },
    {
      "cell_type": "code",
      "execution_count": 15,
      "metadata": {
        "id": "3LwRIkNWncW8",
        "outputId": "2cd54667-67f8-43d1-d3be-636927bc773d"
      },
      "outputs": [
        {
          "name": "stdout",
          "output_type": "stream",
          "text": [
            "Requirement already satisfied: setuptools in c:\\users\\varshaa\\onedrive\\desktop\\ci_ai\\lib\\site-packages (58.1.0)\n",
            "Note: you may need to restart the kernel to use updated packages.\n"
          ]
        },
        {
          "name": "stderr",
          "output_type": "stream",
          "text": [
            "WARNING: Ignoring invalid distribution -pencv-python (c:\\users\\varshaa\\onedrive\\desktop\\ci_ai\\lib\\site-packages)\n",
            "WARNING: Ignoring invalid distribution -pencv-python (c:\\users\\varshaa\\onedrive\\desktop\\ci_ai\\lib\\site-packages)\n",
            "WARNING: Ignoring invalid distribution -pencv-python (c:\\users\\varshaa\\onedrive\\desktop\\ci_ai\\lib\\site-packages)\n",
            "WARNING: Ignoring invalid distribution -pencv-python (c:\\users\\varshaa\\onedrive\\desktop\\ci_ai\\lib\\site-packages)\n",
            "WARNING: Ignoring invalid distribution -pencv-python (c:\\users\\varshaa\\onedrive\\desktop\\ci_ai\\lib\\site-packages)\n",
            "WARNING: Ignoring invalid distribution -pencv-python (c:\\users\\varshaa\\onedrive\\desktop\\ci_ai\\lib\\site-packages)\n",
            "WARNING: You are using pip version 22.0.4; however, version 23.1 is available.\n",
            "You should consider upgrading via the 'c:\\Users\\Varshaa\\OneDrive\\Desktop\\CI_AI\\Scripts\\python.exe -m pip install --upgrade pip' command.\n"
          ]
        }
      ],
      "source": [
        "pip install setuptools"
      ]
    },
    {
      "cell_type": "code",
      "execution_count": 16,
      "metadata": {
        "id": "fV1ATwJancW8",
        "outputId": "2b175ef6-7916-438d-ec74-3e763b454a2d"
      },
      "outputs": [
        {
          "name": "stdout",
          "output_type": "stream",
          "text": [
            "Requirement already satisfied: pycocotools in c:\\users\\varshaa\\onedrive\\desktop\\ci_ai\\lib\\site-packages (2.0.6)\n",
            "Requirement already satisfied: matplotlib>=2.1.0 in c:\\users\\varshaa\\onedrive\\desktop\\ci_ai\\lib\\site-packages (from pycocotools) (3.7.1)\n",
            "Requirement already satisfied: numpy in c:\\users\\varshaa\\onedrive\\desktop\\ci_ai\\lib\\site-packages (from pycocotools) (1.23.5)\n",
            "Requirement already satisfied: pillow>=6.2.0 in c:\\users\\varshaa\\onedrive\\desktop\\ci_ai\\lib\\site-packages (from matplotlib>=2.1.0->pycocotools) (9.5.0)\n",
            "Requirement already satisfied: python-dateutil>=2.7 in c:\\users\\varshaa\\onedrive\\desktop\\ci_ai\\lib\\site-packages (from matplotlib>=2.1.0->pycocotools) (2.8.2)\n",
            "Requirement already satisfied: contourpy>=1.0.1 in c:\\users\\varshaa\\onedrive\\desktop\\ci_ai\\lib\\site-packages (from matplotlib>=2.1.0->pycocotools) (1.0.7)\n",
            "Requirement already satisfied: fonttools>=4.22.0 in c:\\users\\varshaa\\onedrive\\desktop\\ci_ai\\lib\\site-packages (from matplotlib>=2.1.0->pycocotools) (4.39.3)\n",
            "Requirement already satisfied: pyparsing>=2.3.1 in c:\\users\\varshaa\\onedrive\\desktop\\ci_ai\\lib\\site-packages\\pyparsing-2.4.7-py3.10.egg (from matplotlib>=2.1.0->pycocotools) (2.4.7)\n",
            "Requirement already satisfied: cycler>=0.10 in c:\\users\\varshaa\\onedrive\\desktop\\ci_ai\\lib\\site-packages (from matplotlib>=2.1.0->pycocotools) (0.11.0)\n",
            "Requirement already satisfied: packaging>=20.0 in c:\\users\\varshaa\\onedrive\\desktop\\ci_ai\\lib\\site-packages (from matplotlib>=2.1.0->pycocotools) (23.0)\n",
            "Requirement already satisfied: kiwisolver>=1.0.1 in c:\\users\\varshaa\\onedrive\\desktop\\ci_ai\\lib\\site-packages (from matplotlib>=2.1.0->pycocotools) (1.4.4)\n",
            "Requirement already satisfied: six>=1.5 in c:\\users\\varshaa\\onedrive\\desktop\\ci_ai\\lib\\site-packages (from python-dateutil>=2.7->matplotlib>=2.1.0->pycocotools) (1.16.0)\n",
            "Note: you may need to restart the kernel to use updated packages.\n"
          ]
        },
        {
          "name": "stderr",
          "output_type": "stream",
          "text": [
            "WARNING: Ignoring invalid distribution -pencv-python (c:\\users\\varshaa\\onedrive\\desktop\\ci_ai\\lib\\site-packages)\n",
            "WARNING: Ignoring invalid distribution -pencv-python (c:\\users\\varshaa\\onedrive\\desktop\\ci_ai\\lib\\site-packages)\n",
            "WARNING: Ignoring invalid distribution -pencv-python (c:\\users\\varshaa\\onedrive\\desktop\\ci_ai\\lib\\site-packages)\n",
            "WARNING: Ignoring invalid distribution -pencv-python (c:\\users\\varshaa\\onedrive\\desktop\\ci_ai\\lib\\site-packages)\n",
            "WARNING: Ignoring invalid distribution -pencv-python (c:\\users\\varshaa\\onedrive\\desktop\\ci_ai\\lib\\site-packages)\n",
            "WARNING: Ignoring invalid distribution -pencv-python (c:\\users\\varshaa\\onedrive\\desktop\\ci_ai\\lib\\site-packages)\n",
            "WARNING: You are using pip version 22.0.4; however, version 23.1 is available.\n",
            "You should consider upgrading via the 'c:\\Users\\Varshaa\\OneDrive\\Desktop\\CI_AI\\Scripts\\python.exe -m pip install --upgrade pip' command.\n"
          ]
        }
      ],
      "source": [
        "pip install  pycocotools"
      ]
    },
    {
      "cell_type": "code",
      "execution_count": 17,
      "metadata": {
        "id": "vKxs3gTuncW8",
        "outputId": "0a241881-d3bc-45c9-ee75-b4dbe10277be"
      },
      "outputs": [
        {
          "name": "stdout",
          "output_type": "stream",
          "text": [
            "Requirement already satisfied: pyyaml in c:\\users\\varshaa\\onedrive\\desktop\\ci_ai\\lib\\site-packages (5.4.1)\n"
          ]
        },
        {
          "name": "stderr",
          "output_type": "stream",
          "text": [
            "WARNING: Ignoring invalid distribution -pencv-python (c:\\users\\varshaa\\onedrive\\desktop\\ci_ai\\lib\\site-packages)\n",
            "WARNING: Ignoring invalid distribution -pencv-python (c:\\users\\varshaa\\onedrive\\desktop\\ci_ai\\lib\\site-packages)\n",
            "WARNING: Ignoring invalid distribution -pencv-python (c:\\users\\varshaa\\onedrive\\desktop\\ci_ai\\lib\\site-packages)\n",
            "WARNING: Ignoring invalid distribution -pencv-python (c:\\users\\varshaa\\onedrive\\desktop\\ci_ai\\lib\\site-packages)\n",
            "WARNING: Ignoring invalid distribution -pencv-python (c:\\users\\varshaa\\onedrive\\desktop\\ci_ai\\lib\\site-packages)\n",
            "WARNING: Ignoring invalid distribution -pencv-python (c:\\users\\varshaa\\onedrive\\desktop\\ci_ai\\lib\\site-packages)\n",
            "WARNING: You are using pip version 22.0.4; however, version 23.1 is available.\n",
            "You should consider upgrading via the 'C:\\Users\\Varshaa\\OneDrive\\Desktop\\CI_AI\\Scripts\\python.exe -m pip install --upgrade pip' command.\n"
          ]
        }
      ],
      "source": [
        "!pip install pyyaml"
      ]
    },
    {
      "cell_type": "code",
      "execution_count": 18,
      "metadata": {
        "id": "GBEII0-3ncW8",
        "outputId": "4cae7b02-f963-4827-d2c9-8f5d43ec962e"
      },
      "outputs": [
        {
          "name": "stdout",
          "output_type": "stream",
          "text": [
            "Requirement already satisfied: gin-config in c:\\users\\varshaa\\onedrive\\desktop\\ci_ai\\lib\\site-packages (0.5.0)\n"
          ]
        },
        {
          "name": "stderr",
          "output_type": "stream",
          "text": [
            "WARNING: Ignoring invalid distribution -pencv-python (c:\\users\\varshaa\\onedrive\\desktop\\ci_ai\\lib\\site-packages)\n",
            "WARNING: Ignoring invalid distribution -pencv-python (c:\\users\\varshaa\\onedrive\\desktop\\ci_ai\\lib\\site-packages)\n",
            "WARNING: Ignoring invalid distribution -pencv-python (c:\\users\\varshaa\\onedrive\\desktop\\ci_ai\\lib\\site-packages)\n",
            "WARNING: Ignoring invalid distribution -pencv-python (c:\\users\\varshaa\\onedrive\\desktop\\ci_ai\\lib\\site-packages)\n",
            "WARNING: Ignoring invalid distribution -pencv-python (c:\\users\\varshaa\\onedrive\\desktop\\ci_ai\\lib\\site-packages)\n",
            "WARNING: Ignoring invalid distribution -pencv-python (c:\\users\\varshaa\\onedrive\\desktop\\ci_ai\\lib\\site-packages)\n",
            "WARNING: You are using pip version 22.0.4; however, version 23.1 is available.\n",
            "You should consider upgrading via the 'C:\\Users\\Varshaa\\OneDrive\\Desktop\\CI_AI\\Scripts\\python.exe -m pip install --upgrade pip' command.\n"
          ]
        },
        {
          "name": "stdout",
          "output_type": "stream",
          "text": [
            "Requirement already satisfied: google-api-python-client in c:\\users\\varshaa\\onedrive\\desktop\\ci_ai\\lib\\site-packages (2.84.0)\n",
            "Requirement already satisfied: google-auth-httplib2>=0.1.0 in c:\\users\\varshaa\\onedrive\\desktop\\ci_ai\\lib\\site-packages (from google-api-python-client) (0.1.0)\n",
            "Requirement already satisfied: uritemplate<5,>=3.0.1 in c:\\users\\varshaa\\onedrive\\desktop\\ci_ai\\lib\\site-packages (from google-api-python-client) (4.1.1)\n",
            "Requirement already satisfied: google-api-core!=2.0.*,!=2.1.*,!=2.2.*,!=2.3.0,<3.0.0dev,>=1.31.5 in c:\\users\\varshaa\\onedrive\\desktop\\ci_ai\\lib\\site-packages (from google-api-python-client) (2.11.0)\n",
            "Requirement already satisfied: google-auth<3.0.0dev,>=1.19.0 in c:\\users\\varshaa\\onedrive\\desktop\\ci_ai\\lib\\site-packages (from google-api-python-client) (2.17.2)\n",
            "Requirement already satisfied: httplib2<1dev,>=0.15.0 in c:\\users\\varshaa\\onedrive\\desktop\\ci_ai\\lib\\site-packages (from google-api-python-client) (0.22.0)\n",
            "Requirement already satisfied: requests<3.0.0dev,>=2.18.0 in c:\\users\\varshaa\\onedrive\\desktop\\ci_ai\\lib\\site-packages (from google-api-core!=2.0.*,!=2.1.*,!=2.2.*,!=2.3.0,<3.0.0dev,>=1.31.5->google-api-python-client) (2.28.2)\n",
            "Requirement already satisfied: googleapis-common-protos<2.0dev,>=1.56.2 in c:\\users\\varshaa\\onedrive\\desktop\\ci_ai\\lib\\site-packages (from google-api-core!=2.0.*,!=2.1.*,!=2.2.*,!=2.3.0,<3.0.0dev,>=1.31.5->google-api-python-client) (1.59.0)\n",
            "Requirement already satisfied: protobuf!=3.20.0,!=3.20.1,!=4.21.0,!=4.21.1,!=4.21.2,!=4.21.3,!=4.21.4,!=4.21.5,<5.0.0dev,>=3.19.5 in c:\\users\\varshaa\\onedrive\\desktop\\ci_ai\\lib\\site-packages (from google-api-core!=2.0.*,!=2.1.*,!=2.2.*,!=2.3.0,<3.0.0dev,>=1.31.5->google-api-python-client) (3.19.6)\n",
            "Requirement already satisfied: cachetools<6.0,>=2.0.0 in c:\\users\\varshaa\\onedrive\\desktop\\ci_ai\\lib\\site-packages (from google-auth<3.0.0dev,>=1.19.0->google-api-python-client) (5.3.0)\n",
            "Requirement already satisfied: rsa<5,>=3.1.4 in c:\\users\\varshaa\\onedrive\\desktop\\ci_ai\\lib\\site-packages (from google-auth<3.0.0dev,>=1.19.0->google-api-python-client) (4.9)\n",
            "Requirement already satisfied: pyasn1-modules>=0.2.1 in c:\\users\\varshaa\\onedrive\\desktop\\ci_ai\\lib\\site-packages (from google-auth<3.0.0dev,>=1.19.0->google-api-python-client) (0.2.8)\n",
            "Requirement already satisfied: six>=1.9.0 in c:\\users\\varshaa\\onedrive\\desktop\\ci_ai\\lib\\site-packages (from google-auth<3.0.0dev,>=1.19.0->google-api-python-client) (1.16.0)\n",
            "Requirement already satisfied: pyparsing!=3.0.0,!=3.0.1,!=3.0.2,!=3.0.3,<4,>=2.4.2 in c:\\users\\varshaa\\onedrive\\desktop\\ci_ai\\lib\\site-packages\\pyparsing-2.4.7-py3.10.egg (from httplib2<1dev,>=0.15.0->google-api-python-client) (2.4.7)\n",
            "Requirement already satisfied: pyasn1<0.5.0,>=0.4.6 in c:\\users\\varshaa\\onedrive\\desktop\\ci_ai\\lib\\site-packages (from pyasn1-modules>=0.2.1->google-auth<3.0.0dev,>=1.19.0->google-api-python-client) (0.4.8)\n",
            "Requirement already satisfied: charset-normalizer<4,>=2 in c:\\users\\varshaa\\onedrive\\desktop\\ci_ai\\lib\\site-packages (from requests<3.0.0dev,>=2.18.0->google-api-core!=2.0.*,!=2.1.*,!=2.2.*,!=2.3.0,<3.0.0dev,>=1.31.5->google-api-python-client) (3.1.0)\n",
            "Requirement already satisfied: urllib3<1.27,>=1.21.1 in c:\\users\\varshaa\\onedrive\\desktop\\ci_ai\\lib\\site-packages (from requests<3.0.0dev,>=2.18.0->google-api-core!=2.0.*,!=2.1.*,!=2.2.*,!=2.3.0,<3.0.0dev,>=1.31.5->google-api-python-client) (1.26.15)\n",
            "Requirement already satisfied: idna<4,>=2.5 in c:\\users\\varshaa\\onedrive\\desktop\\ci_ai\\lib\\site-packages (from requests<3.0.0dev,>=2.18.0->google-api-core!=2.0.*,!=2.1.*,!=2.2.*,!=2.3.0,<3.0.0dev,>=1.31.5->google-api-python-client) (3.4)\n",
            "Requirement already satisfied: certifi>=2017.4.17 in c:\\users\\varshaa\\onedrive\\desktop\\ci_ai\\lib\\site-packages (from requests<3.0.0dev,>=2.18.0->google-api-core!=2.0.*,!=2.1.*,!=2.2.*,!=2.3.0,<3.0.0dev,>=1.31.5->google-api-python-client) (2022.12.7)\n"
          ]
        },
        {
          "name": "stderr",
          "output_type": "stream",
          "text": [
            "WARNING: Ignoring invalid distribution -pencv-python (c:\\users\\varshaa\\onedrive\\desktop\\ci_ai\\lib\\site-packages)\n",
            "WARNING: Ignoring invalid distribution -pencv-python (c:\\users\\varshaa\\onedrive\\desktop\\ci_ai\\lib\\site-packages)\n",
            "WARNING: Ignoring invalid distribution -pencv-python (c:\\users\\varshaa\\onedrive\\desktop\\ci_ai\\lib\\site-packages)\n",
            "WARNING: Ignoring invalid distribution -pencv-python (c:\\users\\varshaa\\onedrive\\desktop\\ci_ai\\lib\\site-packages)\n",
            "WARNING: Ignoring invalid distribution -pencv-python (c:\\users\\varshaa\\onedrive\\desktop\\ci_ai\\lib\\site-packages)\n",
            "WARNING: Ignoring invalid distribution -pencv-python (c:\\users\\varshaa\\onedrive\\desktop\\ci_ai\\lib\\site-packages)\n",
            "WARNING: You are using pip version 22.0.4; however, version 23.1 is available.\n",
            "You should consider upgrading via the 'C:\\Users\\Varshaa\\OneDrive\\Desktop\\CI_AI\\Scripts\\python.exe -m pip install --upgrade pip' command.\n"
          ]
        },
        {
          "name": "stdout",
          "output_type": "stream",
          "text": [
            "Requirement already satisfied: immutabledict in c:\\users\\varshaa\\onedrive\\desktop\\ci_ai\\lib\\site-packages (2.2.4)\n"
          ]
        },
        {
          "name": "stderr",
          "output_type": "stream",
          "text": [
            "WARNING: Ignoring invalid distribution -pencv-python (c:\\users\\varshaa\\onedrive\\desktop\\ci_ai\\lib\\site-packages)\n",
            "WARNING: Ignoring invalid distribution -pencv-python (c:\\users\\varshaa\\onedrive\\desktop\\ci_ai\\lib\\site-packages)\n",
            "WARNING: Ignoring invalid distribution -pencv-python (c:\\users\\varshaa\\onedrive\\desktop\\ci_ai\\lib\\site-packages)\n",
            "WARNING: Ignoring invalid distribution -pencv-python (c:\\users\\varshaa\\onedrive\\desktop\\ci_ai\\lib\\site-packages)\n",
            "WARNING: Ignoring invalid distribution -pencv-python (c:\\users\\varshaa\\onedrive\\desktop\\ci_ai\\lib\\site-packages)\n",
            "WARNING: Ignoring invalid distribution -pencv-python (c:\\users\\varshaa\\onedrive\\desktop\\ci_ai\\lib\\site-packages)\n",
            "WARNING: You are using pip version 22.0.4; however, version 23.1 is available.\n",
            "You should consider upgrading via the 'C:\\Users\\Varshaa\\OneDrive\\Desktop\\CI_AI\\Scripts\\python.exe -m pip install --upgrade pip' command.\n"
          ]
        },
        {
          "name": "stdout",
          "output_type": "stream",
          "text": [
            "Requirement already satisfied: kaggle in c:\\users\\varshaa\\onedrive\\desktop\\ci_ai\\lib\\site-packages (1.5.13)\n",
            "Requirement already satisfied: requests in c:\\users\\varshaa\\onedrive\\desktop\\ci_ai\\lib\\site-packages (from kaggle) (2.28.2)\n",
            "Requirement already satisfied: tqdm in c:\\users\\varshaa\\onedrive\\desktop\\ci_ai\\lib\\site-packages (from kaggle) (4.65.0)\n",
            "Requirement already satisfied: six>=1.10 in c:\\users\\varshaa\\onedrive\\desktop\\ci_ai\\lib\\site-packages (from kaggle) (1.16.0)\n",
            "Requirement already satisfied: certifi in c:\\users\\varshaa\\onedrive\\desktop\\ci_ai\\lib\\site-packages (from kaggle) (2022.12.7)\n",
            "Requirement already satisfied: python-slugify in c:\\users\\varshaa\\onedrive\\desktop\\ci_ai\\lib\\site-packages (from kaggle) (8.0.1)\n",
            "Requirement already satisfied: urllib3 in c:\\users\\varshaa\\onedrive\\desktop\\ci_ai\\lib\\site-packages (from kaggle) (1.26.15)\n",
            "Requirement already satisfied: python-dateutil in c:\\users\\varshaa\\onedrive\\desktop\\ci_ai\\lib\\site-packages (from kaggle) (2.8.2)\n",
            "Requirement already satisfied: text-unidecode>=1.3 in c:\\users\\varshaa\\onedrive\\desktop\\ci_ai\\lib\\site-packages (from python-slugify->kaggle) (1.3)\n",
            "Requirement already satisfied: idna<4,>=2.5 in c:\\users\\varshaa\\onedrive\\desktop\\ci_ai\\lib\\site-packages (from requests->kaggle) (3.4)\n",
            "Requirement already satisfied: charset-normalizer<4,>=2 in c:\\users\\varshaa\\onedrive\\desktop\\ci_ai\\lib\\site-packages (from requests->kaggle) (3.1.0)\n",
            "Requirement already satisfied: colorama in c:\\users\\varshaa\\onedrive\\desktop\\ci_ai\\lib\\site-packages (from tqdm->kaggle) (0.4.6)\n"
          ]
        },
        {
          "name": "stderr",
          "output_type": "stream",
          "text": [
            "WARNING: Ignoring invalid distribution -pencv-python (c:\\users\\varshaa\\onedrive\\desktop\\ci_ai\\lib\\site-packages)\n",
            "WARNING: Ignoring invalid distribution -pencv-python (c:\\users\\varshaa\\onedrive\\desktop\\ci_ai\\lib\\site-packages)\n",
            "WARNING: Ignoring invalid distribution -pencv-python (c:\\users\\varshaa\\onedrive\\desktop\\ci_ai\\lib\\site-packages)\n",
            "WARNING: Ignoring invalid distribution -pencv-python (c:\\users\\varshaa\\onedrive\\desktop\\ci_ai\\lib\\site-packages)\n",
            "WARNING: Ignoring invalid distribution -pencv-python (c:\\users\\varshaa\\onedrive\\desktop\\ci_ai\\lib\\site-packages)\n",
            "WARNING: Ignoring invalid distribution -pencv-python (c:\\users\\varshaa\\onedrive\\desktop\\ci_ai\\lib\\site-packages)\n",
            "WARNING: You are using pip version 22.0.4; however, version 23.1 is available.\n",
            "You should consider upgrading via the 'C:\\Users\\Varshaa\\OneDrive\\Desktop\\CI_AI\\Scripts\\python.exe -m pip install --upgrade pip' command.\n"
          ]
        },
        {
          "name": "stdout",
          "output_type": "stream",
          "text": [
            "Requirement already satisfied: oauth2client in c:\\users\\varshaa\\onedrive\\desktop\\ci_ai\\lib\\site-packages (4.1.3)\n",
            "Requirement already satisfied: pyasn1-modules>=0.0.5 in c:\\users\\varshaa\\onedrive\\desktop\\ci_ai\\lib\\site-packages (from oauth2client) (0.2.8)\n",
            "Requirement already satisfied: rsa>=3.1.4 in c:\\users\\varshaa\\onedrive\\desktop\\ci_ai\\lib\\site-packages (from oauth2client) (4.9)\n",
            "Requirement already satisfied: pyasn1>=0.1.7 in c:\\users\\varshaa\\onedrive\\desktop\\ci_ai\\lib\\site-packages (from oauth2client) (0.4.8)\n",
            "Requirement already satisfied: httplib2>=0.9.1 in c:\\users\\varshaa\\onedrive\\desktop\\ci_ai\\lib\\site-packages (from oauth2client) (0.22.0)\n",
            "Requirement already satisfied: six>=1.6.1 in c:\\users\\varshaa\\onedrive\\desktop\\ci_ai\\lib\\site-packages (from oauth2client) (1.16.0)\n",
            "Requirement already satisfied: pyparsing!=3.0.0,!=3.0.1,!=3.0.2,!=3.0.3,<4,>=2.4.2 in c:\\users\\varshaa\\onedrive\\desktop\\ci_ai\\lib\\site-packages\\pyparsing-2.4.7-py3.10.egg (from httplib2>=0.9.1->oauth2client) (2.4.7)\n"
          ]
        },
        {
          "name": "stderr",
          "output_type": "stream",
          "text": [
            "WARNING: Ignoring invalid distribution -pencv-python (c:\\users\\varshaa\\onedrive\\desktop\\ci_ai\\lib\\site-packages)\n",
            "WARNING: Ignoring invalid distribution -pencv-python (c:\\users\\varshaa\\onedrive\\desktop\\ci_ai\\lib\\site-packages)\n",
            "WARNING: Ignoring invalid distribution -pencv-python (c:\\users\\varshaa\\onedrive\\desktop\\ci_ai\\lib\\site-packages)\n",
            "WARNING: Ignoring invalid distribution -pencv-python (c:\\users\\varshaa\\onedrive\\desktop\\ci_ai\\lib\\site-packages)\n",
            "WARNING: Ignoring invalid distribution -pencv-python (c:\\users\\varshaa\\onedrive\\desktop\\ci_ai\\lib\\site-packages)\n",
            "WARNING: Ignoring invalid distribution -pencv-python (c:\\users\\varshaa\\onedrive\\desktop\\ci_ai\\lib\\site-packages)\n",
            "WARNING: You are using pip version 22.0.4; however, version 23.1 is available.\n",
            "You should consider upgrading via the 'C:\\Users\\Varshaa\\OneDrive\\Desktop\\CI_AI\\Scripts\\python.exe -m pip install --upgrade pip' command.\n"
          ]
        },
        {
          "name": "stdout",
          "output_type": "stream",
          "text": [
            "Requirement already satisfied: opencv-python-headless in c:\\users\\varshaa\\onedrive\\desktop\\ci_ai\\lib\\site-packages (4.7.0.72)\n",
            "Requirement already satisfied: numpy>=1.21.2 in c:\\users\\varshaa\\onedrive\\desktop\\ci_ai\\lib\\site-packages (from opencv-python-headless) (1.23.5)\n"
          ]
        },
        {
          "name": "stderr",
          "output_type": "stream",
          "text": [
            "WARNING: Ignoring invalid distribution -pencv-python (c:\\users\\varshaa\\onedrive\\desktop\\ci_ai\\lib\\site-packages)\n",
            "WARNING: Ignoring invalid distribution -pencv-python (c:\\users\\varshaa\\onedrive\\desktop\\ci_ai\\lib\\site-packages)\n",
            "WARNING: Ignoring invalid distribution -pencv-python (c:\\users\\varshaa\\onedrive\\desktop\\ci_ai\\lib\\site-packages)\n",
            "WARNING: Ignoring invalid distribution -pencv-python (c:\\users\\varshaa\\onedrive\\desktop\\ci_ai\\lib\\site-packages)\n",
            "WARNING: Ignoring invalid distribution -pencv-python (c:\\users\\varshaa\\onedrive\\desktop\\ci_ai\\lib\\site-packages)\n",
            "WARNING: Ignoring invalid distribution -pencv-python (c:\\users\\varshaa\\onedrive\\desktop\\ci_ai\\lib\\site-packages)\n",
            "WARNING: You are using pip version 22.0.4; however, version 23.1 is available.\n",
            "You should consider upgrading via the 'C:\\Users\\Varshaa\\OneDrive\\Desktop\\CI_AI\\Scripts\\python.exe -m pip install --upgrade pip' command.\n"
          ]
        },
        {
          "name": "stdout",
          "output_type": "stream",
          "text": [
            "Requirement already satisfied: py-cpuinfo in c:\\users\\varshaa\\onedrive\\desktop\\ci_ai\\lib\\site-packages (9.0.0)\n"
          ]
        },
        {
          "name": "stderr",
          "output_type": "stream",
          "text": [
            "WARNING: Ignoring invalid distribution -pencv-python (c:\\users\\varshaa\\onedrive\\desktop\\ci_ai\\lib\\site-packages)\n",
            "WARNING: Ignoring invalid distribution -pencv-python (c:\\users\\varshaa\\onedrive\\desktop\\ci_ai\\lib\\site-packages)\n",
            "WARNING: Ignoring invalid distribution -pencv-python (c:\\users\\varshaa\\onedrive\\desktop\\ci_ai\\lib\\site-packages)\n",
            "WARNING: Ignoring invalid distribution -pencv-python (c:\\users\\varshaa\\onedrive\\desktop\\ci_ai\\lib\\site-packages)\n",
            "WARNING: Ignoring invalid distribution -pencv-python (c:\\users\\varshaa\\onedrive\\desktop\\ci_ai\\lib\\site-packages)\n",
            "WARNING: Ignoring invalid distribution -pencv-python (c:\\users\\varshaa\\onedrive\\desktop\\ci_ai\\lib\\site-packages)\n",
            "WARNING: You are using pip version 22.0.4; however, version 23.1 is available.\n",
            "You should consider upgrading via the 'C:\\Users\\Varshaa\\OneDrive\\Desktop\\CI_AI\\Scripts\\python.exe -m pip install --upgrade pip' command.\n"
          ]
        },
        {
          "name": "stdout",
          "output_type": "stream",
          "text": [
            "Requirement already satisfied: pycocotools in c:\\users\\varshaa\\onedrive\\desktop\\ci_ai\\lib\\site-packages (2.0.6)\n",
            "Requirement already satisfied: numpy in c:\\users\\varshaa\\onedrive\\desktop\\ci_ai\\lib\\site-packages (from pycocotools) (1.23.5)\n",
            "Requirement already satisfied: matplotlib>=2.1.0 in c:\\users\\varshaa\\onedrive\\desktop\\ci_ai\\lib\\site-packages (from pycocotools) (3.7.1)\n",
            "Requirement already satisfied: pillow>=6.2.0 in c:\\users\\varshaa\\onedrive\\desktop\\ci_ai\\lib\\site-packages (from matplotlib>=2.1.0->pycocotools) (9.5.0)\n",
            "Requirement already satisfied: packaging>=20.0 in c:\\users\\varshaa\\onedrive\\desktop\\ci_ai\\lib\\site-packages (from matplotlib>=2.1.0->pycocotools) (23.0)\n",
            "Requirement already satisfied: fonttools>=4.22.0 in c:\\users\\varshaa\\onedrive\\desktop\\ci_ai\\lib\\site-packages (from matplotlib>=2.1.0->pycocotools) (4.39.3)\n",
            "Requirement already satisfied: kiwisolver>=1.0.1 in c:\\users\\varshaa\\onedrive\\desktop\\ci_ai\\lib\\site-packages (from matplotlib>=2.1.0->pycocotools) (1.4.4)\n",
            "Requirement already satisfied: contourpy>=1.0.1 in c:\\users\\varshaa\\onedrive\\desktop\\ci_ai\\lib\\site-packages (from matplotlib>=2.1.0->pycocotools) (1.0.7)\n",
            "Requirement already satisfied: pyparsing>=2.3.1 in c:\\users\\varshaa\\onedrive\\desktop\\ci_ai\\lib\\site-packages\\pyparsing-2.4.7-py3.10.egg (from matplotlib>=2.1.0->pycocotools) (2.4.7)\n",
            "Requirement already satisfied: cycler>=0.10 in c:\\users\\varshaa\\onedrive\\desktop\\ci_ai\\lib\\site-packages (from matplotlib>=2.1.0->pycocotools) (0.11.0)\n",
            "Requirement already satisfied: python-dateutil>=2.7 in c:\\users\\varshaa\\onedrive\\desktop\\ci_ai\\lib\\site-packages (from matplotlib>=2.1.0->pycocotools) (2.8.2)\n",
            "Requirement already satisfied: six>=1.5 in c:\\users\\varshaa\\onedrive\\desktop\\ci_ai\\lib\\site-packages (from python-dateutil>=2.7->matplotlib>=2.1.0->pycocotools) (1.16.0)\n"
          ]
        },
        {
          "name": "stderr",
          "output_type": "stream",
          "text": [
            "WARNING: Ignoring invalid distribution -pencv-python (c:\\users\\varshaa\\onedrive\\desktop\\ci_ai\\lib\\site-packages)\n",
            "WARNING: Ignoring invalid distribution -pencv-python (c:\\users\\varshaa\\onedrive\\desktop\\ci_ai\\lib\\site-packages)\n",
            "WARNING: Ignoring invalid distribution -pencv-python (c:\\users\\varshaa\\onedrive\\desktop\\ci_ai\\lib\\site-packages)\n",
            "WARNING: Ignoring invalid distribution -pencv-python (c:\\users\\varshaa\\onedrive\\desktop\\ci_ai\\lib\\site-packages)\n",
            "WARNING: Ignoring invalid distribution -pencv-python (c:\\users\\varshaa\\onedrive\\desktop\\ci_ai\\lib\\site-packages)\n",
            "WARNING: Ignoring invalid distribution -pencv-python (c:\\users\\varshaa\\onedrive\\desktop\\ci_ai\\lib\\site-packages)\n",
            "WARNING: You are using pip version 22.0.4; however, version 23.1 is available.\n",
            "You should consider upgrading via the 'C:\\Users\\Varshaa\\OneDrive\\Desktop\\CI_AI\\Scripts\\python.exe -m pip install --upgrade pip' command.\n"
          ]
        },
        {
          "name": "stdout",
          "output_type": "stream",
          "text": [
            "Requirement already satisfied: pyyaml in c:\\users\\varshaa\\onedrive\\desktop\\ci_ai\\lib\\site-packages (5.4.1)\n"
          ]
        },
        {
          "name": "stderr",
          "output_type": "stream",
          "text": [
            "WARNING: Ignoring invalid distribution -pencv-python (c:\\users\\varshaa\\onedrive\\desktop\\ci_ai\\lib\\site-packages)\n",
            "WARNING: Ignoring invalid distribution -pencv-python (c:\\users\\varshaa\\onedrive\\desktop\\ci_ai\\lib\\site-packages)\n",
            "WARNING: Ignoring invalid distribution -pencv-python (c:\\users\\varshaa\\onedrive\\desktop\\ci_ai\\lib\\site-packages)\n",
            "WARNING: Ignoring invalid distribution -pencv-python (c:\\users\\varshaa\\onedrive\\desktop\\ci_ai\\lib\\site-packages)\n",
            "WARNING: Ignoring invalid distribution -pencv-python (c:\\users\\varshaa\\onedrive\\desktop\\ci_ai\\lib\\site-packages)\n",
            "WARNING: Ignoring invalid distribution -pencv-python (c:\\users\\varshaa\\onedrive\\desktop\\ci_ai\\lib\\site-packages)\n",
            "WARNING: You are using pip version 22.0.4; however, version 23.1 is available.\n",
            "You should consider upgrading via the 'C:\\Users\\Varshaa\\OneDrive\\Desktop\\CI_AI\\Scripts\\python.exe -m pip install --upgrade pip' command.\n"
          ]
        },
        {
          "name": "stdout",
          "output_type": "stream",
          "text": [
            "Requirement already satisfied: sentencepiece in c:\\users\\varshaa\\onedrive\\desktop\\ci_ai\\lib\\site-packages (0.1.97)\n"
          ]
        },
        {
          "name": "stderr",
          "output_type": "stream",
          "text": [
            "WARNING: Ignoring invalid distribution -pencv-python (c:\\users\\varshaa\\onedrive\\desktop\\ci_ai\\lib\\site-packages)\n",
            "WARNING: Ignoring invalid distribution -pencv-python (c:\\users\\varshaa\\onedrive\\desktop\\ci_ai\\lib\\site-packages)\n",
            "WARNING: Ignoring invalid distribution -pencv-python (c:\\users\\varshaa\\onedrive\\desktop\\ci_ai\\lib\\site-packages)\n",
            "WARNING: Ignoring invalid distribution -pencv-python (c:\\users\\varshaa\\onedrive\\desktop\\ci_ai\\lib\\site-packages)\n",
            "WARNING: Ignoring invalid distribution -pencv-python (c:\\users\\varshaa\\onedrive\\desktop\\ci_ai\\lib\\site-packages)\n",
            "WARNING: Ignoring invalid distribution -pencv-python (c:\\users\\varshaa\\onedrive\\desktop\\ci_ai\\lib\\site-packages)\n",
            "WARNING: You are using pip version 22.0.4; however, version 23.1 is available.\n",
            "You should consider upgrading via the 'C:\\Users\\Varshaa\\OneDrive\\Desktop\\CI_AI\\Scripts\\python.exe -m pip install --upgrade pip' command.\n"
          ]
        },
        {
          "name": "stdout",
          "output_type": "stream",
          "text": [
            "Requirement already satisfied: seqeval in c:\\users\\varshaa\\onedrive\\desktop\\ci_ai\\lib\\site-packages (1.2.2)\n",
            "Requirement already satisfied: numpy>=1.14.0 in c:\\users\\varshaa\\onedrive\\desktop\\ci_ai\\lib\\site-packages (from seqeval) (1.23.5)\n",
            "Requirement already satisfied: scikit-learn>=0.21.3 in c:\\users\\varshaa\\onedrive\\desktop\\ci_ai\\lib\\site-packages (from seqeval) (1.2.2)\n",
            "Requirement already satisfied: threadpoolctl>=2.0.0 in c:\\users\\varshaa\\onedrive\\desktop\\ci_ai\\lib\\site-packages (from scikit-learn>=0.21.3->seqeval) (3.1.0)\n",
            "Requirement already satisfied: joblib>=1.1.1 in c:\\users\\varshaa\\onedrive\\desktop\\ci_ai\\lib\\site-packages (from scikit-learn>=0.21.3->seqeval) (1.2.0)\n",
            "Requirement already satisfied: scipy>=1.3.2 in c:\\users\\varshaa\\onedrive\\desktop\\ci_ai\\lib\\site-packages (from scikit-learn>=0.21.3->seqeval) (1.10.1)\n"
          ]
        },
        {
          "name": "stderr",
          "output_type": "stream",
          "text": [
            "WARNING: Ignoring invalid distribution -pencv-python (c:\\users\\varshaa\\onedrive\\desktop\\ci_ai\\lib\\site-packages)\n",
            "WARNING: Ignoring invalid distribution -pencv-python (c:\\users\\varshaa\\onedrive\\desktop\\ci_ai\\lib\\site-packages)\n",
            "WARNING: Ignoring invalid distribution -pencv-python (c:\\users\\varshaa\\onedrive\\desktop\\ci_ai\\lib\\site-packages)\n",
            "WARNING: Ignoring invalid distribution -pencv-python (c:\\users\\varshaa\\onedrive\\desktop\\ci_ai\\lib\\site-packages)\n",
            "WARNING: Ignoring invalid distribution -pencv-python (c:\\users\\varshaa\\onedrive\\desktop\\ci_ai\\lib\\site-packages)\n",
            "WARNING: Ignoring invalid distribution -pencv-python (c:\\users\\varshaa\\onedrive\\desktop\\ci_ai\\lib\\site-packages)\n",
            "WARNING: You are using pip version 22.0.4; however, version 23.1 is available.\n",
            "You should consider upgrading via the 'C:\\Users\\Varshaa\\OneDrive\\Desktop\\CI_AI\\Scripts\\python.exe -m pip install --upgrade pip' command.\n"
          ]
        },
        {
          "name": "stdout",
          "output_type": "stream",
          "text": [
            "Requirement already satisfied: tensorflow-addons in c:\\users\\varshaa\\onedrive\\desktop\\ci_ai\\lib\\site-packages (0.20.0)\n",
            "Requirement already satisfied: typeguard<3.0.0,>=2.7 in c:\\users\\varshaa\\onedrive\\desktop\\ci_ai\\lib\\site-packages (from tensorflow-addons) (2.13.3)\n",
            "Requirement already satisfied: packaging in c:\\users\\varshaa\\onedrive\\desktop\\ci_ai\\lib\\site-packages (from tensorflow-addons) (23.0)\n"
          ]
        },
        {
          "name": "stderr",
          "output_type": "stream",
          "text": [
            "WARNING: Ignoring invalid distribution -pencv-python (c:\\users\\varshaa\\onedrive\\desktop\\ci_ai\\lib\\site-packages)\n",
            "WARNING: Ignoring invalid distribution -pencv-python (c:\\users\\varshaa\\onedrive\\desktop\\ci_ai\\lib\\site-packages)\n",
            "WARNING: Ignoring invalid distribution -pencv-python (c:\\users\\varshaa\\onedrive\\desktop\\ci_ai\\lib\\site-packages)\n",
            "WARNING: Ignoring invalid distribution -pencv-python (c:\\users\\varshaa\\onedrive\\desktop\\ci_ai\\lib\\site-packages)\n",
            "WARNING: Ignoring invalid distribution -pencv-python (c:\\users\\varshaa\\onedrive\\desktop\\ci_ai\\lib\\site-packages)\n",
            "WARNING: Ignoring invalid distribution -pencv-python (c:\\users\\varshaa\\onedrive\\desktop\\ci_ai\\lib\\site-packages)\n",
            "WARNING: You are using pip version 22.0.4; however, version 23.1 is available.\n",
            "You should consider upgrading via the 'C:\\Users\\Varshaa\\OneDrive\\Desktop\\CI_AI\\Scripts\\python.exe -m pip install --upgrade pip' command.\n"
          ]
        },
        {
          "name": "stdout",
          "output_type": "stream",
          "text": [
            "Requirement already satisfied: tensorflow-datasets in c:\\users\\varshaa\\onedrive\\desktop\\ci_ai\\lib\\site-packages (4.9.0)\n",
            "Requirement already satisfied: termcolor in c:\\users\\varshaa\\onedrive\\desktop\\ci_ai\\lib\\site-packages (from tensorflow-datasets) (2.2.0)\n",
            "Requirement already satisfied: tqdm in c:\\users\\varshaa\\onedrive\\desktop\\ci_ai\\lib\\site-packages (from tensorflow-datasets) (4.65.0)\n",
            "Requirement already satisfied: numpy in c:\\users\\varshaa\\onedrive\\desktop\\ci_ai\\lib\\site-packages (from tensorflow-datasets) (1.23.5)\n",
            "Requirement already satisfied: psutil in c:\\users\\varshaa\\onedrive\\desktop\\ci_ai\\lib\\site-packages (from tensorflow-datasets) (5.9.4)\n",
            "Requirement already satisfied: promise in c:\\users\\varshaa\\onedrive\\desktop\\ci_ai\\lib\\site-packages (from tensorflow-datasets) (2.3)\n",
            "Requirement already satisfied: protobuf in c:\\users\\varshaa\\onedrive\\desktop\\ci_ai\\lib\\site-packages (from tensorflow-datasets) (3.19.6)\n",
            "Requirement already satisfied: etils[enp,epath]>=0.9.0 in c:\\users\\varshaa\\onedrive\\desktop\\ci_ai\\lib\\site-packages (from tensorflow-datasets) (1.2.0)\n",
            "Requirement already satisfied: absl-py in c:\\users\\varshaa\\onedrive\\desktop\\ci_ai\\lib\\site-packages (from tensorflow-datasets) (1.4.0)\n",
            "Requirement already satisfied: wrapt in c:\\users\\varshaa\\onedrive\\desktop\\ci_ai\\lib\\site-packages (from tensorflow-datasets) (1.14.1)\n",
            "Requirement already satisfied: array-record in c:\\users\\varshaa\\onedrive\\desktop\\ci_ai\\lib\\site-packages (from tensorflow-datasets) (0.2.0)\n",
            "Requirement already satisfied: requests>=2.19.0 in c:\\users\\varshaa\\onedrive\\desktop\\ci_ai\\lib\\site-packages (from tensorflow-datasets) (2.28.2)\n",
            "Requirement already satisfied: toml in c:\\users\\varshaa\\onedrive\\desktop\\ci_ai\\lib\\site-packages (from tensorflow-datasets) (0.10.2)\n",
            "Requirement already satisfied: dm-tree in c:\\users\\varshaa\\onedrive\\desktop\\ci_ai\\lib\\site-packages (from tensorflow-datasets) (0.1.8)\n",
            "Requirement already satisfied: tensorflow-metadata in c:\\users\\varshaa\\onedrive\\desktop\\ci_ai\\lib\\site-packages (from tensorflow-datasets) (1.13.0)\n",
            "Requirement already satisfied: click in c:\\users\\varshaa\\onedrive\\desktop\\ci_ai\\lib\\site-packages (from tensorflow-datasets) (8.1.3)\n",
            "Requirement already satisfied: importlib_resources in c:\\users\\varshaa\\onedrive\\desktop\\ci_ai\\lib\\site-packages (from etils[enp,epath]>=0.9.0->tensorflow-datasets) (5.12.0)\n",
            "Requirement already satisfied: typing_extensions in c:\\users\\varshaa\\onedrive\\desktop\\ci_ai\\lib\\site-packages (from etils[enp,epath]>=0.9.0->tensorflow-datasets) (4.5.0)\n",
            "Requirement already satisfied: zipp in c:\\users\\varshaa\\onedrive\\desktop\\ci_ai\\lib\\site-packages (from etils[enp,epath]>=0.9.0->tensorflow-datasets) (3.15.0)\n",
            "Requirement already satisfied: charset-normalizer<4,>=2 in c:\\users\\varshaa\\onedrive\\desktop\\ci_ai\\lib\\site-packages (from requests>=2.19.0->tensorflow-datasets) (3.1.0)\n",
            "Requirement already satisfied: urllib3<1.27,>=1.21.1 in c:\\users\\varshaa\\onedrive\\desktop\\ci_ai\\lib\\site-packages (from requests>=2.19.0->tensorflow-datasets) (1.26.15)\n",
            "Requirement already satisfied: idna<4,>=2.5 in c:\\users\\varshaa\\onedrive\\desktop\\ci_ai\\lib\\site-packages (from requests>=2.19.0->tensorflow-datasets) (3.4)\n",
            "Requirement already satisfied: certifi>=2017.4.17 in c:\\users\\varshaa\\onedrive\\desktop\\ci_ai\\lib\\site-packages (from requests>=2.19.0->tensorflow-datasets) (2022.12.7)\n",
            "Requirement already satisfied: colorama in c:\\users\\varshaa\\onedrive\\desktop\\ci_ai\\lib\\site-packages (from click->tensorflow-datasets) (0.4.6)\n",
            "Requirement already satisfied: six in c:\\users\\varshaa\\onedrive\\desktop\\ci_ai\\lib\\site-packages (from promise->tensorflow-datasets) (1.16.0)\n",
            "Requirement already satisfied: googleapis-common-protos<2,>=1.52.0 in c:\\users\\varshaa\\onedrive\\desktop\\ci_ai\\lib\\site-packages (from tensorflow-metadata->tensorflow-datasets) (1.59.0)\n"
          ]
        },
        {
          "name": "stderr",
          "output_type": "stream",
          "text": [
            "WARNING: Ignoring invalid distribution -pencv-python (c:\\users\\varshaa\\onedrive\\desktop\\ci_ai\\lib\\site-packages)\n",
            "WARNING: Ignoring invalid distribution -pencv-python (c:\\users\\varshaa\\onedrive\\desktop\\ci_ai\\lib\\site-packages)\n",
            "WARNING: Ignoring invalid distribution -pencv-python (c:\\users\\varshaa\\onedrive\\desktop\\ci_ai\\lib\\site-packages)\n",
            "WARNING: Ignoring invalid distribution -pencv-python (c:\\users\\varshaa\\onedrive\\desktop\\ci_ai\\lib\\site-packages)\n",
            "WARNING: Ignoring invalid distribution -pencv-python (c:\\users\\varshaa\\onedrive\\desktop\\ci_ai\\lib\\site-packages)\n",
            "WARNING: Ignoring invalid distribution -pencv-python (c:\\users\\varshaa\\onedrive\\desktop\\ci_ai\\lib\\site-packages)\n",
            "WARNING: You are using pip version 22.0.4; however, version 23.1 is available.\n",
            "You should consider upgrading via the 'C:\\Users\\Varshaa\\OneDrive\\Desktop\\CI_AI\\Scripts\\python.exe -m pip install --upgrade pip' command.\n"
          ]
        },
        {
          "name": "stdout",
          "output_type": "stream",
          "text": [
            "Requirement already satisfied: tensorflow-hub in c:\\users\\varshaa\\onedrive\\desktop\\ci_ai\\lib\\site-packages (0.13.0)"
          ]
        },
        {
          "name": "stderr",
          "output_type": "stream",
          "text": [
            "WARNING: Ignoring invalid distribution -pencv-python (c:\\users\\varshaa\\onedrive\\desktop\\ci_ai\\lib\\site-packages)\n",
            "WARNING: Ignoring invalid distribution -pencv-python (c:\\users\\varshaa\\onedrive\\desktop\\ci_ai\\lib\\site-packages)\n",
            "WARNING: Ignoring invalid distribution -pencv-python (c:\\users\\varshaa\\onedrive\\desktop\\ci_ai\\lib\\site-packages)\n",
            "WARNING: Ignoring invalid distribution -pencv-python (c:\\users\\varshaa\\onedrive\\desktop\\ci_ai\\lib\\site-packages)\n",
            "WARNING: Ignoring invalid distribution -pencv-python (c:\\users\\varshaa\\onedrive\\desktop\\ci_ai\\lib\\site-packages)\n",
            "WARNING: Ignoring invalid distribution -pencv-python (c:\\users\\varshaa\\onedrive\\desktop\\ci_ai\\lib\\site-packages)\n",
            "WARNING: You are using pip version 22.0.4; however, version 23.1 is available.\n",
            "You should consider upgrading via the 'C:\\Users\\Varshaa\\OneDrive\\Desktop\\CI_AI\\Scripts\\python.exe -m pip install --upgrade pip' command.\n"
          ]
        },
        {
          "name": "stdout",
          "output_type": "stream",
          "text": [
            "\n",
            "Requirement already satisfied: numpy>=1.12.0 in c:\\users\\varshaa\\onedrive\\desktop\\ci_ai\\lib\\site-packages (from tensorflow-hub) (1.23.5)\n",
            "Requirement already satisfied: protobuf>=3.19.6 in c:\\users\\varshaa\\onedrive\\desktop\\ci_ai\\lib\\site-packages (from tensorflow-hub) (3.19.6)\n",
            "Requirement already satisfied: tensorflow-model-optimization in c:\\users\\varshaa\\onedrive\\desktop\\ci_ai\\lib\\site-packages (0.7.4)\n",
            "Requirement already satisfied: numpy~=1.23 in c:\\users\\varshaa\\onedrive\\desktop\\ci_ai\\lib\\site-packages (from tensorflow-model-optimization) (1.23.5)\n",
            "Requirement already satisfied: dm-tree~=0.1.1 in c:\\users\\varshaa\\onedrive\\desktop\\ci_ai\\lib\\site-packages (from tensorflow-model-optimization) (0.1.8)\n",
            "Requirement already satisfied: absl-py~=1.2 in c:\\users\\varshaa\\onedrive\\desktop\\ci_ai\\lib\\site-packages (from tensorflow-model-optimization) (1.4.0)\n",
            "Requirement already satisfied: six~=1.14 in c:\\users\\varshaa\\onedrive\\desktop\\ci_ai\\lib\\site-packages (from tensorflow-model-optimization) (1.16.0)\n"
          ]
        },
        {
          "name": "stderr",
          "output_type": "stream",
          "text": [
            "WARNING: Ignoring invalid distribution -pencv-python (c:\\users\\varshaa\\onedrive\\desktop\\ci_ai\\lib\\site-packages)\n",
            "WARNING: Ignoring invalid distribution -pencv-python (c:\\users\\varshaa\\onedrive\\desktop\\ci_ai\\lib\\site-packages)\n",
            "WARNING: Ignoring invalid distribution -pencv-python (c:\\users\\varshaa\\onedrive\\desktop\\ci_ai\\lib\\site-packages)\n",
            "WARNING: Ignoring invalid distribution -pencv-python (c:\\users\\varshaa\\onedrive\\desktop\\ci_ai\\lib\\site-packages)\n",
            "WARNING: Ignoring invalid distribution -pencv-python (c:\\users\\varshaa\\onedrive\\desktop\\ci_ai\\lib\\site-packages)\n",
            "WARNING: Ignoring invalid distribution -pencv-python (c:\\users\\varshaa\\onedrive\\desktop\\ci_ai\\lib\\site-packages)\n",
            "WARNING: You are using pip version 22.0.4; however, version 23.1 is available.\n",
            "You should consider upgrading via the 'C:\\Users\\Varshaa\\OneDrive\\Desktop\\CI_AI\\Scripts\\python.exe -m pip install --upgrade pip' command.\n"
          ]
        },
        {
          "name": "stdout",
          "output_type": "stream",
          "text": [
            "Requirement already satisfied: tensorflow-text in c:\\users\\varshaa\\onedrive\\desktop\\ci_ai\\lib\\site-packages (2.10.0)\n",
            "Requirement already satisfied: tensorflow<2.11,>=2.10.0 in c:\\users\\varshaa\\onedrive\\desktop\\ci_ai\\lib\\site-packages (from tensorflow-text) (2.10.1)\n",
            "Requirement already satisfied: tensorflow-hub>=0.8.0 in c:\\users\\varshaa\\onedrive\\desktop\\ci_ai\\lib\\site-packages (from tensorflow-text) (0.13.0)\n",
            "Requirement already satisfied: keras-preprocessing>=1.1.1 in c:\\users\\varshaa\\onedrive\\desktop\\ci_ai\\lib\\site-packages (from tensorflow<2.11,>=2.10.0->tensorflow-text) (1.1.2)\n",
            "Requirement already satisfied: tensorflow-io-gcs-filesystem>=0.23.1 in c:\\users\\varshaa\\onedrive\\desktop\\ci_ai\\lib\\site-packages (from tensorflow<2.11,>=2.10.0->tensorflow-text) (0.31.0)\n",
            "Requirement already satisfied: wrapt>=1.11.0 in c:\\users\\varshaa\\onedrive\\desktop\\ci_ai\\lib\\site-packages (from tensorflow<2.11,>=2.10.0->tensorflow-text) (1.14.1)\n",
            "Requirement already satisfied: termcolor>=1.1.0 in c:\\users\\varshaa\\onedrive\\desktop\\ci_ai\\lib\\site-packages (from tensorflow<2.11,>=2.10.0->tensorflow-text) (2.2.0)\n",
            "Requirement already satisfied: google-pasta>=0.1.1 in c:\\users\\varshaa\\onedrive\\desktop\\ci_ai\\lib\\site-packages (from tensorflow<2.11,>=2.10.0->tensorflow-text) (0.2.0)\n",
            "Requirement already satisfied: flatbuffers>=2.0 in c:\\users\\varshaa\\onedrive\\desktop\\ci_ai\\lib\\site-packages (from tensorflow<2.11,>=2.10.0->tensorflow-text) (23.3.3)\n",
            "Requirement already satisfied: grpcio<2.0,>=1.24.3 in c:\\users\\varshaa\\onedrive\\desktop\\ci_ai\\lib\\site-packages (from tensorflow<2.11,>=2.10.0->tensorflow-text) (1.53.0)\n",
            "Requirement already satisfied: typing-extensions>=3.6.6 in c:\\users\\varshaa\\onedrive\\desktop\\ci_ai\\lib\\site-packages (from tensorflow<2.11,>=2.10.0->tensorflow-text) (4.5.0)\n",
            "Requirement already satisfied: packaging in c:\\users\\varshaa\\onedrive\\desktop\\ci_ai\\lib\\site-packages (from tensorflow<2.11,>=2.10.0->tensorflow-text) (23.0)\n",
            "Requirement already satisfied: tensorboard<2.11,>=2.10 in c:\\users\\varshaa\\onedrive\\desktop\\ci_ai\\lib\\site-packages (from tensorflow<2.11,>=2.10.0->tensorflow-text) (2.10.1)\n",
            "Requirement already satisfied: tensorflow-estimator<2.11,>=2.10.0 in c:\\users\\varshaa\\onedrive\\desktop\\ci_ai\\lib\\site-packages (from tensorflow<2.11,>=2.10.0->tensorflow-text) (2.10.0)\n",
            "Requirement already satisfied: six>=1.12.0 in c:\\users\\varshaa\\onedrive\\desktop\\ci_ai\\lib\\site-packages (from tensorflow<2.11,>=2.10.0->tensorflow-text) (1.16.0)\n",
            "Requirement already satisfied: protobuf<3.20,>=3.9.2 in c:\\users\\varshaa\\onedrive\\desktop\\ci_ai\\lib\\site-packages (from tensorflow<2.11,>=2.10.0->tensorflow-text) (3.19.6)\n",
            "Requirement already satisfied: numpy>=1.20 in c:\\users\\varshaa\\onedrive\\desktop\\ci_ai\\lib\\site-packages (from tensorflow<2.11,>=2.10.0->tensorflow-text) (1.23.5)\n",
            "Requirement already satisfied: libclang>=13.0.0 in c:\\users\\varshaa\\onedrive\\desktop\\ci_ai\\lib\\site-packages (from tensorflow<2.11,>=2.10.0->tensorflow-text) (16.0.0)\n",
            "Requirement already satisfied: absl-py>=1.0.0 in c:\\users\\varshaa\\onedrive\\desktop\\ci_ai\\lib\\site-packages (from tensorflow<2.11,>=2.10.0->tensorflow-text) (1.4.0)\n",
            "Requirement already satisfied: keras<2.11,>=2.10.0 in c:\\users\\varshaa\\onedrive\\desktop\\ci_ai\\lib\\site-packages (from tensorflow<2.11,>=2.10.0->tensorflow-text) (2.10.0)\n",
            "Requirement already satisfied: h5py>=2.9.0 in c:\\users\\varshaa\\onedrive\\desktop\\ci_ai\\lib\\site-packages (from tensorflow<2.11,>=2.10.0->tensorflow-text) (3.8.0)\n",
            "Requirement already satisfied: astunparse>=1.6.0 in c:\\users\\varshaa\\onedrive\\desktop\\ci_ai\\lib\\site-packages (from tensorflow<2.11,>=2.10.0->tensorflow-text) (1.6.3)\n",
            "Requirement already satisfied: opt-einsum>=2.3.2 in c:\\users\\varshaa\\onedrive\\desktop\\ci_ai\\lib\\site-packages (from tensorflow<2.11,>=2.10.0->tensorflow-text) (3.3.0)\n",
            "Requirement already satisfied: gast<=0.4.0,>=0.2.1 in c:\\users\\varshaa\\onedrive\\desktop\\ci_ai\\lib\\site-packages (from tensorflow<2.11,>=2.10.0->tensorflow-text) (0.4.0)\n",
            "Requirement already satisfied: setuptools in c:\\users\\varshaa\\onedrive\\desktop\\ci_ai\\lib\\site-packages (from tensorflow<2.11,>=2.10.0->tensorflow-text) (58.1.0)\n",
            "Requirement already satisfied: wheel<1.0,>=0.23.0 in c:\\users\\varshaa\\onedrive\\desktop\\ci_ai\\lib\\site-packages (from astunparse>=1.6.0->tensorflow<2.11,>=2.10.0->tensorflow-text) (0.40.0)\n",
            "Requirement already satisfied: werkzeug>=1.0.1 in c:\\users\\varshaa\\onedrive\\desktop\\ci_ai\\lib\\site-packages (from tensorboard<2.11,>=2.10->tensorflow<2.11,>=2.10.0->tensorflow-text) (2.2.3)\n",
            "Requirement already satisfied: requests<3,>=2.21.0 in c:\\users\\varshaa\\onedrive\\desktop\\ci_ai\\lib\\site-packages (from tensorboard<2.11,>=2.10->tensorflow<2.11,>=2.10.0->tensorflow-text) (2.28.2)\n",
            "Requirement already satisfied: tensorboard-data-server<0.7.0,>=0.6.0 in c:\\users\\varshaa\\onedrive\\desktop\\ci_ai\\lib\\site-packages (from tensorboard<2.11,>=2.10->tensorflow<2.11,>=2.10.0->tensorflow-text) (0.6.1)\n",
            "Requirement already satisfied: markdown>=2.6.8 in c:\\users\\varshaa\\onedrive\\desktop\\ci_ai\\lib\\site-packages (from tensorboard<2.11,>=2.10->tensorflow<2.11,>=2.10.0->tensorflow-text) (3.4.3)\n",
            "Requirement already satisfied: google-auth-oauthlib<0.5,>=0.4.1 in c:\\users\\varshaa\\onedrive\\desktop\\ci_ai\\lib\\site-packages (from tensorboard<2.11,>=2.10->tensorflow<2.11,>=2.10.0->tensorflow-text) (0.4.6)\n",
            "Requirement already satisfied: tensorboard-plugin-wit>=1.6.0 in c:\\users\\varshaa\\onedrive\\desktop\\ci_ai\\lib\\site-packages (from tensorboard<2.11,>=2.10->tensorflow<2.11,>=2.10.0->tensorflow-text) (1.8.1)\n",
            "Requirement already satisfied: google-auth<3,>=1.6.3 in c:\\users\\varshaa\\onedrive\\desktop\\ci_ai\\lib\\site-packages (from tensorboard<2.11,>=2.10->tensorflow<2.11,>=2.10.0->tensorflow-text) (2.17.2)\n",
            "Requirement already satisfied: pyasn1-modules>=0.2.1 in c:\\users\\varshaa\\onedrive\\desktop\\ci_ai\\lib\\site-packages (from google-auth<3,>=1.6.3->tensorboard<2.11,>=2.10->tensorflow<2.11,>=2.10.0->tensorflow-text) (0.2.8)\n",
            "Requirement already satisfied: rsa<5,>=3.1.4 in c:\\users\\varshaa\\onedrive\\desktop\\ci_ai\\lib\\site-packages (from google-auth<3,>=1.6.3->tensorboard<2.11,>=2.10->tensorflow<2.11,>=2.10.0->tensorflow-text) (4.9)\n",
            "Requirement already satisfied: cachetools<6.0,>=2.0.0 in c:\\users\\varshaa\\onedrive\\desktop\\ci_ai\\lib\\site-packages (from google-auth<3,>=1.6.3->tensorboard<2.11,>=2.10->tensorflow<2.11,>=2.10.0->tensorflow-text) (5.3.0)\n",
            "Requirement already satisfied: requests-oauthlib>=0.7.0 in c:\\users\\varshaa\\onedrive\\desktop\\ci_ai\\lib\\site-packages (from google-auth-oauthlib<0.5,>=0.4.1->tensorboard<2.11,>=2.10->tensorflow<2.11,>=2.10.0->tensorflow-text) (1.3.1)\n",
            "Requirement already satisfied: certifi>=2017.4.17 in c:\\users\\varshaa\\onedrive\\desktop\\ci_ai\\lib\\site-packages (from requests<3,>=2.21.0->tensorboard<2.11,>=2.10->tensorflow<2.11,>=2.10.0->tensorflow-text) (2022.12.7)\n",
            "Requirement already satisfied: urllib3<1.27,>=1.21.1 in c:\\users\\varshaa\\onedrive\\desktop\\ci_ai\\lib\\site-packages (from requests<3,>=2.21.0->tensorboard<2.11,>=2.10->tensorflow<2.11,>=2.10.0->tensorflow-text) (1.26.15)\n",
            "Requirement already satisfied: idna<4,>=2.5 in c:\\users\\varshaa\\onedrive\\desktop\\ci_ai\\lib\\site-packages (from requests<3,>=2.21.0->tensorboard<2.11,>=2.10->tensorflow<2.11,>=2.10.0->tensorflow-text) (3.4)\n",
            "Requirement already satisfied: charset-normalizer<4,>=2 in c:\\users\\varshaa\\onedrive\\desktop\\ci_ai\\lib\\site-packages (from requests<3,>=2.21.0->tensorboard<2.11,>=2.10->tensorflow<2.11,>=2.10.0->tensorflow-text) (3.1.0)\n",
            "Requirement already satisfied: MarkupSafe>=2.1.1 in c:\\users\\varshaa\\onedrive\\desktop\\ci_ai\\lib\\site-packages (from werkzeug>=1.0.1->tensorboard<2.11,>=2.10->tensorflow<2.11,>=2.10.0->tensorflow-text) (2.1.2)\n",
            "Requirement already satisfied: pyasn1<0.5.0,>=0.4.6 in c:\\users\\varshaa\\onedrive\\desktop\\ci_ai\\lib\\site-packages (from pyasn1-modules>=0.2.1->google-auth<3,>=1.6.3->tensorboard<2.11,>=2.10->tensorflow<2.11,>=2.10.0->tensorflow-text) (0.4.8)\n",
            "Requirement already satisfied: oauthlib>=3.0.0 in c:\\users\\varshaa\\onedrive\\desktop\\ci_ai\\lib\\site-packages (from requests-oauthlib>=0.7.0->google-auth-oauthlib<0.5,>=0.4.1->tensorboard<2.11,>=2.10->tensorflow<2.11,>=2.10.0->tensorflow-text) (3.2.2)\n"
          ]
        },
        {
          "name": "stderr",
          "output_type": "stream",
          "text": [
            "WARNING: Ignoring invalid distribution -pencv-python (c:\\users\\varshaa\\onedrive\\desktop\\ci_ai\\lib\\site-packages)\n",
            "WARNING: Ignoring invalid distribution -pencv-python (c:\\users\\varshaa\\onedrive\\desktop\\ci_ai\\lib\\site-packages)\n",
            "WARNING: Ignoring invalid distribution -pencv-python (c:\\users\\varshaa\\onedrive\\desktop\\ci_ai\\lib\\site-packages)\n",
            "WARNING: Ignoring invalid distribution -pencv-python (c:\\users\\varshaa\\onedrive\\desktop\\ci_ai\\lib\\site-packages)\n",
            "WARNING: Ignoring invalid distribution -pencv-python (c:\\users\\varshaa\\onedrive\\desktop\\ci_ai\\lib\\site-packages)\n",
            "WARNING: Ignoring invalid distribution -pencv-python (c:\\users\\varshaa\\onedrive\\desktop\\ci_ai\\lib\\site-packages)\n",
            "WARNING: You are using pip version 22.0.4; however, version 23.1 is available.\n",
            "You should consider upgrading via the 'C:\\Users\\Varshaa\\OneDrive\\Desktop\\CI_AI\\Scripts\\python.exe -m pip install --upgrade pip' command.\n"
          ]
        }
      ],
      "source": [
        "!pip install gin-config\n",
        "!pip install google-api-python-client\n",
        "!pip install immutabledict\n",
        "!pip install kaggle\n",
        "!pip install oauth2client\n",
        "!pip install opencv-python-headless\n",
        "!pip install py-cpuinfo\n",
        "!pip install pycocotools\n",
        "!pip install pyyaml\n",
        "!pip install sentencepiece\n",
        "!pip install seqeval\n",
        "!pip install tensorflow-addons\n",
        "!pip install tensorflow-datasets\n",
        "!pip install tensorflow-hub\n",
        "!pip install tensorflow-model-optimization\n",
        "!pip install tensorflow-text"
      ]
    },
    {
      "cell_type": "code",
      "execution_count": 19,
      "metadata": {
        "id": "eQt5QnbzncW9",
        "outputId": "55feefe2-73a4-42b7-ad45-d11038767707",
        "scrolled": true
      },
      "outputs": [
        {
          "name": "stderr",
          "output_type": "stream",
          "text": [
            "2023-04-20 21:52:20.663204: W tensorflow/stream_executor/platform/default/dso_loader.cc:64] Could not load dynamic library 'cudart64_110.dll'; dlerror: cudart64_110.dll not found\n",
            "2023-04-20 21:52:35.044260: W tensorflow/stream_executor/platform/default/dso_loader.cc:64] Could not load dynamic library 'nvcuda.dll'; dlerror: nvcuda.dll not found\n",
            "2023-04-20 21:52:35.046043: W tensorflow/stream_executor/cuda/cuda_driver.cc:263] failed call to cuInit: UNKNOWN ERROR (303)\n",
            "Running tests under Python 3.10.4: c:\\Users\\Varshaa\\OneDrive\\Desktop\\CI_AI\\Scripts\\python.exe\n",
            "[ RUN      ] ModelBuilderTF2Test.test_create_center_net_deepmac\n",
            "c:\\Users\\Varshaa\\OneDrive\\Desktop\\CI_AI\\lib\\site-packages\\object_detection-0.1-py3.10.egg\\object_detection\\builders\\model_builder.py:1112: DeprecationWarning: The 'warn' function is deprecated, use 'warning' instead\n",
            "  logging.warn(('Building experimental DeepMAC meta-arch.'\n",
            "W0420 21:52:35.544512  6876 model_builder.py:1112] Building experimental DeepMAC meta-arch. Some features may be omitted.\n",
            "INFO:tensorflow:time(__main__.ModelBuilderTF2Test.test_create_center_net_deepmac): 0.79s\n",
            "I0420 21:52:35.852499  6876 test_util.py:2460] time(__main__.ModelBuilderTF2Test.test_create_center_net_deepmac): 0.79s\n",
            "[       OK ] ModelBuilderTF2Test.test_create_center_net_deepmac\n",
            "[ RUN      ] ModelBuilderTF2Test.test_create_center_net_model0 (customize_head_params=True)\n",
            "INFO:tensorflow:time(__main__.ModelBuilderTF2Test.test_create_center_net_model0 (customize_head_params=True)): 1.61s\n",
            "I0420 21:52:37.464099  6876 test_util.py:2460] time(__main__.ModelBuilderTF2Test.test_create_center_net_model0 (customize_head_params=True)): 1.61s\n",
            "[       OK ] ModelBuilderTF2Test.test_create_center_net_model0 (customize_head_params=True)\n",
            "[ RUN      ] ModelBuilderTF2Test.test_create_center_net_model1 (customize_head_params=False)\n",
            "INFO:tensorflow:time(__main__.ModelBuilderTF2Test.test_create_center_net_model1 (customize_head_params=False)): 0.33s\n",
            "I0420 21:52:37.799153  6876 test_util.py:2460] time(__main__.ModelBuilderTF2Test.test_create_center_net_model1 (customize_head_params=False)): 0.33s\n",
            "[       OK ] ModelBuilderTF2Test.test_create_center_net_model1 (customize_head_params=False)\n",
            "[ RUN      ] ModelBuilderTF2Test.test_create_center_net_model_from_keypoints\n",
            "INFO:tensorflow:time(__main__.ModelBuilderTF2Test.test_create_center_net_model_from_keypoints): 0.38s\n",
            "I0420 21:52:38.183174  6876 test_util.py:2460] time(__main__.ModelBuilderTF2Test.test_create_center_net_model_from_keypoints): 0.38s\n",
            "[       OK ] ModelBuilderTF2Test.test_create_center_net_model_from_keypoints\n",
            "[ RUN      ] ModelBuilderTF2Test.test_create_center_net_model_mobilenet\n",
            "C:\\Users\\Varshaa\\AppData\\Local\\Programs\\Python\\Python310\\lib\\random.py:370: DeprecationWarning: non-integer arguments to randrange() have been deprecated since Python 3.10 and will be removed in a subsequent version\n",
            "  return self.randrange(a, b+1)\n",
            "INFO:tensorflow:time(__main__.ModelBuilderTF2Test.test_create_center_net_model_mobilenet): 2.48s\n",
            "I0420 21:52:40.658380  6876 test_util.py:2460] time(__main__.ModelBuilderTF2Test.test_create_center_net_model_mobilenet): 2.48s\n",
            "[       OK ] ModelBuilderTF2Test.test_create_center_net_model_mobilenet\n",
            "[ RUN      ] ModelBuilderTF2Test.test_create_experimental_model\n",
            "INFO:tensorflow:time(__main__.ModelBuilderTF2Test.test_create_experimental_model): 0.0s\n",
            "I0420 21:52:40.663368  6876 test_util.py:2460] time(__main__.ModelBuilderTF2Test.test_create_experimental_model): 0.0s\n",
            "[       OK ] ModelBuilderTF2Test.test_create_experimental_model\n",
            "[ RUN      ] ModelBuilderTF2Test.test_create_faster_rcnn_from_config_with_crop_feature0 (True)\n",
            "INFO:tensorflow:time(__main__.ModelBuilderTF2Test.test_create_faster_rcnn_from_config_with_crop_feature0 (True)): 0.03s\n",
            "I0420 21:52:40.696297  6876 test_util.py:2460] time(__main__.ModelBuilderTF2Test.test_create_faster_rcnn_from_config_with_crop_feature0 (True)): 0.03s\n",
            "[       OK ] ModelBuilderTF2Test.test_create_faster_rcnn_from_config_with_crop_feature0 (True)\n",
            "[ RUN      ] ModelBuilderTF2Test.test_create_faster_rcnn_from_config_with_crop_feature1 (False)\n",
            "INFO:tensorflow:time(__main__.ModelBuilderTF2Test.test_create_faster_rcnn_from_config_with_crop_feature1 (False)): 0.02s\n",
            "I0420 21:52:40.716327  6876 test_util.py:2460] time(__main__.ModelBuilderTF2Test.test_create_faster_rcnn_from_config_with_crop_feature1 (False)): 0.02s\n",
            "[       OK ] ModelBuilderTF2Test.test_create_faster_rcnn_from_config_with_crop_feature1 (False)\n",
            "[ RUN      ] ModelBuilderTF2Test.test_create_faster_rcnn_model_from_config_with_example_miner\n",
            "INFO:tensorflow:time(__main__.ModelBuilderTF2Test.test_create_faster_rcnn_model_from_config_with_example_miner): 0.02s\n",
            "I0420 21:52:40.734917  6876 test_util.py:2460] time(__main__.ModelBuilderTF2Test.test_create_faster_rcnn_model_from_config_with_example_miner): 0.02s\n",
            "[       OK ] ModelBuilderTF2Test.test_create_faster_rcnn_model_from_config_with_example_miner\n",
            "[ RUN      ] ModelBuilderTF2Test.test_create_faster_rcnn_models_from_config_faster_rcnn_with_matmul\n",
            "INFO:tensorflow:time(__main__.ModelBuilderTF2Test.test_create_faster_rcnn_models_from_config_faster_rcnn_with_matmul): 0.11s\n",
            "I0420 21:52:40.845024  6876 test_util.py:2460] time(__main__.ModelBuilderTF2Test.test_create_faster_rcnn_models_from_config_faster_rcnn_with_matmul): 0.11s\n",
            "[       OK ] ModelBuilderTF2Test.test_create_faster_rcnn_models_from_config_faster_rcnn_with_matmul\n",
            "[ RUN      ] ModelBuilderTF2Test.test_create_faster_rcnn_models_from_config_faster_rcnn_without_matmul\n",
            "INFO:tensorflow:time(__main__.ModelBuilderTF2Test.test_create_faster_rcnn_models_from_config_faster_rcnn_without_matmul): 0.1s\n",
            "I0420 21:52:40.947715  6876 test_util.py:2460] time(__main__.ModelBuilderTF2Test.test_create_faster_rcnn_models_from_config_faster_rcnn_without_matmul): 0.1s\n",
            "[       OK ] ModelBuilderTF2Test.test_create_faster_rcnn_models_from_config_faster_rcnn_without_matmul\n",
            "[ RUN      ] ModelBuilderTF2Test.test_create_faster_rcnn_models_from_config_mask_rcnn_with_matmul\n",
            "INFO:tensorflow:time(__main__.ModelBuilderTF2Test.test_create_faster_rcnn_models_from_config_mask_rcnn_with_matmul): 0.1s\n",
            "I0420 21:52:41.053332  6876 test_util.py:2460] time(__main__.ModelBuilderTF2Test.test_create_faster_rcnn_models_from_config_mask_rcnn_with_matmul): 0.1s\n",
            "[       OK ] ModelBuilderTF2Test.test_create_faster_rcnn_models_from_config_mask_rcnn_with_matmul\n",
            "[ RUN      ] ModelBuilderTF2Test.test_create_faster_rcnn_models_from_config_mask_rcnn_without_matmul\n",
            "INFO:tensorflow:time(__main__.ModelBuilderTF2Test.test_create_faster_rcnn_models_from_config_mask_rcnn_without_matmul): 0.11s\n",
            "I0420 21:52:41.163728  6876 test_util.py:2460] time(__main__.ModelBuilderTF2Test.test_create_faster_rcnn_models_from_config_mask_rcnn_without_matmul): 0.11s\n",
            "[       OK ] ModelBuilderTF2Test.test_create_faster_rcnn_models_from_config_mask_rcnn_without_matmul\n",
            "[ RUN      ] ModelBuilderTF2Test.test_create_rfcn_model_from_config\n",
            "INFO:tensorflow:time(__main__.ModelBuilderTF2Test.test_create_rfcn_model_from_config): 0.09s\n",
            "I0420 21:52:41.257265  6876 test_util.py:2460] time(__main__.ModelBuilderTF2Test.test_create_rfcn_model_from_config): 0.09s\n",
            "[       OK ] ModelBuilderTF2Test.test_create_rfcn_model_from_config\n",
            "[ RUN      ] ModelBuilderTF2Test.test_create_ssd_fpn_model_from_config\n",
            "INFO:tensorflow:time(__main__.ModelBuilderTF2Test.test_create_ssd_fpn_model_from_config): 0.03s\n",
            "I0420 21:52:41.285775  6876 test_util.py:2460] time(__main__.ModelBuilderTF2Test.test_create_ssd_fpn_model_from_config): 0.03s\n",
            "[       OK ] ModelBuilderTF2Test.test_create_ssd_fpn_model_from_config\n",
            "[ RUN      ] ModelBuilderTF2Test.test_create_ssd_models_from_config\n",
            "I0420 21:52:41.461013  6876 ssd_efficientnet_bifpn_feature_extractor.py:150] EfficientDet EfficientNet backbone version: efficientnet-b0\n",
            "I0420 21:52:41.461013  6876 ssd_efficientnet_bifpn_feature_extractor.py:152] EfficientDet BiFPN num filters: 64\n",
            "I0420 21:52:41.461013  6876 ssd_efficientnet_bifpn_feature_extractor.py:153] EfficientDet BiFPN num iterations: 3\n",
            "I0420 21:52:41.463008  6876 efficientnet_model.py:143] round_filter input=32 output=32\n",
            "I0420 21:52:41.493065  6876 efficientnet_model.py:143] round_filter input=32 output=32\n",
            "I0420 21:52:41.493065  6876 efficientnet_model.py:143] round_filter input=16 output=16\n",
            "I0420 21:52:41.582817  6876 efficientnet_model.py:143] round_filter input=16 output=16\n",
            "I0420 21:52:41.582817  6876 efficientnet_model.py:143] round_filter input=24 output=24\n",
            "I0420 21:52:41.929548  6876 efficientnet_model.py:143] round_filter input=24 output=24\n",
            "I0420 21:52:41.929548  6876 efficientnet_model.py:143] round_filter input=40 output=40\n",
            "I0420 21:52:42.128481  6876 efficientnet_model.py:143] round_filter input=40 output=40\n",
            "I0420 21:52:42.128481  6876 efficientnet_model.py:143] round_filter input=80 output=80\n",
            "I0420 21:52:42.441346  6876 efficientnet_model.py:143] round_filter input=80 output=80\n",
            "I0420 21:52:42.442344  6876 efficientnet_model.py:143] round_filter input=112 output=112\n",
            "I0420 21:52:42.765227  6876 efficientnet_model.py:143] round_filter input=112 output=112\n",
            "I0420 21:52:42.765733  6876 efficientnet_model.py:143] round_filter input=192 output=192\n",
            "I0420 21:52:43.207391  6876 efficientnet_model.py:143] round_filter input=192 output=192\n",
            "I0420 21:52:43.207391  6876 efficientnet_model.py:143] round_filter input=320 output=320\n",
            "I0420 21:52:43.306614  6876 efficientnet_model.py:143] round_filter input=1280 output=1280\n",
            "I0420 21:52:43.373595  6876 efficientnet_model.py:453] Building model efficientnet with params ModelConfig(width_coefficient=1.0, depth_coefficient=1.0, resolution=224, dropout_rate=0.2, blocks=(BlockConfig(input_filters=32, output_filters=16, kernel_size=3, num_repeat=1, expand_ratio=1, strides=(1, 1), se_ratio=0.25, id_skip=True, fused_conv=False, conv_type='depthwise'), BlockConfig(input_filters=16, output_filters=24, kernel_size=3, num_repeat=2, expand_ratio=6, strides=(2, 2), se_ratio=0.25, id_skip=True, fused_conv=False, conv_type='depthwise'), BlockConfig(input_filters=24, output_filters=40, kernel_size=5, num_repeat=2, expand_ratio=6, strides=(2, 2), se_ratio=0.25, id_skip=True, fused_conv=False, conv_type='depthwise'), BlockConfig(input_filters=40, output_filters=80, kernel_size=3, num_repeat=3, expand_ratio=6, strides=(2, 2), se_ratio=0.25, id_skip=True, fused_conv=False, conv_type='depthwise'), BlockConfig(input_filters=80, output_filters=112, kernel_size=5, num_repeat=3, expand_ratio=6, strides=(1, 1), se_ratio=0.25, id_skip=True, fused_conv=False, conv_type='depthwise'), BlockConfig(input_filters=112, output_filters=192, kernel_size=5, num_repeat=4, expand_ratio=6, strides=(2, 2), se_ratio=0.25, id_skip=True, fused_conv=False, conv_type='depthwise'), BlockConfig(input_filters=192, output_filters=320, kernel_size=3, num_repeat=1, expand_ratio=6, strides=(1, 1), se_ratio=0.25, id_skip=True, fused_conv=False, conv_type='depthwise')), stem_base_filters=32, top_base_filters=1280, activation='simple_swish', batch_norm='default', bn_momentum=0.99, bn_epsilon=0.001, weight_decay=5e-06, drop_connect_rate=0.2, depth_divisor=8, min_depth=None, use_se=True, input_channels=3, num_classes=1000, model_name='efficientnet', rescale_input=False, data_format='channels_last', dtype='float32')\n",
            "I0420 21:52:43.439682  6876 ssd_efficientnet_bifpn_feature_extractor.py:150] EfficientDet EfficientNet backbone version: efficientnet-b1\n",
            "I0420 21:52:43.440677  6876 ssd_efficientnet_bifpn_feature_extractor.py:152] EfficientDet BiFPN num filters: 88\n",
            "I0420 21:52:43.440677  6876 ssd_efficientnet_bifpn_feature_extractor.py:153] EfficientDet BiFPN num iterations: 4\n",
            "I0420 21:52:43.442672  6876 efficientnet_model.py:143] round_filter input=32 output=32\n",
            "I0420 21:52:43.463512  6876 efficientnet_model.py:143] round_filter input=32 output=32\n",
            "I0420 21:52:43.463512  6876 efficientnet_model.py:143] round_filter input=16 output=16\n",
            "I0420 21:52:43.639653  6876 efficientnet_model.py:143] round_filter input=16 output=16\n",
            "I0420 21:52:43.639653  6876 efficientnet_model.py:143] round_filter input=24 output=24\n",
            "I0420 21:52:43.914006  6876 efficientnet_model.py:143] round_filter input=24 output=24\n",
            "I0420 21:52:43.914006  6876 efficientnet_model.py:143] round_filter input=40 output=40\n",
            "I0420 21:52:44.193240  6876 efficientnet_model.py:143] round_filter input=40 output=40\n",
            "I0420 21:52:44.193240  6876 efficientnet_model.py:143] round_filter input=80 output=80\n",
            "I0420 21:52:44.659087  6876 efficientnet_model.py:143] round_filter input=80 output=80\n",
            "I0420 21:52:44.659087  6876 efficientnet_model.py:143] round_filter input=112 output=112\n",
            "I0420 21:52:45.061782  6876 efficientnet_model.py:143] round_filter input=112 output=112\n",
            "I0420 21:52:45.061782  6876 efficientnet_model.py:143] round_filter input=192 output=192\n",
            "I0420 21:52:45.597127  6876 efficientnet_model.py:143] round_filter input=192 output=192\n",
            "I0420 21:52:45.597127  6876 efficientnet_model.py:143] round_filter input=320 output=320\n",
            "I0420 21:52:45.819699  6876 efficientnet_model.py:143] round_filter input=1280 output=1280\n",
            "I0420 21:52:45.886564  6876 efficientnet_model.py:453] Building model efficientnet with params ModelConfig(width_coefficient=1.0, depth_coefficient=1.1, resolution=240, dropout_rate=0.2, blocks=(BlockConfig(input_filters=32, output_filters=16, kernel_size=3, num_repeat=1, expand_ratio=1, strides=(1, 1), se_ratio=0.25, id_skip=True, fused_conv=False, conv_type='depthwise'), BlockConfig(input_filters=16, output_filters=24, kernel_size=3, num_repeat=2, expand_ratio=6, strides=(2, 2), se_ratio=0.25, id_skip=True, fused_conv=False, conv_type='depthwise'), BlockConfig(input_filters=24, output_filters=40, kernel_size=5, num_repeat=2, expand_ratio=6, strides=(2, 2), se_ratio=0.25, id_skip=True, fused_conv=False, conv_type='depthwise'), BlockConfig(input_filters=40, output_filters=80, kernel_size=3, num_repeat=3, expand_ratio=6, strides=(2, 2), se_ratio=0.25, id_skip=True, fused_conv=False, conv_type='depthwise'), BlockConfig(input_filters=80, output_filters=112, kernel_size=5, num_repeat=3, expand_ratio=6, strides=(1, 1), se_ratio=0.25, id_skip=True, fused_conv=False, conv_type='depthwise'), BlockConfig(input_filters=112, output_filters=192, kernel_size=5, num_repeat=4, expand_ratio=6, strides=(2, 2), se_ratio=0.25, id_skip=True, fused_conv=False, conv_type='depthwise'), BlockConfig(input_filters=192, output_filters=320, kernel_size=3, num_repeat=1, expand_ratio=6, strides=(1, 1), se_ratio=0.25, id_skip=True, fused_conv=False, conv_type='depthwise')), stem_base_filters=32, top_base_filters=1280, activation='simple_swish', batch_norm='default', bn_momentum=0.99, bn_epsilon=0.001, weight_decay=5e-06, drop_connect_rate=0.2, depth_divisor=8, min_depth=None, use_se=True, input_channels=3, num_classes=1000, model_name='efficientnet', rescale_input=False, data_format='channels_last', dtype='float32')\n",
            "I0420 21:52:45.963863  6876 ssd_efficientnet_bifpn_feature_extractor.py:150] EfficientDet EfficientNet backbone version: efficientnet-b2\n",
            "I0420 21:52:45.963863  6876 ssd_efficientnet_bifpn_feature_extractor.py:152] EfficientDet BiFPN num filters: 112\n",
            "I0420 21:52:45.963863  6876 ssd_efficientnet_bifpn_feature_extractor.py:153] EfficientDet BiFPN num iterations: 5\n",
            "I0420 21:52:45.965872  6876 efficientnet_model.py:143] round_filter input=32 output=32\n",
            "I0420 21:52:45.988236  6876 efficientnet_model.py:143] round_filter input=32 output=32\n",
            "I0420 21:52:45.988236  6876 efficientnet_model.py:143] round_filter input=16 output=16\n",
            "I0420 21:52:46.155480  6876 efficientnet_model.py:143] round_filter input=16 output=16\n",
            "I0420 21:52:46.155480  6876 efficientnet_model.py:143] round_filter input=24 output=24\n",
            "I0420 21:52:46.432562  6876 efficientnet_model.py:143] round_filter input=24 output=24\n",
            "I0420 21:52:46.432562  6876 efficientnet_model.py:143] round_filter input=40 output=48\n",
            "I0420 21:52:46.757803  6876 efficientnet_model.py:143] round_filter input=40 output=48\n",
            "I0420 21:52:46.757803  6876 efficientnet_model.py:143] round_filter input=80 output=88\n",
            "I0420 21:52:47.197773  6876 efficientnet_model.py:143] round_filter input=80 output=88\n",
            "I0420 21:52:47.197773  6876 efficientnet_model.py:143] round_filter input=112 output=120\n",
            "I0420 21:52:47.762732  6876 efficientnet_model.py:143] round_filter input=112 output=120\n",
            "I0420 21:52:47.762732  6876 efficientnet_model.py:143] round_filter input=192 output=208\n",
            "I0420 21:52:48.446089  6876 efficientnet_model.py:143] round_filter input=192 output=208\n",
            "I0420 21:52:48.446089  6876 efficientnet_model.py:143] round_filter input=320 output=352\n",
            "I0420 21:52:48.692434  6876 efficientnet_model.py:143] round_filter input=1280 output=1408\n",
            "I0420 21:52:48.748795  6876 efficientnet_model.py:453] Building model efficientnet with params ModelConfig(width_coefficient=1.1, depth_coefficient=1.2, resolution=260, dropout_rate=0.3, blocks=(BlockConfig(input_filters=32, output_filters=16, kernel_size=3, num_repeat=1, expand_ratio=1, strides=(1, 1), se_ratio=0.25, id_skip=True, fused_conv=False, conv_type='depthwise'), BlockConfig(input_filters=16, output_filters=24, kernel_size=3, num_repeat=2, expand_ratio=6, strides=(2, 2), se_ratio=0.25, id_skip=True, fused_conv=False, conv_type='depthwise'), BlockConfig(input_filters=24, output_filters=40, kernel_size=5, num_repeat=2, expand_ratio=6, strides=(2, 2), se_ratio=0.25, id_skip=True, fused_conv=False, conv_type='depthwise'), BlockConfig(input_filters=40, output_filters=80, kernel_size=3, num_repeat=3, expand_ratio=6, strides=(2, 2), se_ratio=0.25, id_skip=True, fused_conv=False, conv_type='depthwise'), BlockConfig(input_filters=80, output_filters=112, kernel_size=5, num_repeat=3, expand_ratio=6, strides=(1, 1), se_ratio=0.25, id_skip=True, fused_conv=False, conv_type='depthwise'), BlockConfig(input_filters=112, output_filters=192, kernel_size=5, num_repeat=4, expand_ratio=6, strides=(2, 2), se_ratio=0.25, id_skip=True, fused_conv=False, conv_type='depthwise'), BlockConfig(input_filters=192, output_filters=320, kernel_size=3, num_repeat=1, expand_ratio=6, strides=(1, 1), se_ratio=0.25, id_skip=True, fused_conv=False, conv_type='depthwise')), stem_base_filters=32, top_base_filters=1280, activation='simple_swish', batch_norm='default', bn_momentum=0.99, bn_epsilon=0.001, weight_decay=5e-06, drop_connect_rate=0.2, depth_divisor=8, min_depth=None, use_se=True, input_channels=3, num_classes=1000, model_name='efficientnet', rescale_input=False, data_format='channels_last', dtype='float32')\n",
            "I0420 21:52:48.810836  6876 ssd_efficientnet_bifpn_feature_extractor.py:150] EfficientDet EfficientNet backbone version: efficientnet-b3\n",
            "I0420 21:52:48.810836  6876 ssd_efficientnet_bifpn_feature_extractor.py:152] EfficientDet BiFPN num filters: 160\n",
            "I0420 21:52:48.810836  6876 ssd_efficientnet_bifpn_feature_extractor.py:153] EfficientDet BiFPN num iterations: 6\n",
            "I0420 21:52:48.812830  6876 efficientnet_model.py:143] round_filter input=32 output=40\n",
            "I0420 21:52:48.830138  6876 efficientnet_model.py:143] round_filter input=32 output=40\n",
            "I0420 21:52:48.830138  6876 efficientnet_model.py:143] round_filter input=16 output=24\n",
            "I0420 21:52:49.002234  6876 efficientnet_model.py:143] round_filter input=16 output=24\n",
            "I0420 21:52:49.002234  6876 efficientnet_model.py:143] round_filter input=24 output=32\n",
            "I0420 21:52:49.311829  6876 efficientnet_model.py:143] round_filter input=24 output=32\n",
            "I0420 21:52:49.312826  6876 efficientnet_model.py:143] round_filter input=40 output=48\n",
            "I0420 21:52:49.612263  6876 efficientnet_model.py:143] round_filter input=40 output=48\n",
            "I0420 21:52:49.612263  6876 efficientnet_model.py:143] round_filter input=80 output=96\n",
            "I0420 21:52:50.220455  6876 efficientnet_model.py:143] round_filter input=80 output=96\n",
            "I0420 21:52:50.220455  6876 efficientnet_model.py:143] round_filter input=112 output=136\n",
            "I0420 21:52:50.815920  6876 efficientnet_model.py:143] round_filter input=112 output=136\n",
            "I0420 21:52:50.815920  6876 efficientnet_model.py:143] round_filter input=192 output=232\n",
            "I0420 21:52:51.589328  6876 efficientnet_model.py:143] round_filter input=192 output=232\n",
            "I0420 21:52:51.590325  6876 efficientnet_model.py:143] round_filter input=320 output=384\n",
            "I0420 21:52:51.908425  6876 efficientnet_model.py:143] round_filter input=1280 output=1536\n",
            "I0420 21:52:52.001216  6876 efficientnet_model.py:453] Building model efficientnet with params ModelConfig(width_coefficient=1.2, depth_coefficient=1.4, resolution=300, dropout_rate=0.3, blocks=(BlockConfig(input_filters=32, output_filters=16, kernel_size=3, num_repeat=1, expand_ratio=1, strides=(1, 1), se_ratio=0.25, id_skip=True, fused_conv=False, conv_type='depthwise'), BlockConfig(input_filters=16, output_filters=24, kernel_size=3, num_repeat=2, expand_ratio=6, strides=(2, 2), se_ratio=0.25, id_skip=True, fused_conv=False, conv_type='depthwise'), BlockConfig(input_filters=24, output_filters=40, kernel_size=5, num_repeat=2, expand_ratio=6, strides=(2, 2), se_ratio=0.25, id_skip=True, fused_conv=False, conv_type='depthwise'), BlockConfig(input_filters=40, output_filters=80, kernel_size=3, num_repeat=3, expand_ratio=6, strides=(2, 2), se_ratio=0.25, id_skip=True, fused_conv=False, conv_type='depthwise'), BlockConfig(input_filters=80, output_filters=112, kernel_size=5, num_repeat=3, expand_ratio=6, strides=(1, 1), se_ratio=0.25, id_skip=True, fused_conv=False, conv_type='depthwise'), BlockConfig(input_filters=112, output_filters=192, kernel_size=5, num_repeat=4, expand_ratio=6, strides=(2, 2), se_ratio=0.25, id_skip=True, fused_conv=False, conv_type='depthwise'), BlockConfig(input_filters=192, output_filters=320, kernel_size=3, num_repeat=1, expand_ratio=6, strides=(1, 1), se_ratio=0.25, id_skip=True, fused_conv=False, conv_type='depthwise')), stem_base_filters=32, top_base_filters=1280, activation='simple_swish', batch_norm='default', bn_momentum=0.99, bn_epsilon=0.001, weight_decay=5e-06, drop_connect_rate=0.2, depth_divisor=8, min_depth=None, use_se=True, input_channels=3, num_classes=1000, model_name='efficientnet', rescale_input=False, data_format='channels_last', dtype='float32')\n",
            "I0420 21:52:52.089707  6876 ssd_efficientnet_bifpn_feature_extractor.py:150] EfficientDet EfficientNet backbone version: efficientnet-b4\n",
            "I0420 21:52:52.089707  6876 ssd_efficientnet_bifpn_feature_extractor.py:152] EfficientDet BiFPN num filters: 224\n",
            "I0420 21:52:52.089707  6876 ssd_efficientnet_bifpn_feature_extractor.py:153] EfficientDet BiFPN num iterations: 7\n",
            "I0420 21:52:52.091702  6876 efficientnet_model.py:143] round_filter input=32 output=48\n",
            "I0420 21:52:52.115251  6876 efficientnet_model.py:143] round_filter input=32 output=48\n",
            "I0420 21:52:52.116420  6876 efficientnet_model.py:143] round_filter input=16 output=24\n",
            "I0420 21:52:52.332202  6876 efficientnet_model.py:143] round_filter input=16 output=24\n",
            "I0420 21:52:52.332202  6876 efficientnet_model.py:143] round_filter input=24 output=32\n",
            "I0420 21:52:52.903710  6876 efficientnet_model.py:143] round_filter input=24 output=32\n",
            "I0420 21:52:52.904706  6876 efficientnet_model.py:143] round_filter input=40 output=56\n",
            "I0420 21:52:53.324698  6876 efficientnet_model.py:143] round_filter input=40 output=56\n",
            "I0420 21:52:53.324698  6876 efficientnet_model.py:143] round_filter input=80 output=112\n",
            "I0420 21:52:54.040947  6876 efficientnet_model.py:143] round_filter input=80 output=112\n",
            "I0420 21:52:54.040947  6876 efficientnet_model.py:143] round_filter input=112 output=160\n",
            "I0420 21:52:54.774625  6876 efficientnet_model.py:143] round_filter input=112 output=160\n",
            "I0420 21:52:54.774625  6876 efficientnet_model.py:143] round_filter input=192 output=272\n",
            "I0420 21:52:55.877043  6876 efficientnet_model.py:143] round_filter input=192 output=272\n",
            "I0420 21:52:55.877043  6876 efficientnet_model.py:143] round_filter input=320 output=448\n",
            "I0420 21:52:56.227531  6876 efficientnet_model.py:143] round_filter input=1280 output=1792\n",
            "I0420 21:52:56.352175  6876 efficientnet_model.py:453] Building model efficientnet with params ModelConfig(width_coefficient=1.4, depth_coefficient=1.8, resolution=380, dropout_rate=0.4, blocks=(BlockConfig(input_filters=32, output_filters=16, kernel_size=3, num_repeat=1, expand_ratio=1, strides=(1, 1), se_ratio=0.25, id_skip=True, fused_conv=False, conv_type='depthwise'), BlockConfig(input_filters=16, output_filters=24, kernel_size=3, num_repeat=2, expand_ratio=6, strides=(2, 2), se_ratio=0.25, id_skip=True, fused_conv=False, conv_type='depthwise'), BlockConfig(input_filters=24, output_filters=40, kernel_size=5, num_repeat=2, expand_ratio=6, strides=(2, 2), se_ratio=0.25, id_skip=True, fused_conv=False, conv_type='depthwise'), BlockConfig(input_filters=40, output_filters=80, kernel_size=3, num_repeat=3, expand_ratio=6, strides=(2, 2), se_ratio=0.25, id_skip=True, fused_conv=False, conv_type='depthwise'), BlockConfig(input_filters=80, output_filters=112, kernel_size=5, num_repeat=3, expand_ratio=6, strides=(1, 1), se_ratio=0.25, id_skip=True, fused_conv=False, conv_type='depthwise'), BlockConfig(input_filters=112, output_filters=192, kernel_size=5, num_repeat=4, expand_ratio=6, strides=(2, 2), se_ratio=0.25, id_skip=True, fused_conv=False, conv_type='depthwise'), BlockConfig(input_filters=192, output_filters=320, kernel_size=3, num_repeat=1, expand_ratio=6, strides=(1, 1), se_ratio=0.25, id_skip=True, fused_conv=False, conv_type='depthwise')), stem_base_filters=32, top_base_filters=1280, activation='simple_swish', batch_norm='default', bn_momentum=0.99, bn_epsilon=0.001, weight_decay=5e-06, drop_connect_rate=0.2, depth_divisor=8, min_depth=None, use_se=True, input_channels=3, num_classes=1000, model_name='efficientnet', rescale_input=False, data_format='channels_last', dtype='float32')\n",
            "I0420 21:52:56.672451  6876 ssd_efficientnet_bifpn_feature_extractor.py:150] EfficientDet EfficientNet backbone version: efficientnet-b5\n",
            "I0420 21:52:56.672451  6876 ssd_efficientnet_bifpn_feature_extractor.py:152] EfficientDet BiFPN num filters: 288\n",
            "I0420 21:52:56.672451  6876 ssd_efficientnet_bifpn_feature_extractor.py:153] EfficientDet BiFPN num iterations: 7\n",
            "I0420 21:52:56.674446  6876 efficientnet_model.py:143] round_filter input=32 output=48\n",
            "I0420 21:52:56.697106  6876 efficientnet_model.py:143] round_filter input=32 output=48\n",
            "I0420 21:52:56.698103  6876 efficientnet_model.py:143] round_filter input=16 output=24\n",
            "I0420 21:52:57.052227  6876 efficientnet_model.py:143] round_filter input=16 output=24\n",
            "I0420 21:52:57.052227  6876 efficientnet_model.py:143] round_filter input=24 output=40\n",
            "I0420 21:52:57.604983  6876 efficientnet_model.py:143] round_filter input=24 output=40\n",
            "I0420 21:52:57.605980  6876 efficientnet_model.py:143] round_filter input=40 output=64\n",
            "I0420 21:52:58.171121  6876 efficientnet_model.py:143] round_filter input=40 output=64\n",
            "I0420 21:52:58.171121  6876 efficientnet_model.py:143] round_filter input=80 output=128\n",
            "I0420 21:52:59.060966  6876 efficientnet_model.py:143] round_filter input=80 output=128\n",
            "I0420 21:52:59.060966  6876 efficientnet_model.py:143] round_filter input=112 output=176\n",
            "I0420 21:52:59.876860  6876 efficientnet_model.py:143] round_filter input=112 output=176\n",
            "I0420 21:52:59.876860  6876 efficientnet_model.py:143] round_filter input=192 output=304\n",
            "I0420 21:53:01.169805  6876 efficientnet_model.py:143] round_filter input=192 output=304\n",
            "I0420 21:53:01.170802  6876 efficientnet_model.py:143] round_filter input=320 output=512\n",
            "I0420 21:53:01.689237  6876 efficientnet_model.py:143] round_filter input=1280 output=2048\n",
            "I0420 21:53:01.771514  6876 efficientnet_model.py:453] Building model efficientnet with params ModelConfig(width_coefficient=1.6, depth_coefficient=2.2, resolution=456, dropout_rate=0.4, blocks=(BlockConfig(input_filters=32, output_filters=16, kernel_size=3, num_repeat=1, expand_ratio=1, strides=(1, 1), se_ratio=0.25, id_skip=True, fused_conv=False, conv_type='depthwise'), BlockConfig(input_filters=16, output_filters=24, kernel_size=3, num_repeat=2, expand_ratio=6, strides=(2, 2), se_ratio=0.25, id_skip=True, fused_conv=False, conv_type='depthwise'), BlockConfig(input_filters=24, output_filters=40, kernel_size=5, num_repeat=2, expand_ratio=6, strides=(2, 2), se_ratio=0.25, id_skip=True, fused_conv=False, conv_type='depthwise'), BlockConfig(input_filters=40, output_filters=80, kernel_size=3, num_repeat=3, expand_ratio=6, strides=(2, 2), se_ratio=0.25, id_skip=True, fused_conv=False, conv_type='depthwise'), BlockConfig(input_filters=80, output_filters=112, kernel_size=5, num_repeat=3, expand_ratio=6, strides=(1, 1), se_ratio=0.25, id_skip=True, fused_conv=False, conv_type='depthwise'), BlockConfig(input_filters=112, output_filters=192, kernel_size=5, num_repeat=4, expand_ratio=6, strides=(2, 2), se_ratio=0.25, id_skip=True, fused_conv=False, conv_type='depthwise'), BlockConfig(input_filters=192, output_filters=320, kernel_size=3, num_repeat=1, expand_ratio=6, strides=(1, 1), se_ratio=0.25, id_skip=True, fused_conv=False, conv_type='depthwise')), stem_base_filters=32, top_base_filters=1280, activation='simple_swish', batch_norm='default', bn_momentum=0.99, bn_epsilon=0.001, weight_decay=5e-06, drop_connect_rate=0.2, depth_divisor=8, min_depth=None, use_se=True, input_channels=3, num_classes=1000, model_name='efficientnet', rescale_input=False, data_format='channels_last', dtype='float32')\n",
            "I0420 21:53:01.891389  6876 ssd_efficientnet_bifpn_feature_extractor.py:150] EfficientDet EfficientNet backbone version: efficientnet-b6\n",
            "I0420 21:53:01.891389  6876 ssd_efficientnet_bifpn_feature_extractor.py:152] EfficientDet BiFPN num filters: 384\n",
            "I0420 21:53:01.891389  6876 ssd_efficientnet_bifpn_feature_extractor.py:153] EfficientDet BiFPN num iterations: 8\n",
            "I0420 21:53:01.893516  6876 efficientnet_model.py:143] round_filter input=32 output=56\n",
            "I0420 21:53:01.916454  6876 efficientnet_model.py:143] round_filter input=32 output=56\n",
            "I0420 21:53:01.916454  6876 efficientnet_model.py:143] round_filter input=16 output=32\n",
            "I0420 21:53:02.225365  6876 efficientnet_model.py:143] round_filter input=16 output=32\n",
            "I0420 21:53:02.225365  6876 efficientnet_model.py:143] round_filter input=24 output=40\n",
            "I0420 21:53:02.928443  6876 efficientnet_model.py:143] round_filter input=24 output=40\n",
            "I0420 21:53:02.929570  6876 efficientnet_model.py:143] round_filter input=40 output=72\n",
            "I0420 21:53:03.645227  6876 efficientnet_model.py:143] round_filter input=40 output=72\n",
            "I0420 21:53:03.645227  6876 efficientnet_model.py:143] round_filter input=80 output=144\n",
            "I0420 21:53:04.614794  6876 efficientnet_model.py:143] round_filter input=80 output=144\n",
            "I0420 21:53:04.615792  6876 efficientnet_model.py:143] round_filter input=112 output=200\n",
            "I0420 21:53:05.921623  6876 efficientnet_model.py:143] round_filter input=112 output=200\n",
            "I0420 21:53:05.921623  6876 efficientnet_model.py:143] round_filter input=192 output=344\n",
            "I0420 21:53:07.535652  6876 efficientnet_model.py:143] round_filter input=192 output=344\n",
            "I0420 21:53:07.535652  6876 efficientnet_model.py:143] round_filter input=320 output=576\n",
            "I0420 21:53:08.100365  6876 efficientnet_model.py:143] round_filter input=1280 output=2304\n",
            "I0420 21:53:08.203155  6876 efficientnet_model.py:453] Building model efficientnet with params ModelConfig(width_coefficient=1.8, depth_coefficient=2.6, resolution=528, dropout_rate=0.5, blocks=(BlockConfig(input_filters=32, output_filters=16, kernel_size=3, num_repeat=1, expand_ratio=1, strides=(1, 1), se_ratio=0.25, id_skip=True, fused_conv=False, conv_type='depthwise'), BlockConfig(input_filters=16, output_filters=24, kernel_size=3, num_repeat=2, expand_ratio=6, strides=(2, 2), se_ratio=0.25, id_skip=True, fused_conv=False, conv_type='depthwise'), BlockConfig(input_filters=24, output_filters=40, kernel_size=5, num_repeat=2, expand_ratio=6, strides=(2, 2), se_ratio=0.25, id_skip=True, fused_conv=False, conv_type='depthwise'), BlockConfig(input_filters=40, output_filters=80, kernel_size=3, num_repeat=3, expand_ratio=6, strides=(2, 2), se_ratio=0.25, id_skip=True, fused_conv=False, conv_type='depthwise'), BlockConfig(input_filters=80, output_filters=112, kernel_size=5, num_repeat=3, expand_ratio=6, strides=(1, 1), se_ratio=0.25, id_skip=True, fused_conv=False, conv_type='depthwise'), BlockConfig(input_filters=112, output_filters=192, kernel_size=5, num_repeat=4, expand_ratio=6, strides=(2, 2), se_ratio=0.25, id_skip=True, fused_conv=False, conv_type='depthwise'), BlockConfig(input_filters=192, output_filters=320, kernel_size=3, num_repeat=1, expand_ratio=6, strides=(1, 1), se_ratio=0.25, id_skip=True, fused_conv=False, conv_type='depthwise')), stem_base_filters=32, top_base_filters=1280, activation='simple_swish', batch_norm='default', bn_momentum=0.99, bn_epsilon=0.001, weight_decay=5e-06, drop_connect_rate=0.2, depth_divisor=8, min_depth=None, use_se=True, input_channels=3, num_classes=1000, model_name='efficientnet', rescale_input=False, data_format='channels_last', dtype='float32')\n",
            "I0420 21:53:08.339340  6876 ssd_efficientnet_bifpn_feature_extractor.py:150] EfficientDet EfficientNet backbone version: efficientnet-b7\n",
            "I0420 21:53:08.339340  6876 ssd_efficientnet_bifpn_feature_extractor.py:152] EfficientDet BiFPN num filters: 384\n",
            "I0420 21:53:08.339340  6876 ssd_efficientnet_bifpn_feature_extractor.py:153] EfficientDet BiFPN num iterations: 8\n",
            "I0420 21:53:08.341350  6876 efficientnet_model.py:143] round_filter input=32 output=64\n",
            "I0420 21:53:08.365761  6876 efficientnet_model.py:143] round_filter input=32 output=64\n",
            "I0420 21:53:08.365761  6876 efficientnet_model.py:143] round_filter input=16 output=32\n",
            "I0420 21:53:08.722437  6876 efficientnet_model.py:143] round_filter input=16 output=32\n",
            "I0420 21:53:08.722437  6876 efficientnet_model.py:143] round_filter input=24 output=48\n",
            "I0420 21:53:09.584285  6876 efficientnet_model.py:143] round_filter input=24 output=48\n",
            "I0420 21:53:09.584285  6876 efficientnet_model.py:143] round_filter input=40 output=80\n",
            "I0420 21:53:10.558063  6876 efficientnet_model.py:143] round_filter input=40 output=80\n",
            "I0420 21:53:10.559060  6876 efficientnet_model.py:143] round_filter input=80 output=160\n",
            "I0420 21:53:11.754449  6876 efficientnet_model.py:143] round_filter input=80 output=160\n",
            "I0420 21:53:11.754449  6876 efficientnet_model.py:143] round_filter input=112 output=224\n",
            "I0420 21:53:13.043995  6876 efficientnet_model.py:143] round_filter input=112 output=224\n",
            "I0420 21:53:13.043995  6876 efficientnet_model.py:143] round_filter input=192 output=384\n",
            "I0420 21:53:15.371927  6876 efficientnet_model.py:143] round_filter input=192 output=384\n",
            "I0420 21:53:15.371927  6876 efficientnet_model.py:143] round_filter input=320 output=640\n",
            "I0420 21:53:16.362373  6876 efficientnet_model.py:143] round_filter input=1280 output=2560\n",
            "I0420 21:53:16.536688  6876 efficientnet_model.py:453] Building model efficientnet with params ModelConfig(width_coefficient=2.0, depth_coefficient=3.1, resolution=600, dropout_rate=0.5, blocks=(BlockConfig(input_filters=32, output_filters=16, kernel_size=3, num_repeat=1, expand_ratio=1, strides=(1, 1), se_ratio=0.25, id_skip=True, fused_conv=False, conv_type='depthwise'), BlockConfig(input_filters=16, output_filters=24, kernel_size=3, num_repeat=2, expand_ratio=6, strides=(2, 2), se_ratio=0.25, id_skip=True, fused_conv=False, conv_type='depthwise'), BlockConfig(input_filters=24, output_filters=40, kernel_size=5, num_repeat=2, expand_ratio=6, strides=(2, 2), se_ratio=0.25, id_skip=True, fused_conv=False, conv_type='depthwise'), BlockConfig(input_filters=40, output_filters=80, kernel_size=3, num_repeat=3, expand_ratio=6, strides=(2, 2), se_ratio=0.25, id_skip=True, fused_conv=False, conv_type='depthwise'), BlockConfig(input_filters=80, output_filters=112, kernel_size=5, num_repeat=3, expand_ratio=6, strides=(1, 1), se_ratio=0.25, id_skip=True, fused_conv=False, conv_type='depthwise'), BlockConfig(input_filters=112, output_filters=192, kernel_size=5, num_repeat=4, expand_ratio=6, strides=(2, 2), se_ratio=0.25, id_skip=True, fused_conv=False, conv_type='depthwise'), BlockConfig(input_filters=192, output_filters=320, kernel_size=3, num_repeat=1, expand_ratio=6, strides=(1, 1), se_ratio=0.25, id_skip=True, fused_conv=False, conv_type='depthwise')), stem_base_filters=32, top_base_filters=1280, activation='simple_swish', batch_norm='default', bn_momentum=0.99, bn_epsilon=0.001, weight_decay=5e-06, drop_connect_rate=0.2, depth_divisor=8, min_depth=None, use_se=True, input_channels=3, num_classes=1000, model_name='efficientnet', rescale_input=False, data_format='channels_last', dtype='float32')\n",
            "INFO:tensorflow:time(__main__.ModelBuilderTF2Test.test_create_ssd_models_from_config): 35.51s\n",
            "I0420 21:53:16.800706  6876 test_util.py:2460] time(__main__.ModelBuilderTF2Test.test_create_ssd_models_from_config): 35.51s\n",
            "[       OK ] ModelBuilderTF2Test.test_create_ssd_models_from_config\n",
            "[ RUN      ] ModelBuilderTF2Test.test_invalid_faster_rcnn_batchnorm_update\n",
            "INFO:tensorflow:time(__main__.ModelBuilderTF2Test.test_invalid_faster_rcnn_batchnorm_update): 0.01s\n",
            "I0420 21:53:16.926532  6876 test_util.py:2460] time(__main__.ModelBuilderTF2Test.test_invalid_faster_rcnn_batchnorm_update): 0.01s\n",
            "[       OK ] ModelBuilderTF2Test.test_invalid_faster_rcnn_batchnorm_update\n",
            "[ RUN      ] ModelBuilderTF2Test.test_invalid_first_stage_nms_iou_threshold\n",
            "INFO:tensorflow:time(__main__.ModelBuilderTF2Test.test_invalid_first_stage_nms_iou_threshold): 0.0s\n",
            "I0420 21:53:16.929527  6876 test_util.py:2460] time(__main__.ModelBuilderTF2Test.test_invalid_first_stage_nms_iou_threshold): 0.0s\n",
            "[       OK ] ModelBuilderTF2Test.test_invalid_first_stage_nms_iou_threshold\n",
            "[ RUN      ] ModelBuilderTF2Test.test_invalid_model_config_proto\n",
            "INFO:tensorflow:time(__main__.ModelBuilderTF2Test.test_invalid_model_config_proto): 0.0s\n",
            "I0420 21:53:16.930524  6876 test_util.py:2460] time(__main__.ModelBuilderTF2Test.test_invalid_model_config_proto): 0.0s\n",
            "[       OK ] ModelBuilderTF2Test.test_invalid_model_config_proto\n",
            "[ RUN      ] ModelBuilderTF2Test.test_invalid_second_stage_batch_size\n",
            "INFO:tensorflow:time(__main__.ModelBuilderTF2Test.test_invalid_second_stage_batch_size): 0.0s\n",
            "I0420 21:53:16.932529  6876 test_util.py:2460] time(__main__.ModelBuilderTF2Test.test_invalid_second_stage_batch_size): 0.0s\n",
            "[       OK ] ModelBuilderTF2Test.test_invalid_second_stage_batch_size\n",
            "[ RUN      ] ModelBuilderTF2Test.test_session\n",
            "[  SKIPPED ] ModelBuilderTF2Test.test_session\n",
            "[ RUN      ] ModelBuilderTF2Test.test_unknown_faster_rcnn_feature_extractor\n",
            "INFO:tensorflow:time(__main__.ModelBuilderTF2Test.test_unknown_faster_rcnn_feature_extractor): 0.0s\n",
            "I0420 21:53:16.934537  6876 test_util.py:2460] time(__main__.ModelBuilderTF2Test.test_unknown_faster_rcnn_feature_extractor): 0.0s\n",
            "[       OK ] ModelBuilderTF2Test.test_unknown_faster_rcnn_feature_extractor\n",
            "[ RUN      ] ModelBuilderTF2Test.test_unknown_meta_architecture\n",
            "INFO:tensorflow:time(__main__.ModelBuilderTF2Test.test_unknown_meta_architecture): 0.0s\n",
            "I0420 21:53:16.934537  6876 test_util.py:2460] time(__main__.ModelBuilderTF2Test.test_unknown_meta_architecture): 0.0s\n",
            "[       OK ] ModelBuilderTF2Test.test_unknown_meta_architecture\n",
            "[ RUN      ] ModelBuilderTF2Test.test_unknown_ssd_feature_extractor\n",
            "INFO:tensorflow:time(__main__.ModelBuilderTF2Test.test_unknown_ssd_feature_extractor): 0.0s\n",
            "I0420 21:53:16.937542  6876 test_util.py:2460] time(__main__.ModelBuilderTF2Test.test_unknown_ssd_feature_extractor): 0.0s\n",
            "[       OK ] ModelBuilderTF2Test.test_unknown_ssd_feature_extractor\n",
            "----------------------------------------------------------------------\n",
            "Ran 24 tests in 41.876s\n",
            "\n",
            "OK (skipped=1)\n"
          ]
        }
      ],
      "source": [
        "VERIFICATION_SCRIPT = os.path.join(paths['APIMODEL_PATH'], 'research', 'object_detection', 'builders', 'model_builder_tf2_test.py')\n",
        "# Verify Installation\n",
        "!python {VERIFICATION_SCRIPT}"
      ]
    },
    {
      "cell_type": "code",
      "execution_count": null,
      "metadata": {
        "collapsed": true,
        "id": "rshcDCUdncW9"
      },
      "outputs": [],
      "source": [
        "#!pip install tensorflow --upgrade"
      ]
    },
    {
      "cell_type": "code",
      "execution_count": 6,
      "metadata": {
        "id": "v2LTDPxNncW9"
      },
      "outputs": [],
      "source": [
        "import object_detection"
      ]
    },
    {
      "cell_type": "code",
      "execution_count": 8,
      "metadata": {
        "id": "j8YSR63rncW-",
        "outputId": "a918bc4f-401c-4b41-bad5-e913637894f7"
      },
      "outputs": [
        {
          "name": "stdout",
          "output_type": "stream",
          "text": [
            "Requirement already satisfied: wget in c:\\users\\varshaa\\onedrive\\desktop\\ci_ai\\lib\\site-packages (3.2)Note: you may need to restart the kernel to use updated packages.\n",
            "\n"
          ]
        },
        {
          "name": "stderr",
          "output_type": "stream",
          "text": [
            "WARNING: Ignoring invalid distribution -pencv-python (c:\\users\\varshaa\\onedrive\\desktop\\ci_ai\\lib\\site-packages)\n",
            "WARNING: Ignoring invalid distribution -pencv-python (c:\\users\\varshaa\\onedrive\\desktop\\ci_ai\\lib\\site-packages)\n",
            "WARNING: Ignoring invalid distribution -pencv-python (c:\\users\\varshaa\\onedrive\\desktop\\ci_ai\\lib\\site-packages)\n",
            "WARNING: Ignoring invalid distribution -pencv-python (c:\\users\\varshaa\\onedrive\\desktop\\ci_ai\\lib\\site-packages)\n",
            "WARNING: Ignoring invalid distribution -pencv-python (c:\\users\\varshaa\\onedrive\\desktop\\ci_ai\\lib\\site-packages)\n",
            "WARNING: Ignoring invalid distribution -pencv-python (c:\\users\\varshaa\\onedrive\\desktop\\ci_ai\\lib\\site-packages)\n",
            "WARNING: You are using pip version 22.0.4; however, version 23.1.2 is available.\n",
            "You should consider upgrading via the 'c:\\Users\\Varshaa\\OneDrive\\Desktop\\CI_AI\\Scripts\\python.exe -m pip install --upgrade pip' command.\n"
          ]
        }
      ],
      "source": [
        "pip install wget"
      ]
    },
    {
      "cell_type": "code",
      "execution_count": 22,
      "metadata": {
        "id": "qSQn3L_XncW-",
        "outputId": "53473a89-7e7c-4c25-8bf3-beafa87bff1b",
        "scrolled": true
      },
      "outputs": [
        {
          "name": "stdout",
          "output_type": "stream",
          "text": [
            "Package                       Version   Editable project location\n",
            "----------------------------- --------- -----------------------------------------------------------------------\n",
            "absl-py                       1.4.0\n",
            "antimony                      2.13.2\n",
            "appdirs                       1.4.4\n",
            "array-record                  0.2.0\n",
            "asttokens                     2.2.1\n",
            "astunparse                    1.6.3\n",
            "backcall                      0.2.0\n",
            "cachetools                    5.3.0\n",
            "certifi                       2022.12.7\n",
            "charset-normalizer            3.1.0\n",
            "click                         8.1.3\n",
            "colorama                      0.4.6\n",
            "comm                          0.1.3\n",
            "contourpy                     1.0.7\n",
            "cycler                        0.11.0\n",
            "Cython                        0.29.34\n",
            "debugpy                       1.6.7\n",
            "decorator                     5.1.1\n",
            "dm-tree                       0.1.8\n",
            "etils                         1.2.0\n",
            "executing                     1.2.0\n",
            "flatbuffers                   23.3.3\n",
            "fonttools                     4.39.3\n",
            "gast                          0.4.0\n",
            "gin-config                    0.5.0\n",
            "google-api-core               2.11.0\n",
            "google-api-python-client      2.84.0\n",
            "google-auth                   2.17.2\n",
            "google-auth-httplib2          0.1.0\n",
            "google-auth-oauthlib          0.4.6\n",
            "google-pasta                  0.2.0\n",
            "googleapis-common-protos      1.59.0\n",
            "grpcio                        1.53.0\n",
            "h5py                          3.8.0\n",
            "httplib2                      0.22.0\n",
            "idna                          3.4\n",
            "immutabledict                 2.2.4\n",
            "importlib-resources           5.12.0\n",
            "ipykernel                     6.22.0\n",
            "ipython                       8.12.0\n",
            "jax                           0.4.8\n",
            "jedi                          0.18.2\n",
            "joblib                        1.2.0\n",
            "jupyter_client                8.1.0\n",
            "jupyter_core                  5.3.0\n",
            "kaggle                        1.5.13\n",
            "keras                         2.10.0\n",
            "Keras-Preprocessing           1.1.2\n",
            "kiwisolver                    1.4.4\n",
            "libclang                      16.0.0\n",
            "lxml                          4.9.2\n",
            "Markdown                      3.4.3\n",
            "MarkupSafe                    2.1.2\n",
            "matplotlib                    3.7.1\n",
            "matplotlib-inline             0.1.6\n",
            "ml-dtypes                     0.0.4\n",
            "nest-asyncio                  1.5.6\n",
            "numpy                         1.23.5\n",
            "oauth2client                  4.1.3\n",
            "oauthlib                      3.2.2\n",
            "object-detection              0.1\n",
            "opencv-python                 4.7.0.72\n",
            "opencv-python-headless        4.7.0.72\n",
            "opt-einsum                    3.3.0\n",
            "packaging                     23.0\n",
            "pandas                        2.0.0\n",
            "parso                         0.8.3\n",
            "pickleshare                   0.7.5\n",
            "Pillow                        9.5.0\n",
            "pip                           22.0.4\n",
            "platformdirs                  3.2.0\n",
            "pluggy                        1.0.0\n",
            "portalocker                   2.7.0\n",
            "promise                       2.3\n",
            "prompt-toolkit                3.0.38\n",
            "protobuf                      3.19.6\n",
            "psutil                        5.9.4\n",
            "pure-eval                     0.2.2\n",
            "py-cpuinfo                    9.0.0\n",
            "pyasn1                        0.4.8\n",
            "pyasn1-modules                0.2.8\n",
            "pycocotools                   2.0.6\n",
            "Pygments                      2.15.0\n",
            "pyparsing                     2.4.7\n",
            "PyQt5                         5.15.9\n",
            "PyQt5-Qt5                     5.15.2\n",
            "PyQt5-sip                     12.12.0\n",
            "python-dateutil               2.8.2\n",
            "python-git                    2018.2.1\n",
            "python-libcombine             0.2.19\n",
            "python-libnuml                1.1.6\n",
            "python-libsbml                5.20.0\n",
            "python-libsedml               2.0.32\n",
            "python-slugify                8.0.1\n",
            "pytz                          2023.3\n",
            "pywin32                       306\n",
            "PyYAML                        5.4.1\n",
            "pyzmq                         25.0.2\n",
            "regex                         2023.3.23\n",
            "requests                      2.28.2\n",
            "requests-oauthlib             1.3.1\n",
            "rsa                           4.9\n",
            "sacrebleu                     2.2.0\n",
            "scikit-learn                  1.2.2\n",
            "scipy                         1.10.1\n",
            "Send2Trash                    1.8.0\n",
            "sentencepiece                 0.1.97\n",
            "seqeval                       1.2.2\n",
            "setuptools                    58.1.0\n",
            "six                           1.16.0\n",
            "sklearn                       0.0.post1\n",
            "slim                          0.1       c:\\users\\varshaa\\onedrive\\desktop\\ci_ai\\tensorflow\\models\\research\\slim\n",
            "stack-data                    0.6.2\n",
            "tabulate                      0.9.0\n",
            "tenacity                      8.2.2\n",
            "tensorboard                   2.10.1\n",
            "tensorboard-data-server       0.6.1\n",
            "tensorboard-plugin-wit        1.8.1\n",
            "tensorflow                    2.10.1\n",
            "tensorflow-addons             0.20.0\n",
            "tensorflow-datasets           4.9.0\n",
            "tensorflow-estimator          2.10.0\n",
            "tensorflow-hub                0.13.0\n",
            "tensorflow-intel              2.12.0\n",
            "tensorflow-io-gcs-filesystem  0.31.0\n",
            "tensorflow-metadata           1.13.0\n",
            "tensorflow-model-optimization 0.7.4\n",
            "tensorflow-text               2.10.0\n",
            "termcolor                     2.2.0\n",
            "text-unidecode                1.3\n",
            "tf-models-official            2.10.1\n",
            "tf-slim                       1.1.0\n",
            "threadpoolctl                 3.1.0\n",
            "toml                          0.10.2\n",
            "tomli                         2.0.1\n",
            "tornado                       6.2\n",
            "tqdm                          4.65.0\n",
            "traitlets                     5.9.0\n",
            "typeguard                     2.13.3\n",
            "typing_extensions             4.5.0\n",
            "tzdata                        2023.3\n",
            "uritemplate                   4.1.1\n",
            "urllib3                       1.26.15\n",
            "wcwidth                       0.2.6\n",
            "Werkzeug                      2.2.3\n",
            "wget                          3.2\n",
            "wheel                         0.40.0\n",
            "wrapt                         1.14.1\n",
            "xlrd                          2.0.1\n",
            "zipp                          3.15.0\n"
          ]
        },
        {
          "name": "stderr",
          "output_type": "stream",
          "text": [
            "WARNING: You are using pip version 22.0.4; however, version 23.0.1 is available.\n",
            "You should consider upgrading via the 'C:\\Users\\Varshaa\\OneDrive\\Desktop\\CI_AI\\Scripts\\python.exe -m pip install --upgrade pip' command.\n"
          ]
        }
      ],
      "source": [
        "!pip list"
      ]
    },
    {
      "cell_type": "code",
      "execution_count": 9,
      "metadata": {
        "colab": {
          "base_uri": "https://localhost:8080/"
        },
        "id": "csofht2npfDE",
        "outputId": "ff5471b2-bed2-43f2-959c-327a706527b6"
      },
      "outputs": [
        {
          "ename": "NameError",
          "evalue": "name 'wget' is not defined",
          "output_type": "error",
          "traceback": [
            "\u001b[1;31m---------------------------------------------------------------------------\u001b[0m",
            "\u001b[1;31mNameError\u001b[0m                                 Traceback (most recent call last)",
            "Cell \u001b[1;32mIn[9], line 6\u001b[0m\n\u001b[0;32m      4\u001b[0m     get_ipython()\u001b[39m.\u001b[39msystem(\u001b[39m\"\u001b[39m\u001b[39mcd \u001b[39m\u001b[39m{paths['PRETRAINED_MODEL_PATH']}\u001b[39;00m\u001b[39m && tar -zxvf \u001b[39m\u001b[39m{\u001b[39m\u001b[39mPRETRAINED_MODEL_NAME+\u001b[39m\u001b[39m'\u001b[39m\u001b[39m.tar.gz\u001b[39m\u001b[39m'\u001b[39m\u001b[39m}\u001b[39m\u001b[39m\"\u001b[39m)\n\u001b[0;32m      5\u001b[0m \u001b[39mif\u001b[39;00m os\u001b[39m.\u001b[39mname \u001b[39m==\u001b[39m \u001b[39m'\u001b[39m\u001b[39mnt\u001b[39m\u001b[39m'\u001b[39m:\n\u001b[1;32m----> 6\u001b[0m     wget\u001b[39m.\u001b[39mdownload(PRETRAINED_MODEL_URL)\n\u001b[0;32m      7\u001b[0m     get_ipython()\u001b[39m.\u001b[39msystem(\u001b[39m\"\u001b[39m\u001b[39mmove \u001b[39m\u001b[39m{\u001b[39m\u001b[39mPRETRAINED_MODEL_NAME+\u001b[39m\u001b[39m'\u001b[39m\u001b[39m.tar.gz\u001b[39m\u001b[39m'\u001b[39m\u001b[39m} \u001b[39m\u001b[39m{paths['PRETRAINED_MODEL_PATH']}\u001b[39;00m\u001b[39m\"\u001b[39m)\n\u001b[0;32m      8\u001b[0m     get_ipython()\u001b[39m.\u001b[39msystem(\u001b[39m\"\u001b[39m\u001b[39mcd \u001b[39m\u001b[39m{paths['PRETRAINED_MODEL_PATH']}\u001b[39;00m\u001b[39m && tar -zxvf \u001b[39m\u001b[39m{\u001b[39m\u001b[39mPRETRAINED_MODEL_NAME+\u001b[39m\u001b[39m'\u001b[39m\u001b[39m.tar.gz\u001b[39m\u001b[39m'\u001b[39m\u001b[39m}\u001b[39m\u001b[39m\"\u001b[39m)\n",
            "\u001b[1;31mNameError\u001b[0m: name 'wget' is not defined"
          ]
        }
      ],
      "source": [
        "if os.name =='posix':\n",
        "    !wget {PRETRAINED_MODEL_URL}\n",
        "    !mv {PRETRAINED_MODEL_NAME+'.tar.gz'} {paths['PRETRAINED_MODEL_PATH']}\n",
        "    !cd {paths['PRETRAINED_MODEL_PATH']} && tar -zxvf {PRETRAINED_MODEL_NAME+'.tar.gz'}\n",
        "if os.name == 'nt':\n",
        "    wget.download(PRETRAINED_MODEL_URL)\n",
        "    !move {PRETRAINED_MODEL_NAME+'.tar.gz'} {paths['PRETRAINED_MODEL_PATH']}\n",
        "    !cd {paths['PRETRAINED_MODEL_PATH']} && tar -zxvf {PRETRAINED_MODEL_NAME+'.tar.gz'}"
      ]
    },
    {
      "cell_type": "markdown",
      "metadata": {
        "id": "M5KJTnkfpfDC"
      },
      "source": [
        "# 2. Create Label Map"
      ]
    },
    {
      "cell_type": "code",
      "execution_count": 7,
      "metadata": {
        "id": "p1BVDWo7pfDC"
      },
      "outputs": [],
      "source": [
        "labels = [{'name':'fresh apple', 'id':1},{'name':'Fresh green banana', 'id':2},{'name':'Fresh Mango', 'id':3},{'name':'fresh orange', 'id':4}]\n",
        "\n",
        "with open(files['LABELMAP'], 'w') as f:\n",
        "    for label in labels:\n",
        "        f.write('item { \\n')\n",
        "        f.write('\\tname:\\'{}\\'\\n'.format(label['name']))\n",
        "        f.write('\\tid:{}\\n'.format(label['id']))\n",
        "        f.write('}\\n')"
      ]
    },
    {
      "cell_type": "markdown",
      "metadata": {
        "id": "C88zyVELpfDC"
      },
      "source": [
        "# 3. Create TF records"
      ]
    },
    {
      "cell_type": "code",
      "execution_count": 8,
      "metadata": {
        "id": "KWpb_BVUpfDD"
      },
      "outputs": [],
      "source": [
        "if not os.path.exists(files['TF_RECORD_SCRIPT']):\n",
        "    !git clone https://github.com/nicknochnack/GenerateTFRecord {paths['SCRIPTS_PATH']}"
      ]
    },
    {
      "cell_type": "code",
      "execution_count": 9,
      "metadata": {
        "colab": {
          "base_uri": "https://localhost:8080/"
        },
        "id": "UPFToGZqpfDD",
        "outputId": "0ebb456f-aadc-4a1f-96e6-fbfec1923e1c"
      },
      "outputs": [
        {
          "name": "stdout",
          "output_type": "stream",
          "text": [
            "^C\n"
          ]
        },
        {
          "name": "stderr",
          "output_type": "stream",
          "text": [
            "Traceback (most recent call last):\n",
            "  File \"c:\\Users\\Varshaa\\OneDrive\\Desktop\\CI_AI\\Tensorflow\\scripts\\generate_tfrecord.py\", line 168, in <module>\n",
            "    tf.app.run()\n",
            "  File \"c:\\Users\\Varshaa\\OneDrive\\Desktop\\CI_AI\\lib\\site-packages\\tensorflow\\python\\platform\\app.py\", line 36, in run\n",
            "    _run(main=main, argv=argv, flags_parser=_parse_flags_tolerate_undef)\n",
            "  File \"c:\\Users\\Varshaa\\OneDrive\\Desktop\\CI_AI\\lib\\site-packages\\absl\\app.py\", line 308, in run\n",
            "    _run_main(main, args)\n",
            "  File \"c:\\Users\\Varshaa\\OneDrive\\Desktop\\CI_AI\\lib\\site-packages\\absl\\app.py\", line 254, in _run_main\n",
            "    sys.exit(main(argv))\n",
            "  File \"c:\\Users\\Varshaa\\OneDrive\\Desktop\\CI_AI\\Tensorflow\\scripts\\generate_tfrecord.py\", line 158, in main\n",
            "    tf_example = create_tf_example(group, path)\n",
            "  File \"c:\\Users\\Varshaa\\OneDrive\\Desktop\\CI_AI\\Tensorflow\\scripts\\generate_tfrecord.py\", line 112, in create_tf_example\n",
            "    encoded_jpg = fid.read()\n",
            "  File \"c:\\Users\\Varshaa\\OneDrive\\Desktop\\CI_AI\\lib\\site-packages\\tensorflow\\python\\lib\\io\\file_io.py\", line 114, in read\n",
            "    self._preread_check()\n",
            "  File \"c:\\Users\\Varshaa\\OneDrive\\Desktop\\CI_AI\\lib\\site-packages\\tensorflow\\python\\lib\\io\\file_io.py\", line 76, in _preread_check\n",
            "    self._read_buf = _pywrap_file_io.BufferedInputStream(\n",
            "tensorflow.python.framework.errors_impl.NotFoundError: NewRandomAccessFile failed to Create/Open: Tensorflow\\workspace\\images\\test\\IMG20230424070651_01.jpg : The system cannot find the file specified.\n",
            "\n",
            "; No such file or directory\n"
          ]
        }
      ],
      "source": [
        "!python {files['TF_RECORD_SCRIPT']} -x {os.path.join(paths['IMAGE_PATH'], 'train')} -l {files['LABELMAP']} -o {os.path.join(paths['ANNOTATION_PATH'], 'train.record')} \n",
        "!python {files['TF_RECORD_SCRIPT']} -x {os.path.join(paths['IMAGE_PATH'], 'test')} -l {files['LABELMAP']} -o {os.path.join(paths['ANNOTATION_PATH'], 'test.record')}   "
      ]
    },
    {
      "cell_type": "markdown",
      "metadata": {
        "id": "qT4QU7pLpfDE"
      },
      "source": [
        "# 4. Copy Model Config to Training Folder"
      ]
    },
    {
      "cell_type": "code",
      "execution_count": 37,
      "metadata": {
        "id": "cOjuTFbwpfDF",
        "outputId": "ba14ea14-ba2b-4acd-8161-c10761be4f1f"
      },
      "outputs": [
        {
          "name": "stdout",
          "output_type": "stream",
          "text": [
            "        1 file(s) copied.\n"
          ]
        }
      ],
      "source": [
        "if os.name =='posix':\n",
        "    !cp {os.path.join(paths['PRETRAINED_MODEL_PATH'], PRETRAINED_MODEL_NAME, 'pipeline.config')} {os.path.join(paths['CHECKPOINT_PATH'])}\n",
        "if os.name == 'nt':\n",
        "    !copy {os.path.join(paths['PRETRAINED_MODEL_PATH'], PRETRAINED_MODEL_NAME, 'pipeline.config')} {os.path.join(paths['CHECKPOINT_PATH'])}"
      ]
    },
    {
      "cell_type": "markdown",
      "metadata": {
        "id": "Ga8gpNslpfDF"
      },
      "source": [
        "# 5. Update Config For Transfer Learning"
      ]
    },
    {
      "cell_type": "code",
      "execution_count": 38,
      "metadata": {
        "id": "Z9hRrO_ppfDF"
      },
      "outputs": [],
      "source": [
        "import tensorflow as tf\n",
        "from object_detection.utils import config_util\n",
        "from object_detection.protos import pipeline_pb2\n",
        "from google.protobuf import text_format"
      ]
    },
    {
      "cell_type": "code",
      "execution_count": 39,
      "metadata": {
        "id": "c2A0mn4ipfDF"
      },
      "outputs": [],
      "source": [
        "config = config_util.get_configs_from_pipeline_file(files['PIPELINE_CONFIG'])"
      ]
    },
    {
      "cell_type": "code",
      "execution_count": 40,
      "metadata": {
        "colab": {
          "base_uri": "https://localhost:8080/"
        },
        "id": "uQA13-afpfDF",
        "outputId": "907496a4-a39d-4b13-8c2c-e5978ecb1f10"
      },
      "outputs": [
        {
          "data": {
            "text/plain": [
              "{'model': ssd {\n",
              "   num_classes: 90\n",
              "   image_resizer {\n",
              "     fixed_shape_resizer {\n",
              "       height: 320\n",
              "       width: 320\n",
              "     }\n",
              "   }\n",
              "   feature_extractor {\n",
              "     type: \"ssd_mobilenet_v2_fpn_keras\"\n",
              "     depth_multiplier: 1.0\n",
              "     min_depth: 16\n",
              "     conv_hyperparams {\n",
              "       regularizer {\n",
              "         l2_regularizer {\n",
              "           weight: 3.9999998989515007e-05\n",
              "         }\n",
              "       }\n",
              "       initializer {\n",
              "         random_normal_initializer {\n",
              "           mean: 0.0\n",
              "           stddev: 0.009999999776482582\n",
              "         }\n",
              "       }\n",
              "       activation: RELU_6\n",
              "       batch_norm {\n",
              "         decay: 0.996999979019165\n",
              "         scale: true\n",
              "         epsilon: 0.0010000000474974513\n",
              "       }\n",
              "     }\n",
              "     use_depthwise: true\n",
              "     override_base_feature_extractor_hyperparams: true\n",
              "     fpn {\n",
              "       min_level: 3\n",
              "       max_level: 7\n",
              "       additional_layer_depth: 128\n",
              "     }\n",
              "   }\n",
              "   box_coder {\n",
              "     faster_rcnn_box_coder {\n",
              "       y_scale: 10.0\n",
              "       x_scale: 10.0\n",
              "       height_scale: 5.0\n",
              "       width_scale: 5.0\n",
              "     }\n",
              "   }\n",
              "   matcher {\n",
              "     argmax_matcher {\n",
              "       matched_threshold: 0.5\n",
              "       unmatched_threshold: 0.5\n",
              "       ignore_thresholds: false\n",
              "       negatives_lower_than_unmatched: true\n",
              "       force_match_for_each_row: true\n",
              "       use_matmul_gather: true\n",
              "     }\n",
              "   }\n",
              "   similarity_calculator {\n",
              "     iou_similarity {\n",
              "     }\n",
              "   }\n",
              "   box_predictor {\n",
              "     weight_shared_convolutional_box_predictor {\n",
              "       conv_hyperparams {\n",
              "         regularizer {\n",
              "           l2_regularizer {\n",
              "             weight: 3.9999998989515007e-05\n",
              "           }\n",
              "         }\n",
              "         initializer {\n",
              "           random_normal_initializer {\n",
              "             mean: 0.0\n",
              "             stddev: 0.009999999776482582\n",
              "           }\n",
              "         }\n",
              "         activation: RELU_6\n",
              "         batch_norm {\n",
              "           decay: 0.996999979019165\n",
              "           scale: true\n",
              "           epsilon: 0.0010000000474974513\n",
              "         }\n",
              "       }\n",
              "       depth: 128\n",
              "       num_layers_before_predictor: 4\n",
              "       kernel_size: 3\n",
              "       class_prediction_bias_init: -4.599999904632568\n",
              "       share_prediction_tower: true\n",
              "       use_depthwise: true\n",
              "     }\n",
              "   }\n",
              "   anchor_generator {\n",
              "     multiscale_anchor_generator {\n",
              "       min_level: 3\n",
              "       max_level: 7\n",
              "       anchor_scale: 4.0\n",
              "       aspect_ratios: 1.0\n",
              "       aspect_ratios: 2.0\n",
              "       aspect_ratios: 0.5\n",
              "       scales_per_octave: 2\n",
              "     }\n",
              "   }\n",
              "   post_processing {\n",
              "     batch_non_max_suppression {\n",
              "       score_threshold: 9.99999993922529e-09\n",
              "       iou_threshold: 0.6000000238418579\n",
              "       max_detections_per_class: 100\n",
              "       max_total_detections: 100\n",
              "       use_static_shapes: false\n",
              "     }\n",
              "     score_converter: SIGMOID\n",
              "   }\n",
              "   normalize_loss_by_num_matches: true\n",
              "   loss {\n",
              "     localization_loss {\n",
              "       weighted_smooth_l1 {\n",
              "       }\n",
              "     }\n",
              "     classification_loss {\n",
              "       weighted_sigmoid_focal {\n",
              "         gamma: 2.0\n",
              "         alpha: 0.25\n",
              "       }\n",
              "     }\n",
              "     classification_weight: 1.0\n",
              "     localization_weight: 1.0\n",
              "   }\n",
              "   encode_background_as_zeros: true\n",
              "   normalize_loc_loss_by_codesize: true\n",
              "   inplace_batchnorm_update: true\n",
              "   freeze_batchnorm: false\n",
              " },\n",
              " 'train_config': batch_size: 128\n",
              " data_augmentation_options {\n",
              "   random_horizontal_flip {\n",
              "   }\n",
              " }\n",
              " data_augmentation_options {\n",
              "   random_crop_image {\n",
              "     min_object_covered: 0.0\n",
              "     min_aspect_ratio: 0.75\n",
              "     max_aspect_ratio: 3.0\n",
              "     min_area: 0.75\n",
              "     max_area: 1.0\n",
              "     overlap_thresh: 0.0\n",
              "   }\n",
              " }\n",
              " sync_replicas: true\n",
              " optimizer {\n",
              "   momentum_optimizer {\n",
              "     learning_rate {\n",
              "       cosine_decay_learning_rate {\n",
              "         learning_rate_base: 0.07999999821186066\n",
              "         total_steps: 50000\n",
              "         warmup_learning_rate: 0.026666000485420227\n",
              "         warmup_steps: 1000\n",
              "       }\n",
              "     }\n",
              "     momentum_optimizer_value: 0.8999999761581421\n",
              "   }\n",
              "   use_moving_average: false\n",
              " }\n",
              " fine_tune_checkpoint: \"PATH_TO_BE_CONFIGURED\"\n",
              " num_steps: 50000\n",
              " startup_delay_steps: 0.0\n",
              " replicas_to_aggregate: 8\n",
              " max_number_of_boxes: 100\n",
              " unpad_groundtruth_tensors: false\n",
              " fine_tune_checkpoint_type: \"classification\"\n",
              " fine_tune_checkpoint_version: V2,\n",
              " 'train_input_config': label_map_path: \"PATH_TO_BE_CONFIGURED\"\n",
              " tf_record_input_reader {\n",
              "   input_path: \"PATH_TO_BE_CONFIGURED\"\n",
              " },\n",
              " 'eval_config': metrics_set: \"coco_detection_metrics\"\n",
              " use_moving_averages: false,\n",
              " 'eval_input_configs': [label_map_path: \"PATH_TO_BE_CONFIGURED\"\n",
              " shuffle: false\n",
              " num_epochs: 1\n",
              " tf_record_input_reader {\n",
              "   input_path: \"PATH_TO_BE_CONFIGURED\"\n",
              " }\n",
              " ],\n",
              " 'eval_input_config': label_map_path: \"PATH_TO_BE_CONFIGURED\"\n",
              " shuffle: false\n",
              " num_epochs: 1\n",
              " tf_record_input_reader {\n",
              "   input_path: \"PATH_TO_BE_CONFIGURED\"\n",
              " }}"
            ]
          },
          "execution_count": 40,
          "metadata": {},
          "output_type": "execute_result"
        }
      ],
      "source": [
        "config"
      ]
    },
    {
      "cell_type": "code",
      "execution_count": 41,
      "metadata": {
        "id": "9vK5lotDpfDF"
      },
      "outputs": [],
      "source": [
        "pipeline_config = pipeline_pb2.TrainEvalPipelineConfig()\n",
        "with tf.io.gfile.GFile(files['PIPELINE_CONFIG'], \"r\") as f:                                                                                                                                                                                                                     \n",
        "    proto_str = f.read()                                                                                                                                                                                                                                          \n",
        "    text_format.Merge(proto_str, pipeline_config)  "
      ]
    },
    {
      "cell_type": "code",
      "execution_count": 42,
      "metadata": {
        "id": "rP43Ph0JpfDG"
      },
      "outputs": [],
      "source": [
        "pipeline_config.model.ssd.num_classes = len(labels)\n",
        "pipeline_config.train_config.batch_size = 4\n",
        "pipeline_config.train_config.fine_tune_checkpoint = os.path.join(paths['PRETRAINED_MODEL_PATH'], PRETRAINED_MODEL_NAME, 'checkpoint', 'ckpt-0')\n",
        "pipeline_config.train_config.fine_tune_checkpoint_type = \"detection\"\n",
        "pipeline_config.train_input_reader.label_map_path= files['LABELMAP']\n",
        "pipeline_config.train_input_reader.tf_record_input_reader.input_path[:] = [os.path.join(paths['ANNOTATION_PATH'], 'train.record')]\n",
        "pipeline_config.eval_input_reader[0].label_map_path = files['LABELMAP']\n",
        "pipeline_config.eval_input_reader[0].tf_record_input_reader.input_path[:] = [os.path.join(paths['ANNOTATION_PATH'], 'test.record')]"
      ]
    },
    {
      "cell_type": "code",
      "execution_count": 43,
      "metadata": {
        "id": "oJvfgwWqpfDG"
      },
      "outputs": [],
      "source": [
        "config_text = text_format.MessageToString(pipeline_config)                                                                                                                                                                                                        \n",
        "with tf.io.gfile.GFile(files['PIPELINE_CONFIG'], \"wb\") as f:                                                                                                                                                                                                                     \n",
        "    f.write(config_text)   "
      ]
    },
    {
      "cell_type": "markdown",
      "metadata": {
        "id": "Zr3ON7xMpfDG"
      },
      "source": [
        "# 6. Train the model"
      ]
    },
    {
      "cell_type": "code",
      "execution_count": 44,
      "metadata": {
        "id": "B-Y2UQmQpfDG"
      },
      "outputs": [],
      "source": [
        "TRAINING_SCRIPT = os.path.join(paths['APIMODEL_PATH'], 'research', 'object_detection', 'model_main_tf2.py')"
      ]
    },
    {
      "cell_type": "code",
      "execution_count": 45,
      "metadata": {
        "id": "jMP2XDfQpfDH"
      },
      "outputs": [],
      "source": [
        "command = \"python {} --model_dir={} --pipeline_config_path={} --num_train_steps=20\".format(TRAINING_SCRIPT, paths['CHECKPOINT_PATH'],files['PIPELINE_CONFIG'])"
      ]
    },
    {
      "cell_type": "code",
      "execution_count": 46,
      "metadata": {
        "colab": {
          "base_uri": "https://localhost:8080/"
        },
        "id": "A4OXXi-ApfDH",
        "outputId": "117a0e83-012b-466e-b7a6-ccaa349ac5ab"
      },
      "outputs": [
        {
          "name": "stdout",
          "output_type": "stream",
          "text": [
            "python Tensorflow\\models\\research\\object_detection\\model_main_tf2.py --model_dir=Tensorflow\\workspace\\models\\Face_Detection --pipeline_config_path=Tensorflow\\workspace\\models\\Face_Detection\\pipeline.config --num_train_steps=20\n"
          ]
        }
      ],
      "source": [
        "print(command)"
      ]
    },
    {
      "cell_type": "code",
      "execution_count": null,
      "metadata": {},
      "outputs": [],
      "source": []
    },
    {
      "cell_type": "code",
      "execution_count": 49,
      "metadata": {
        "colab": {
          "base_uri": "https://localhost:8080/"
        },
        "id": "i3ZsJR-qpfDH",
        "outputId": "cabec5e1-45e6-4f2f-d9cf-297d9c1d0225"
      },
      "outputs": [
        {
          "name": "stderr",
          "output_type": "stream",
          "text": [
            "2023-04-20 22:12:06.952444: W tensorflow/stream_executor/platform/default/dso_loader.cc:64] Could not load dynamic library 'cudart64_110.dll'; dlerror: cudart64_110.dll not found\n",
            "c:\\Users\\Varshaa\\OneDrive\\Desktop\\CI_AI\\lib\\site-packages\\tensorflow_addons\\utils\\tfa_eol_msg.py:23: UserWarning: \n",
            "\n",
            "TensorFlow Addons (TFA) has ended development and introduction of new features.\n",
            "TFA has entered a minimal maintenance and release mode until a planned end of life in May 2024.\n",
            "Please modify downstream libraries to take dependencies from other repositories in our TensorFlow community (e.g. Keras, Keras-CV, and Keras-NLP). \n",
            "\n",
            "For more information see: https://github.com/tensorflow/addons/issues/2807 \n",
            "\n",
            "  warnings.warn(\n",
            "2023-04-20 22:12:19.049298: W tensorflow/stream_executor/platform/default/dso_loader.cc:64] Could not load dynamic library 'nvcuda.dll'; dlerror: nvcuda.dll not found\n",
            "2023-04-20 22:12:19.049676: W tensorflow/stream_executor/cuda/cuda_driver.cc:263] failed call to cuInit: UNKNOWN ERROR (303)\n",
            "WARNING:tensorflow:There are non-GPU devices in `tf.distribute.Strategy`, not using nccl allreduce.\n",
            "W0420 22:12:19.069942 12724 cross_device_ops.py:1387] There are non-GPU devices in `tf.distribute.Strategy`, not using nccl allreduce.\n",
            "INFO:tensorflow:Using MirroredStrategy with devices ('/job:localhost/replica:0/task:0/device:CPU:0',)\n",
            "I0420 22:12:19.096877 12724 mirrored_strategy.py:374] Using MirroredStrategy with devices ('/job:localhost/replica:0/task:0/device:CPU:0',)\n",
            "INFO:tensorflow:Maybe overwriting train_steps: 20\n",
            "I0420 22:12:19.101863 12724 config_util.py:552] Maybe overwriting train_steps: 20\n",
            "INFO:tensorflow:Maybe overwriting use_bfloat16: False\n",
            "I0420 22:12:19.101863 12724 config_util.py:552] Maybe overwriting use_bfloat16: False\n",
            "WARNING:tensorflow:From c:\\Users\\Varshaa\\OneDrive\\Desktop\\CI_AI\\lib\\site-packages\\object_detection-0.1-py3.10.egg\\object_detection\\model_lib_v2.py:563: StrategyBase.experimental_distribute_datasets_from_function (from tensorflow.python.distribute.distribute_lib) is deprecated and will be removed in a future version.\n",
            "Instructions for updating:\n",
            "rename to distribute_datasets_from_function\n",
            "W0420 22:12:19.224769 12724 deprecation.py:350] From c:\\Users\\Varshaa\\OneDrive\\Desktop\\CI_AI\\lib\\site-packages\\object_detection-0.1-py3.10.egg\\object_detection\\model_lib_v2.py:563: StrategyBase.experimental_distribute_datasets_from_function (from tensorflow.python.distribute.distribute_lib) is deprecated and will be removed in a future version.\n",
            "Instructions for updating:\n",
            "rename to distribute_datasets_from_function\n",
            "INFO:tensorflow:Reading unweighted datasets: ['Tensorflow\\\\workspace\\\\annotations\\\\train.record']\n",
            "I0420 22:12:19.236273 12724 dataset_builder.py:162] Reading unweighted datasets: ['Tensorflow\\\\workspace\\\\annotations\\\\train.record']\n",
            "INFO:tensorflow:Reading record datasets for input file: ['Tensorflow\\\\workspace\\\\annotations\\\\train.record']\n",
            "I0420 22:12:19.236273 12724 dataset_builder.py:79] Reading record datasets for input file: ['Tensorflow\\\\workspace\\\\annotations\\\\train.record']\n",
            "INFO:tensorflow:Number of filenames to read: 1\n",
            "I0420 22:12:19.237694 12724 dataset_builder.py:80] Number of filenames to read: 1\n",
            "WARNING:tensorflow:num_readers has been reduced to 1 to match input file shards.\n",
            "W0420 22:12:19.237694 12724 dataset_builder.py:86] num_readers has been reduced to 1 to match input file shards.\n",
            "WARNING:tensorflow:From c:\\Users\\Varshaa\\OneDrive\\Desktop\\CI_AI\\lib\\site-packages\\object_detection-0.1-py3.10.egg\\object_detection\\builders\\dataset_builder.py:100: parallel_interleave (from tensorflow.python.data.experimental.ops.interleave_ops) is deprecated and will be removed in a future version.\n",
            "Instructions for updating:\n",
            "Use `tf.data.Dataset.interleave(map_func, cycle_length, block_length, num_parallel_calls=tf.data.AUTOTUNE)` instead. If sloppy execution is desired, use `tf.data.Options.deterministic`.\n",
            "W0420 22:12:19.248601 12724 deprecation.py:350] From c:\\Users\\Varshaa\\OneDrive\\Desktop\\CI_AI\\lib\\site-packages\\object_detection-0.1-py3.10.egg\\object_detection\\builders\\dataset_builder.py:100: parallel_interleave (from tensorflow.python.data.experimental.ops.interleave_ops) is deprecated and will be removed in a future version.\n",
            "Instructions for updating:\n",
            "Use `tf.data.Dataset.interleave(map_func, cycle_length, block_length, num_parallel_calls=tf.data.AUTOTUNE)` instead. If sloppy execution is desired, use `tf.data.Options.deterministic`.\n",
            "WARNING:tensorflow:From c:\\Users\\Varshaa\\OneDrive\\Desktop\\CI_AI\\lib\\site-packages\\object_detection-0.1-py3.10.egg\\object_detection\\builders\\dataset_builder.py:235: DatasetV1.map_with_legacy_function (from tensorflow.python.data.ops.dataset_ops) is deprecated and will be removed in a future version.\n",
            "Instructions for updating:\n",
            "Use `tf.data.Dataset.map()\n",
            "W0420 22:12:19.268243 12724 deprecation.py:350] From c:\\Users\\Varshaa\\OneDrive\\Desktop\\CI_AI\\lib\\site-packages\\object_detection-0.1-py3.10.egg\\object_detection\\builders\\dataset_builder.py:235: DatasetV1.map_with_legacy_function (from tensorflow.python.data.ops.dataset_ops) is deprecated and will be removed in a future version.\n",
            "Instructions for updating:\n",
            "Use `tf.data.Dataset.map()\n",
            "WARNING:tensorflow:From c:\\Users\\Varshaa\\OneDrive\\Desktop\\CI_AI\\lib\\site-packages\\tensorflow\\python\\util\\dispatch.py:1176: sparse_to_dense (from tensorflow.python.ops.sparse_ops) is deprecated and will be removed in a future version.\n",
            "Instructions for updating:\n",
            "Create a `tf.sparse.SparseTensor` and use `tf.sparse.to_dense` instead.\n",
            "W0420 22:12:27.010602 12724 deprecation.py:350] From c:\\Users\\Varshaa\\OneDrive\\Desktop\\CI_AI\\lib\\site-packages\\tensorflow\\python\\util\\dispatch.py:1176: sparse_to_dense (from tensorflow.python.ops.sparse_ops) is deprecated and will be removed in a future version.\n",
            "Instructions for updating:\n",
            "Create a `tf.sparse.SparseTensor` and use `tf.sparse.to_dense` instead.\n",
            "WARNING:tensorflow:From c:\\Users\\Varshaa\\OneDrive\\Desktop\\CI_AI\\lib\\site-packages\\tensorflow\\python\\util\\dispatch.py:1176: sample_distorted_bounding_box (from tensorflow.python.ops.image_ops_impl) is deprecated and will be removed in a future version.\n",
            "Instructions for updating:\n",
            "`seed2` arg is deprecated.Use sample_distorted_bounding_box_v2 instead.\n",
            "W0420 22:12:31.397944 12724 deprecation.py:350] From c:\\Users\\Varshaa\\OneDrive\\Desktop\\CI_AI\\lib\\site-packages\\tensorflow\\python\\util\\dispatch.py:1176: sample_distorted_bounding_box (from tensorflow.python.ops.image_ops_impl) is deprecated and will be removed in a future version.\n",
            "Instructions for updating:\n",
            "`seed2` arg is deprecated.Use sample_distorted_bounding_box_v2 instead.\n",
            "WARNING:tensorflow:From c:\\Users\\Varshaa\\OneDrive\\Desktop\\CI_AI\\lib\\site-packages\\tensorflow\\python\\util\\dispatch.py:1176: to_float (from tensorflow.python.ops.math_ops) is deprecated and will be removed in a future version.\n",
            "Instructions for updating:\n",
            "Use `tf.cast` instead.\n",
            "W0420 22:12:33.683639 12724 deprecation.py:350] From c:\\Users\\Varshaa\\OneDrive\\Desktop\\CI_AI\\lib\\site-packages\\tensorflow\\python\\util\\dispatch.py:1176: to_float (from tensorflow.python.ops.math_ops) is deprecated and will be removed in a future version.\n",
            "Instructions for updating:\n",
            "Use `tf.cast` instead.\n",
            "2023-04-20 22:12:37.722780: W tensorflow/core/framework/dataset.cc:769] Input of GeneratorDatasetOp::Dataset will not be optimized because the dataset does not implement the AsGraphDefInternal() method needed to apply optimizations.\n",
            "c:\\Users\\Varshaa\\OneDrive\\Desktop\\CI_AI\\lib\\site-packages\\keras\\backend.py:451: UserWarning: `tf.keras.backend.set_learning_phase` is deprecated and will be removed after 2020-10-11. To update it, simply pass a True/False value to the `training` argument of the `__call__` method of your layer or model.\n",
            "  warnings.warn(\n",
            "I0420 22:14:29.069458 16944 api.py:459] feature_map_spatial_dims: [(40, 40), (20, 20), (10, 10), (5, 5), (3, 3)]\n",
            "I0420 22:14:42.899441 16084 api.py:459] feature_map_spatial_dims: [(40, 40), (20, 20), (10, 10), (5, 5), (3, 3)]\n",
            "2023-04-20 22:14:52.758123: W tensorflow/core/framework/dataset.cc:769] Input of GeneratorDatasetOp::Dataset will not be optimized because the dataset does not implement the AsGraphDefInternal() method needed to apply optimizations.\n",
            "WARNING:tensorflow:Detecting that an object or model or tf.train.Checkpoint is being deleted with unrestored values. See the following logs for the specific values in question. To silence these warnings, use `status.expect_partial()`. See https://www.tensorflow.org/api_docs/python/tf/train/Checkpoint#restorefor details about the status object returned by the restore function.\n",
            "W0420 22:14:53.037203 12724 checkpoint.py:204] Detecting that an object or model or tf.train.Checkpoint is being deleted with unrestored values. See the following logs for the specific values in question. To silence these warnings, use `status.expect_partial()`. See https://www.tensorflow.org/api_docs/python/tf/train/Checkpoint#restorefor details about the status object returned by the restore function.\n",
            "WARNING:tensorflow:Value in checkpoint could not be found in the restored object: (root).optimizer.iter\n",
            "W0420 22:14:53.037203 12724 checkpoint.py:213] Value in checkpoint could not be found in the restored object: (root).optimizer.iter\n",
            "WARNING:tensorflow:Value in checkpoint could not be found in the restored object: (root).optimizer.decay\n",
            "W0420 22:14:53.037203 12724 checkpoint.py:213] Value in checkpoint could not be found in the restored object: (root).optimizer.decay\n",
            "WARNING:tensorflow:Value in checkpoint could not be found in the restored object: (root).optimizer.momentum\n",
            "W0420 22:14:53.037203 12724 checkpoint.py:213] Value in checkpoint could not be found in the restored object: (root).optimizer.momentum\n"
          ]
        }
      ],
      "source": [
        "!{command}"
      ]
    },
    {
      "cell_type": "code",
      "execution_count": 50,
      "metadata": {},
      "outputs": [
        {
          "name": "stdout",
          "output_type": "stream",
          "text": [
            "Requirement already satisfied: tensorflow_io in c:\\users\\varshaa\\onedrive\\desktop\\ci_ai\\lib\\site-packages (0.31.0)Note: you may need to restart the kernel to use updated packages.\n",
            "\n",
            "Requirement already satisfied: tensorflow-io-gcs-filesystem==0.31.0 in c:\\users\\varshaa\\onedrive\\desktop\\ci_ai\\lib\\site-packages (from tensorflow_io) (0.31.0)\n"
          ]
        },
        {
          "name": "stderr",
          "output_type": "stream",
          "text": [
            "WARNING: Ignoring invalid distribution -pencv-python (c:\\users\\varshaa\\onedrive\\desktop\\ci_ai\\lib\\site-packages)\n",
            "WARNING: Ignoring invalid distribution -pencv-python (c:\\users\\varshaa\\onedrive\\desktop\\ci_ai\\lib\\site-packages)\n",
            "WARNING: Ignoring invalid distribution -pencv-python (c:\\users\\varshaa\\onedrive\\desktop\\ci_ai\\lib\\site-packages)\n",
            "WARNING: Ignoring invalid distribution -pencv-python (c:\\users\\varshaa\\onedrive\\desktop\\ci_ai\\lib\\site-packages)\n",
            "WARNING: Ignoring invalid distribution -pencv-python (c:\\users\\varshaa\\onedrive\\desktop\\ci_ai\\lib\\site-packages)\n",
            "WARNING: Ignoring invalid distribution -pencv-python (c:\\users\\varshaa\\onedrive\\desktop\\ci_ai\\lib\\site-packages)\n",
            "WARNING: You are using pip version 22.0.4; however, version 23.1 is available.\n",
            "You should consider upgrading via the 'c:\\Users\\Varshaa\\OneDrive\\Desktop\\CI_AI\\Scripts\\python.exe -m pip install --upgrade pip' command.\n"
          ]
        }
      ],
      "source": [
        "pip install tensorflow_io"
      ]
    },
    {
      "cell_type": "code",
      "execution_count": 51,
      "metadata": {},
      "outputs": [
        {
          "name": "stdout",
          "output_type": "stream",
          "text": [
            "Requirement already satisfied: lvis in c:\\users\\varshaa\\onedrive\\desktop\\ci_ai\\lib\\site-packages (0.5.3)Note: you may need to restart the kernel to use updated packages.\n"
          ]
        },
        {
          "name": "stderr",
          "output_type": "stream",
          "text": [
            "WARNING: Ignoring invalid distribution -pencv-python (c:\\users\\varshaa\\onedrive\\desktop\\ci_ai\\lib\\site-packages)\n",
            "WARNING: Ignoring invalid distribution -pencv-python (c:\\users\\varshaa\\onedrive\\desktop\\ci_ai\\lib\\site-packages)\n",
            "WARNING: Ignoring invalid distribution -pencv-python (c:\\users\\varshaa\\onedrive\\desktop\\ci_ai\\lib\\site-packages)\n",
            "WARNING: Ignoring invalid distribution -pencv-python (c:\\users\\varshaa\\onedrive\\desktop\\ci_ai\\lib\\site-packages)\n",
            "WARNING: Ignoring invalid distribution -pencv-python (c:\\users\\varshaa\\onedrive\\desktop\\ci_ai\\lib\\site-packages)\n",
            "WARNING: Ignoring invalid distribution -pencv-python (c:\\users\\varshaa\\onedrive\\desktop\\ci_ai\\lib\\site-packages)\n",
            "WARNING: You are using pip version 22.0.4; however, version 23.1 is available.\n",
            "You should consider upgrading via the 'c:\\Users\\Varshaa\\OneDrive\\Desktop\\CI_AI\\Scripts\\python.exe -m pip install --upgrade pip' command.\n"
          ]
        },
        {
          "name": "stdout",
          "output_type": "stream",
          "text": [
            "\n",
            "Requirement already satisfied: numpy>=1.18.2 in c:\\users\\varshaa\\onedrive\\desktop\\ci_ai\\lib\\site-packages (from lvis) (1.23.5)\n",
            "Requirement already satisfied: six>=1.12.0 in c:\\users\\varshaa\\onedrive\\desktop\\ci_ai\\lib\\site-packages (from lvis) (1.16.0)\n",
            "Requirement already satisfied: pyparsing>=2.4.0 in c:\\users\\varshaa\\onedrive\\desktop\\ci_ai\\lib\\site-packages\\pyparsing-2.4.7-py3.10.egg (from lvis) (2.4.7)\n",
            "Requirement already satisfied: matplotlib>=3.1.1 in c:\\users\\varshaa\\onedrive\\desktop\\ci_ai\\lib\\site-packages (from lvis) (3.7.1)\n",
            "Requirement already satisfied: opencv-python>=4.1.0.25 in c:\\users\\varshaa\\onedrive\\desktop\\ci_ai\\lib\\site-packages (from lvis) (4.7.0.72)\n",
            "Requirement already satisfied: kiwisolver>=1.1.0 in c:\\users\\varshaa\\onedrive\\desktop\\ci_ai\\lib\\site-packages (from lvis) (1.4.4)\n",
            "Requirement already satisfied: cycler>=0.10.0 in c:\\users\\varshaa\\onedrive\\desktop\\ci_ai\\lib\\site-packages (from lvis) (0.11.0)\n",
            "Requirement already satisfied: Cython>=0.29.12 in c:\\users\\varshaa\\onedrive\\desktop\\ci_ai\\lib\\site-packages (from lvis) (0.29.34)\n",
            "Requirement already satisfied: python-dateutil>=2.8.0 in c:\\users\\varshaa\\onedrive\\desktop\\ci_ai\\lib\\site-packages (from lvis) (2.8.2)\n",
            "Requirement already satisfied: contourpy>=1.0.1 in c:\\users\\varshaa\\onedrive\\desktop\\ci_ai\\lib\\site-packages (from matplotlib>=3.1.1->lvis) (1.0.7)\n",
            "Requirement already satisfied: pillow>=6.2.0 in c:\\users\\varshaa\\onedrive\\desktop\\ci_ai\\lib\\site-packages (from matplotlib>=3.1.1->lvis) (9.5.0)\n",
            "Requirement already satisfied: fonttools>=4.22.0 in c:\\users\\varshaa\\onedrive\\desktop\\ci_ai\\lib\\site-packages (from matplotlib>=3.1.1->lvis) (4.39.3)\n",
            "Requirement already satisfied: packaging>=20.0 in c:\\users\\varshaa\\onedrive\\desktop\\ci_ai\\lib\\site-packages (from matplotlib>=3.1.1->lvis) (23.0)\n"
          ]
        }
      ],
      "source": [
        "pip install lvis"
      ]
    },
    {
      "cell_type": "markdown",
      "metadata": {
        "id": "4_YRZu7npfDH"
      },
      "source": [
        "# 7. Evaluate the Model"
      ]
    },
    {
      "cell_type": "code",
      "execution_count": 52,
      "metadata": {
        "id": "80L7-fdPpfDH"
      },
      "outputs": [],
      "source": [
        "command = \"python {} --model_dir={} --pipeline_config_path={} --checkpoint_dir={}\".format(TRAINING_SCRIPT, paths['CHECKPOINT_PATH'],files['PIPELINE_CONFIG'], paths['CHECKPOINT_PATH'])"
      ]
    },
    {
      "cell_type": "code",
      "execution_count": 53,
      "metadata": {
        "colab": {
          "base_uri": "https://localhost:8080/"
        },
        "id": "lYsgEPx9pfDH",
        "outputId": "8632d48b-91d2-45d9-bcb8-c1b172bf6eed"
      },
      "outputs": [
        {
          "name": "stdout",
          "output_type": "stream",
          "text": [
            "python Tensorflow\\models\\research\\object_detection\\model_main_tf2.py --model_dir=Tensorflow\\workspace\\models\\Face_Detection --pipeline_config_path=Tensorflow\\workspace\\models\\Face_Detection\\pipeline.config --checkpoint_dir=Tensorflow\\workspace\\models\\Face_Detection\n"
          ]
        }
      ],
      "source": [
        "print(command)"
      ]
    },
    {
      "cell_type": "code",
      "execution_count": 54,
      "metadata": {
        "id": "lqTV2jGBpfDH",
        "outputId": "e95c7f99-9360-408b-c0e0-35fdc4e70e3e"
      },
      "outputs": [
        {
          "name": "stdout",
          "output_type": "stream",
          "text": [
            "creating index...\n",
            "index created!\n",
            "creating index...\n",
            "index created!\n",
            "Running per image evaluation...\n",
            "Evaluate annotation type *bbox*\n",
            "DONE (t=0.35s).\n",
            "Accumulating evaluation results...\n",
            "DONE (t=0.04s).\n",
            " Average Precision  (AP) @[ IoU=0.50:0.95 | area=   all | maxDets=100 ] = 0.669\n",
            " Average Precision  (AP) @[ IoU=0.50      | area=   all | maxDets=100 ] = 1.000\n",
            " Average Precision  (AP) @[ IoU=0.75      | area=   all | maxDets=100 ] = 0.851\n",
            " Average Precision  (AP) @[ IoU=0.50:0.95 | area= small | maxDets=100 ] = -1.000\n",
            " Average Precision  (AP) @[ IoU=0.50:0.95 | area=medium | maxDets=100 ] = -1.000\n",
            " Average Precision  (AP) @[ IoU=0.50:0.95 | area= large | maxDets=100 ] = 0.669\n",
            " Average Recall     (AR) @[ IoU=0.50:0.95 | area=   all | maxDets=  1 ] = 0.705\n",
            " Average Recall     (AR) @[ IoU=0.50:0.95 | area=   all | maxDets= 10 ] = 0.707\n",
            " Average Recall     (AR) @[ IoU=0.50:0.95 | area=   all | maxDets=100 ] = 0.707\n",
            " Average Recall     (AR) @[ IoU=0.50:0.95 | area= small | maxDets=100 ] = -1.000\n",
            " Average Recall     (AR) @[ IoU=0.50:0.95 | area=medium | maxDets=100 ] = -1.000\n",
            " Average Recall     (AR) @[ IoU=0.50:0.95 | area= large | maxDets=100 ] = 0.707\n"
          ]
        },
        {
          "name": "stderr",
          "output_type": "stream",
          "text": [
            "2023-04-20 22:15:40.124542: W tensorflow/stream_executor/platform/default/dso_loader.cc:64] Could not load dynamic library 'cudart64_110.dll'; dlerror: cudart64_110.dll not found\n",
            "c:\\Users\\Varshaa\\OneDrive\\Desktop\\CI_AI\\lib\\site-packages\\tensorflow_addons\\utils\\tfa_eol_msg.py:23: UserWarning: \n",
            "\n",
            "TensorFlow Addons (TFA) has ended development and introduction of new features.\n",
            "TFA has entered a minimal maintenance and release mode until a planned end of life in May 2024.\n",
            "Please modify downstream libraries to take dependencies from other repositories in our TensorFlow community (e.g. Keras, Keras-CV, and Keras-NLP). \n",
            "\n",
            "For more information see: https://github.com/tensorflow/addons/issues/2807 \n",
            "\n",
            "  warnings.warn(\n",
            "2023-04-20 22:15:51.527669: W tensorflow/stream_executor/platform/default/dso_loader.cc:64] Could not load dynamic library 'nvcuda.dll'; dlerror: nvcuda.dll not found\n",
            "2023-04-20 22:15:51.528321: W tensorflow/stream_executor/cuda/cuda_driver.cc:263] failed call to cuInit: UNKNOWN ERROR (303)\n",
            "WARNING:tensorflow:Forced number of epochs for all eval validations to be 1.\n",
            "W0420 22:15:51.547988 26492 model_lib_v2.py:1089] Forced number of epochs for all eval validations to be 1.\n",
            "INFO:tensorflow:Maybe overwriting sample_1_of_n_eval_examples: None\n",
            "I0420 22:15:51.548986 26492 config_util.py:552] Maybe overwriting sample_1_of_n_eval_examples: None\n",
            "INFO:tensorflow:Maybe overwriting use_bfloat16: False\n",
            "I0420 22:15:51.548986 26492 config_util.py:552] Maybe overwriting use_bfloat16: False\n",
            "INFO:tensorflow:Maybe overwriting eval_num_epochs: 1\n",
            "I0420 22:15:51.548986 26492 config_util.py:552] Maybe overwriting eval_num_epochs: 1\n",
            "WARNING:tensorflow:Expected number of evaluation epochs is 1, but instead encountered `eval_on_train_input_config.num_epochs` = 0. Overwriting `num_epochs` to 1.\n",
            "W0420 22:15:51.548986 26492 model_lib_v2.py:1106] Expected number of evaluation epochs is 1, but instead encountered `eval_on_train_input_config.num_epochs` = 0. Overwriting `num_epochs` to 1.\n",
            "INFO:tensorflow:Reading unweighted datasets: ['Tensorflow\\\\workspace\\\\annotations\\\\test.record']\n",
            "I0420 22:15:51.722632 26492 dataset_builder.py:162] Reading unweighted datasets: ['Tensorflow\\\\workspace\\\\annotations\\\\test.record']\n",
            "INFO:tensorflow:Reading record datasets for input file: ['Tensorflow\\\\workspace\\\\annotations\\\\test.record']\n",
            "I0420 22:15:51.723799 26492 dataset_builder.py:79] Reading record datasets for input file: ['Tensorflow\\\\workspace\\\\annotations\\\\test.record']\n",
            "INFO:tensorflow:Number of filenames to read: 1\n",
            "I0420 22:15:51.723799 26492 dataset_builder.py:80] Number of filenames to read: 1\n",
            "WARNING:tensorflow:num_readers has been reduced to 1 to match input file shards.\n",
            "W0420 22:15:51.723799 26492 dataset_builder.py:86] num_readers has been reduced to 1 to match input file shards.\n",
            "WARNING:tensorflow:From c:\\Users\\Varshaa\\OneDrive\\Desktop\\CI_AI\\lib\\site-packages\\object_detection-0.1-py3.10.egg\\object_detection\\builders\\dataset_builder.py:100: parallel_interleave (from tensorflow.python.data.experimental.ops.interleave_ops) is deprecated and will be removed in a future version.\n",
            "Instructions for updating:\n",
            "Use `tf.data.Dataset.interleave(map_func, cycle_length, block_length, num_parallel_calls=tf.data.AUTOTUNE)` instead. If sloppy execution is desired, use `tf.data.Options.deterministic`.\n",
            "W0420 22:15:51.728585 26492 deprecation.py:350] From c:\\Users\\Varshaa\\OneDrive\\Desktop\\CI_AI\\lib\\site-packages\\object_detection-0.1-py3.10.egg\\object_detection\\builders\\dataset_builder.py:100: parallel_interleave (from tensorflow.python.data.experimental.ops.interleave_ops) is deprecated and will be removed in a future version.\n",
            "Instructions for updating:\n",
            "Use `tf.data.Dataset.interleave(map_func, cycle_length, block_length, num_parallel_calls=tf.data.AUTOTUNE)` instead. If sloppy execution is desired, use `tf.data.Options.deterministic`.\n",
            "WARNING:tensorflow:From c:\\Users\\Varshaa\\OneDrive\\Desktop\\CI_AI\\lib\\site-packages\\object_detection-0.1-py3.10.egg\\object_detection\\builders\\dataset_builder.py:235: DatasetV1.map_with_legacy_function (from tensorflow.python.data.ops.dataset_ops) is deprecated and will be removed in a future version.\n",
            "Instructions for updating:\n",
            "Use `tf.data.Dataset.map()\n",
            "W0420 22:15:51.750036 26492 deprecation.py:350] From c:\\Users\\Varshaa\\OneDrive\\Desktop\\CI_AI\\lib\\site-packages\\object_detection-0.1-py3.10.egg\\object_detection\\builders\\dataset_builder.py:235: DatasetV1.map_with_legacy_function (from tensorflow.python.data.ops.dataset_ops) is deprecated and will be removed in a future version.\n",
            "Instructions for updating:\n",
            "Use `tf.data.Dataset.map()\n",
            "WARNING:tensorflow:From c:\\Users\\Varshaa\\OneDrive\\Desktop\\CI_AI\\lib\\site-packages\\tensorflow\\python\\util\\dispatch.py:1176: sparse_to_dense (from tensorflow.python.ops.sparse_ops) is deprecated and will be removed in a future version.\n",
            "Instructions for updating:\n",
            "Create a `tf.sparse.SparseTensor` and use `tf.sparse.to_dense` instead.\n",
            "W0420 22:15:56.898921 26492 deprecation.py:350] From c:\\Users\\Varshaa\\OneDrive\\Desktop\\CI_AI\\lib\\site-packages\\tensorflow\\python\\util\\dispatch.py:1176: sparse_to_dense (from tensorflow.python.ops.sparse_ops) is deprecated and will be removed in a future version.\n",
            "Instructions for updating:\n",
            "Create a `tf.sparse.SparseTensor` and use `tf.sparse.to_dense` instead.\n",
            "WARNING:tensorflow:From c:\\Users\\Varshaa\\OneDrive\\Desktop\\CI_AI\\lib\\site-packages\\tensorflow\\python\\util\\dispatch.py:1176: to_float (from tensorflow.python.ops.math_ops) is deprecated and will be removed in a future version.\n",
            "Instructions for updating:\n",
            "Use `tf.cast` instead.\n",
            "W0420 22:15:58.534966 26492 deprecation.py:350] From c:\\Users\\Varshaa\\OneDrive\\Desktop\\CI_AI\\lib\\site-packages\\tensorflow\\python\\util\\dispatch.py:1176: to_float (from tensorflow.python.ops.math_ops) is deprecated and will be removed in a future version.\n",
            "Instructions for updating:\n",
            "Use `tf.cast` instead.\n",
            "INFO:tensorflow:Waiting for new checkpoint at Tensorflow\\workspace\\models\\Face_Detection\n",
            "I0420 22:16:02.507859 26492 checkpoint_utils.py:142] Waiting for new checkpoint at Tensorflow\\workspace\\models\\Face_Detection\n",
            "INFO:tensorflow:Found new checkpoint at Tensorflow\\workspace\\models\\Face_Detection\\ckpt-3\n",
            "I0420 22:16:02.508866 26492 checkpoint_utils.py:151] Found new checkpoint at Tensorflow\\workspace\\models\\Face_Detection\\ckpt-3\n",
            "c:\\Users\\Varshaa\\OneDrive\\Desktop\\CI_AI\\lib\\site-packages\\keras\\backend.py:451: UserWarning: `tf.keras.backend.set_learning_phase` is deprecated and will be removed after 2020-10-11. To update it, simply pass a True/False value to the `training` argument of the `__call__` method of your layer or model.\n",
            "  warnings.warn(\n",
            "I0420 22:16:13.821871 26492 api.py:459] feature_map_spatial_dims: [(40, 40), (20, 20), (10, 10), (5, 5), (3, 3)]\n",
            "I0420 22:16:33.583477 26492 api.py:459] feature_map_spatial_dims: [(40, 40), (20, 20), (10, 10), (5, 5), (3, 3)]\n",
            "WARNING:tensorflow:From c:\\Users\\Varshaa\\OneDrive\\Desktop\\CI_AI\\lib\\site-packages\\tensorflow\\python\\util\\dispatch.py:1176: to_int64 (from tensorflow.python.ops.math_ops) is deprecated and will be removed in a future version.\n",
            "Instructions for updating:\n",
            "Use `tf.cast` instead.\n",
            "W0420 22:16:39.942184 26492 deprecation.py:350] From c:\\Users\\Varshaa\\OneDrive\\Desktop\\CI_AI\\lib\\site-packages\\tensorflow\\python\\util\\dispatch.py:1176: to_int64 (from tensorflow.python.ops.math_ops) is deprecated and will be removed in a future version.\n",
            "Instructions for updating:\n",
            "Use `tf.cast` instead.\n",
            "INFO:tensorflow:Finished eval step 0\n",
            "I0420 22:16:39.981086 26492 model_lib_v2.py:966] Finished eval step 0\n",
            "WARNING:tensorflow:From c:\\Users\\Varshaa\\OneDrive\\Desktop\\CI_AI\\lib\\site-packages\\tensorflow\\python\\autograph\\impl\\api.py:459: py_func (from tensorflow.python.ops.script_ops) is deprecated and will be removed in a future version.\n",
            "Instructions for updating:\n",
            "tf.py_func is deprecated in TF V2. Instead, there are two\n",
            "    options available in V2.\n",
            "    - tf.py_function takes a python function which manipulates tf eager\n",
            "    tensors instead of numpy arrays. It's easy to convert a tf eager tensor to\n",
            "    an ndarray (just call tensor.numpy()) but having access to eager tensors\n",
            "    means `tf.py_function`s can use accelerators such as GPUs as well as\n",
            "    being differentiable using a gradient tape.\n",
            "    - tf.numpy_function maintains the semantics of the deprecated tf.py_func\n",
            "    (it is not differentiable, and manipulates numpy arrays). It drops the\n",
            "    stateful argument making all functions stateful.\n",
            "    \n",
            "W0420 22:16:40.445319 26492 deprecation.py:350] From c:\\Users\\Varshaa\\OneDrive\\Desktop\\CI_AI\\lib\\site-packages\\tensorflow\\python\\autograph\\impl\\api.py:459: py_func (from tensorflow.python.ops.script_ops) is deprecated and will be removed in a future version.\n",
            "Instructions for updating:\n",
            "tf.py_func is deprecated in TF V2. Instead, there are two\n",
            "    options available in V2.\n",
            "    - tf.py_function takes a python function which manipulates tf eager\n",
            "    tensors instead of numpy arrays. It's easy to convert a tf eager tensor to\n",
            "    an ndarray (just call tensor.numpy()) but having access to eager tensors\n",
            "    means `tf.py_function`s can use accelerators such as GPUs as well as\n",
            "    being differentiable using a gradient tape.\n",
            "    - tf.numpy_function maintains the semantics of the deprecated tf.py_func\n",
            "    (it is not differentiable, and manipulates numpy arrays). It drops the\n",
            "    stateful argument making all functions stateful.\n",
            "    \n",
            "INFO:tensorflow:Performing evaluation on 60 images.\n",
            "I0420 22:17:11.673185 26492 coco_evaluation.py:293] Performing evaluation on 60 images.\n",
            "INFO:tensorflow:Loading and preparing annotation results...\n",
            "I0420 22:17:11.674608 26492 coco_tools.py:116] Loading and preparing annotation results...\n",
            "INFO:tensorflow:DONE (t=0.01s)\n",
            "I0420 22:17:11.680115 26492 coco_tools.py:138] DONE (t=0.01s)\n",
            "INFO:tensorflow:Eval metrics at step 2000\n",
            "I0420 22:17:12.091365 26492 model_lib_v2.py:1015] Eval metrics at step 2000\n",
            "INFO:tensorflow:\t+ DetectionBoxes_Precision/mAP: 0.668910\n",
            "I0420 22:17:12.123045 26492 model_lib_v2.py:1018] \t+ DetectionBoxes_Precision/mAP: 0.668910\n",
            "INFO:tensorflow:\t+ DetectionBoxes_Precision/mAP@.50IOU: 1.000000\n",
            "I0420 22:17:12.124042 26492 model_lib_v2.py:1018] \t+ DetectionBoxes_Precision/mAP@.50IOU: 1.000000\n",
            "INFO:tensorflow:\t+ DetectionBoxes_Precision/mAP@.75IOU: 0.850816\n",
            "I0420 22:17:12.125039 26492 model_lib_v2.py:1018] \t+ DetectionBoxes_Precision/mAP@.75IOU: 0.850816\n",
            "INFO:tensorflow:\t+ DetectionBoxes_Precision/mAP (small): -1.000000\n",
            "I0420 22:17:12.126039 26492 model_lib_v2.py:1018] \t+ DetectionBoxes_Precision/mAP (small): -1.000000\n",
            "INFO:tensorflow:\t+ DetectionBoxes_Precision/mAP (medium): -1.000000\n",
            "I0420 22:17:12.127059 26492 model_lib_v2.py:1018] \t+ DetectionBoxes_Precision/mAP (medium): -1.000000\n",
            "INFO:tensorflow:\t+ DetectionBoxes_Precision/mAP (large): 0.668910\n",
            "I0420 22:17:12.128070 26492 model_lib_v2.py:1018] \t+ DetectionBoxes_Precision/mAP (large): 0.668910\n",
            "INFO:tensorflow:\t+ DetectionBoxes_Recall/AR@1: 0.705000\n",
            "I0420 22:17:12.129072 26492 model_lib_v2.py:1018] \t+ DetectionBoxes_Recall/AR@1: 0.705000\n",
            "INFO:tensorflow:\t+ DetectionBoxes_Recall/AR@10: 0.706667\n",
            "I0420 22:17:12.129072 26492 model_lib_v2.py:1018] \t+ DetectionBoxes_Recall/AR@10: 0.706667\n",
            "INFO:tensorflow:\t+ DetectionBoxes_Recall/AR@100: 0.706667\n",
            "I0420 22:17:12.130155 26492 model_lib_v2.py:1018] \t+ DetectionBoxes_Recall/AR@100: 0.706667\n",
            "INFO:tensorflow:\t+ DetectionBoxes_Recall/AR@100 (small): -1.000000\n",
            "I0420 22:17:12.131760 26492 model_lib_v2.py:1018] \t+ DetectionBoxes_Recall/AR@100 (small): -1.000000\n",
            "INFO:tensorflow:\t+ DetectionBoxes_Recall/AR@100 (medium): -1.000000\n",
            "I0420 22:17:12.131760 26492 model_lib_v2.py:1018] \t+ DetectionBoxes_Recall/AR@100 (medium): -1.000000\n",
            "INFO:tensorflow:\t+ DetectionBoxes_Recall/AR@100 (large): 0.706667\n",
            "I0420 22:17:12.135519 26492 model_lib_v2.py:1018] \t+ DetectionBoxes_Recall/AR@100 (large): 0.706667\n",
            "INFO:tensorflow:\t+ Loss/localization_loss: 0.101287\n",
            "I0420 22:17:12.137705 26492 model_lib_v2.py:1018] \t+ Loss/localization_loss: 0.101287\n",
            "INFO:tensorflow:\t+ Loss/classification_loss: 0.117136\n",
            "I0420 22:17:12.140679 26492 model_lib_v2.py:1018] \t+ Loss/classification_loss: 0.117136\n",
            "INFO:tensorflow:\t+ Loss/regularization_loss: 0.141863\n",
            "I0420 22:17:12.141676 26492 model_lib_v2.py:1018] \t+ Loss/regularization_loss: 0.141863\n",
            "INFO:tensorflow:\t+ Loss/total_loss: 0.360285\n",
            "I0420 22:17:12.143671 26492 model_lib_v2.py:1018] \t+ Loss/total_loss: 0.360285\n",
            "INFO:tensorflow:Waiting for new checkpoint at Tensorflow\\workspace\\models\\Face_Detection\n",
            "I0420 22:21:02.521927 26492 checkpoint_utils.py:142] Waiting for new checkpoint at Tensorflow\\workspace\\models\\Face_Detection\n",
            "INFO:tensorflow:Timed-out waiting for a checkpoint.\n",
            "I0420 23:21:02.211994 26492 checkpoint_utils.py:205] Timed-out waiting for a checkpoint.\n"
          ]
        }
      ],
      "source": [
        "!{command} "
      ]
    },
    {
      "cell_type": "markdown",
      "metadata": {
        "id": "orvRk02UpfDI"
      },
      "source": [
        "# 8. Load Train Model From Checkpoint"
      ]
    },
    {
      "cell_type": "code",
      "execution_count": 10,
      "metadata": {
        "id": "8TYk4_oIpfDI"
      },
      "outputs": [],
      "source": [
        "import os\n",
        "import tensorflow as tf\n",
        "from object_detection.utils import label_map_util\n",
        "from object_detection.utils import visualization_utils as viz_utils\n",
        "from object_detection.builders import model_builder\n",
        "from object_detection.utils import config_util"
      ]
    },
    {
      "cell_type": "code",
      "execution_count": 11,
      "metadata": {
        "id": "tDnQg-cYpfDI"
      },
      "outputs": [],
      "source": [
        "# Load pipeline config and build a detection model\n",
        "configs = config_util.get_configs_from_pipeline_file(files['PIPELINE_CONFIG'])\n",
        "detection_model = model_builder.build(model_config=configs['model'], is_training=False)\n",
        "\n",
        "# Restore checkpoint\n",
        "ckpt = tf.compat.v2.train.Checkpoint(model=detection_model)\n",
        "ckpt.restore(os.path.join(paths['CHECKPOINT_PATH'], 'ckpt-3')).expect_partial()\n",
        "\n",
        "@tf.function\n",
        "def detect_fn(image):\n",
        "    image, shapes = detection_model.preprocess(image)\n",
        "    prediction_dict = detection_model.predict(image, shapes)\n",
        "    detections = detection_model.postprocess(prediction_dict, shapes)\n",
        "    return detections"
      ]
    },
    {
      "cell_type": "markdown",
      "metadata": {
        "id": "0EmsmbBZpfDI"
      },
      "source": [
        "# 9. Detect from an Image"
      ]
    },
    {
      "cell_type": "code",
      "execution_count": 57,
      "metadata": {
        "id": "Y_MKiuZ4pfDI"
      },
      "outputs": [],
      "source": [
        "import cv2 \n",
        "import numpy as np\n",
        "from matplotlib import pyplot as plt\n",
        "%matplotlib inline"
      ]
    },
    {
      "cell_type": "code",
      "execution_count": 58,
      "metadata": {
        "id": "cBDbIhNapfDI"
      },
      "outputs": [],
      "source": [
        "category_index = label_map_util.create_category_index_from_labelmap(files['LABELMAP'])"
      ]
    },
    {
      "cell_type": "code",
      "execution_count": 59,
      "metadata": {
        "id": "Lx3crOhOzITB"
      },
      "outputs": [],
      "source": [
        "IMAGE_PATH = os.path.join(paths['IMAGE_PATH'], 'train', 'WIN_20221207_11_38_05_Pro.jpg')\n",
        "IMAGE_PATH=r\"C:\\.others\\VS Code files\\Python\\Krishtec 2.0\\object_detection_2.0\\TFODCourse\\Tensorflow\\workspace\\images\\train\\0_75.jpg\""
      ]
    },
    {
      "cell_type": "code",
      "execution_count": 71,
      "metadata": {
        "colab": {
          "base_uri": "https://localhost:8080/",
          "height": 269
        },
        "id": "Tpzn1SMry1yK",
        "outputId": "c392a2c5-10fe-4fc4-9998-a1d4c7db2bd3"
      },
      "outputs": [
        {
          "ename": "TypeError",
          "evalue": "'NoneType' object is not callable",
          "output_type": "error",
          "traceback": [
            "\u001b[1;31m---------------------------------------------------------------------------\u001b[0m",
            "\u001b[1;31mTypeError\u001b[0m                                 Traceback (most recent call last)",
            "Cell \u001b[1;32mIn[71], line 5\u001b[0m\n\u001b[0;32m      2\u001b[0m image_np \u001b[39m=\u001b[39m np\u001b[39m.\u001b[39marray(img)\n\u001b[0;32m      4\u001b[0m input_tensor \u001b[39m=\u001b[39m tf\u001b[39m.\u001b[39mconvert_to_tensor(np\u001b[39m.\u001b[39mexpand_dims(image_np, \u001b[39m0\u001b[39m), dtype\u001b[39m=\u001b[39mtf\u001b[39m.\u001b[39mfloat32)\n\u001b[1;32m----> 5\u001b[0m detections \u001b[39m=\u001b[39m detect_fn(input_tensor)\n\u001b[0;32m      7\u001b[0m num_detections \u001b[39m=\u001b[39m \u001b[39mint\u001b[39m(detections\u001b[39m.\u001b[39mpop(\u001b[39m'\u001b[39m\u001b[39mnum_detections\u001b[39m\u001b[39m'\u001b[39m))\n\u001b[0;32m      8\u001b[0m detections \u001b[39m=\u001b[39m {key: value[\u001b[39m0\u001b[39m, :num_detections]\u001b[39m.\u001b[39mnumpy()\n\u001b[0;32m      9\u001b[0m               \u001b[39mfor\u001b[39;00m key, value \u001b[39min\u001b[39;00m detections\u001b[39m.\u001b[39mitems()}\n",
            "File \u001b[1;32mc:\\Users\\Varshaa\\OneDrive\\Desktop\\CI_AI\\lib\\site-packages\\tensorflow\\python\\util\\traceback_utils.py:153\u001b[0m, in \u001b[0;36mfilter_traceback.<locals>.error_handler\u001b[1;34m(*args, **kwargs)\u001b[0m\n\u001b[0;32m    151\u001b[0m \u001b[39mexcept\u001b[39;00m \u001b[39mException\u001b[39;00m \u001b[39mas\u001b[39;00m e:\n\u001b[0;32m    152\u001b[0m   filtered_tb \u001b[39m=\u001b[39m _process_traceback_frames(e\u001b[39m.\u001b[39m__traceback__)\n\u001b[1;32m--> 153\u001b[0m   \u001b[39mraise\u001b[39;00m e\u001b[39m.\u001b[39mwith_traceback(filtered_tb) \u001b[39mfrom\u001b[39;00m \u001b[39mNone\u001b[39;00m\n\u001b[0;32m    154\u001b[0m \u001b[39mfinally\u001b[39;00m:\n\u001b[0;32m    155\u001b[0m   \u001b[39mdel\u001b[39;00m filtered_tb\n",
            "File \u001b[1;32mc:\\Users\\Varshaa\\OneDrive\\Desktop\\CI_AI\\lib\\site-packages\\tensorflow\\python\\eager\\def_function.py:947\u001b[0m, in \u001b[0;36mFunction._call\u001b[1;34m(self, *args, **kwds)\u001b[0m\n\u001b[0;32m    944\u001b[0m   \u001b[39mself\u001b[39m\u001b[39m.\u001b[39m_lock\u001b[39m.\u001b[39mrelease()\n\u001b[0;32m    945\u001b[0m   \u001b[39m# In this case we have created variables on the first call, so we run the\u001b[39;00m\n\u001b[0;32m    946\u001b[0m   \u001b[39m# defunned version which is guaranteed to never create variables.\u001b[39;00m\n\u001b[1;32m--> 947\u001b[0m   \u001b[39mreturn\u001b[39;00m \u001b[39mself\u001b[39m\u001b[39m.\u001b[39m_stateless_fn(\u001b[39m*\u001b[39margs, \u001b[39m*\u001b[39m\u001b[39m*\u001b[39mkwds)  \u001b[39m# pylint: disable=not-callable\u001b[39;00m\n\u001b[0;32m    948\u001b[0m \u001b[39melif\u001b[39;00m \u001b[39mself\u001b[39m\u001b[39m.\u001b[39m_stateful_fn \u001b[39mis\u001b[39;00m \u001b[39mnot\u001b[39;00m \u001b[39mNone\u001b[39;00m:\n\u001b[0;32m    949\u001b[0m   \u001b[39m# Release the lock early so that multiple threads can perform the call\u001b[39;00m\n\u001b[0;32m    950\u001b[0m   \u001b[39m# in parallel.\u001b[39;00m\n\u001b[0;32m    951\u001b[0m   \u001b[39mself\u001b[39m\u001b[39m.\u001b[39m_lock\u001b[39m.\u001b[39mrelease()\n",
            "\u001b[1;31mTypeError\u001b[0m: 'NoneType' object is not callable"
          ]
        }
      ],
      "source": [
        "img = cv2.imread(IMAGE_PATH)\n",
        "image_np = np.array(img)\n",
        "\n",
        "input_tensor = tf.convert_to_tensor(np.expand_dims(image_np, 0), dtype=tf.float32)\n",
        "detections = detect_fn(input_tensor)\n",
        "\n",
        "num_detections = int(detections.pop('num_detections'))\n",
        "detections = {key: value[0, :num_detections].numpy()\n",
        "              for key, value in detections.items()}\n",
        "detections['num_detections'] = num_detections\n",
        "\n",
        "# detection_classes should be ints.\n",
        "detections['detection_classes'] = detections['detection_classes'].astype(np.int64)\n",
        "\n",
        "label_id_offset = 1\n",
        "image_np_with_detections = image_np.copy()\n",
        "\n",
        "viz_utils.visualize_boxes_and_labels_on_image_array(\n",
        "            image_np_with_detections,\n",
        "            detections['detection_boxes'],\n",
        "            detections['detection_classes']+label_id_offset,\n",
        "            detections['detection_scores'],\n",
        "            category_index,\n",
        "            use_normalized_coordinates=True,\n",
        "            max_boxes_to_draw=5,\n",
        "            min_score_thresh=.8,\n",
        "            agnostic_mode=False)\n",
        "\n",
        "plt.imshow(cv2.cvtColor(image_np_with_detections, cv2.COLOR_BGR2RGB))\n",
        "plt.show()"
      ]
    },
    {
      "cell_type": "markdown",
      "metadata": {
        "id": "IsNAaYAo0WVL"
      },
      "source": [
        "# 10. Real Time Detections from your Webcam"
      ]
    },
    {
      "cell_type": "code",
      "execution_count": 12,
      "metadata": {
        "id": "rAtR0-WpncXE"
      },
      "outputs": [],
      "source": [
        "import cv2 \n",
        "import numpy as np\n",
        "from matplotlib import pyplot as plt\n",
        "%matplotlib inline"
      ]
    },
    {
      "cell_type": "code",
      "execution_count": 13,
      "metadata": {
        "id": "6ym5vgbjncXE"
      },
      "outputs": [
        {
          "name": "stderr",
          "output_type": "stream",
          "text": [
            "Traceback (most recent call last):\n",
            "  File \"c:\\Users\\Varshaa\\OneDrive\\Desktop\\CI_AI\\Tensorflow\\scripts\\generate_tfrecord.py\", line 168, in <module>\n",
            "    tf.app.run()\n",
            "  File \"c:\\Users\\Varshaa\\OneDrive\\Desktop\\CI_AI\\lib\\site-packages\\tensorflow\\python\\platform\\app.py\", line 36, in run\n",
            "    _run(main=main, argv=argv, flags_parser=_parse_flags_tolerate_undef)\n",
            "  File \"c:\\Users\\Varshaa\\OneDrive\\Desktop\\CI_AI\\lib\\site-packages\\absl\\app.py\", line 308, in run\n",
            "    _run_main(main, args)\n",
            "  File \"c:\\Users\\Varshaa\\OneDrive\\Desktop\\CI_AI\\lib\\site-packages\\absl\\app.py\", line 254, in _run_main\n",
            "    sys.exit(main(argv))\n",
            "  File \"c:\\Users\\Varshaa\\OneDrive\\Desktop\\CI_AI\\Tensorflow\\scripts\\generate_tfrecord.py\", line 158, in main\n",
            "    tf_example = create_tf_example(group, path)\n",
            "  File \"c:\\Users\\Varshaa\\OneDrive\\Desktop\\CI_AI\\Tensorflow\\scripts\\generate_tfrecord.py\", line 132, in create_tf_example\n",
            "    classes.append(class_text_to_int(row['class']))\n",
            "  File \"c:\\Users\\Varshaa\\OneDrive\\Desktop\\CI_AI\\Tensorflow\\scripts\\generate_tfrecord.py\", line 101, in class_text_to_int\n",
            "    return label_map_dict[row_label]\n",
            "KeyError: 'd'\n"
          ]
        }
      ],
      "source": [
        "category_index = label_map_util.create_category_index_from_labelmap(files['LABELMAP'])"
      ]
    },
    {
      "cell_type": "code",
      "execution_count": 13,
      "metadata": {
        "id": "o_grs6OGpfDJ"
      },
      "outputs": [
        {
          "ename": "error",
          "evalue": "OpenCV(4.7.0) D:\\a\\opencv-python\\opencv-python\\opencv\\modules\\highgui\\src\\window.cpp:1272: error: (-2:Unspecified error) The function is not implemented. Rebuild the library with Windows, GTK+ 2.x or Cocoa support. If you are on Ubuntu or Debian, install libgtk2.0-dev and pkg-config, then re-run cmake or configure script in function 'cvShowImage'\n",
          "output_type": "error",
          "traceback": [
            "\u001b[1;31m---------------------------------------------------------------------------\u001b[0m",
            "\u001b[1;31merror\u001b[0m                                     Traceback (most recent call last)",
            "Cell \u001b[1;32mIn[13], line 35\u001b[0m\n\u001b[0;32m     22\u001b[0m image_np_with_detections \u001b[39m=\u001b[39m image_np\u001b[39m.\u001b[39mcopy()\n\u001b[0;32m     24\u001b[0m viz_utils\u001b[39m.\u001b[39mvisualize_boxes_and_labels_on_image_array(\n\u001b[0;32m     25\u001b[0m             image_np_with_detections,\n\u001b[0;32m     26\u001b[0m             detections[\u001b[39m'\u001b[39m\u001b[39mdetection_boxes\u001b[39m\u001b[39m'\u001b[39m],\n\u001b[1;32m   (...)\u001b[0m\n\u001b[0;32m     32\u001b[0m             min_score_thresh\u001b[39m=\u001b[39m\u001b[39m.8\u001b[39m,\n\u001b[0;32m     33\u001b[0m             agnostic_mode\u001b[39m=\u001b[39m\u001b[39mFalse\u001b[39;00m)\n\u001b[1;32m---> 35\u001b[0m cv2\u001b[39m.\u001b[39;49mimshow(\u001b[39m'\u001b[39;49m\u001b[39mobject detection\u001b[39;49m\u001b[39m'\u001b[39;49m,  cv2\u001b[39m.\u001b[39;49mresize(image_np_with_detections, (\u001b[39m600\u001b[39;49m, \u001b[39m600\u001b[39;49m)))\n\u001b[0;32m     37\u001b[0m \u001b[39mif\u001b[39;00m cv2\u001b[39m.\u001b[39mwaitKey(\u001b[39m10\u001b[39m) \u001b[39m&\u001b[39m \u001b[39m0xFF\u001b[39m \u001b[39m==\u001b[39m \u001b[39mord\u001b[39m(\u001b[39m'\u001b[39m\u001b[39mq\u001b[39m\u001b[39m'\u001b[39m):\n\u001b[0;32m     38\u001b[0m     cap\u001b[39m.\u001b[39mrelease()\n",
            "\u001b[1;31merror\u001b[0m: OpenCV(4.7.0) D:\\a\\opencv-python\\opencv-python\\opencv\\modules\\highgui\\src\\window.cpp:1272: error: (-2:Unspecified error) The function is not implemented. Rebuild the library with Windows, GTK+ 2.x or Cocoa support. If you are on Ubuntu or Debian, install libgtk2.0-dev and pkg-config, then re-run cmake or configure script in function 'cvShowImage'\n"
          ]
        },
        {
          "ename": "",
          "evalue": "",
          "output_type": "error",
          "traceback": [
            "\u001b[1;31mThe Kernel crashed while executing code in the the current cell or a previous cell. Please review the code in the cell(s) to identify a possible cause of the failure. Click <a href='https://aka.ms/vscodeJupyterKernelCrash'>here</a> for more info. View Jupyter <a href='command:jupyter.viewOutput'>log</a> for further details."
          ]
        }
      ],
      "source": [
        "cap = cv2.VideoCapture(0)\n",
        "width = int(cap.get(cv2.CAP_PROP_FRAME_WIDTH))\n",
        "height = int(cap.get(cv2.CAP_PROP_FRAME_HEIGHT))\n",
        "\n",
        "while cap.isOpened(): \n",
        "    ret, frame = cap.read()\n",
        "    image_np = np.array(frame)\n",
        "    \n",
        "    input_tensor = tf.convert_to_tensor(np.expand_dims(image_np, 0), dtype=tf.float32)\n",
        "    detections = detect_fn(input_tensor)\n",
        "    \n",
        "    num_detections = int(detections.pop('num_detections'))\n",
        "    detections = {key: value[0, :num_detections].numpy()\n",
        "                  for key, value in detections.items()}\n",
        "    detections['num_detections'] = num_detections\n",
        "\n",
        "    # detection_classes should be ints.\n",
        "    detections['detection_classes'] = detections['detection_classes'].astype(np.int64)\n",
        "    \n",
        "\n",
        "    label_id_offset = 1\n",
        "    image_np_with_detections = image_np.copy()\n",
        "\n",
        "    viz_utils.visualize_boxes_and_labels_on_image_array(\n",
        "                image_np_with_detections,\n",
        "                detections['detection_boxes'],\n",
        "                detections['detection_classes']+label_id_offset,\n",
        "                detections['detection_scores'],\n",
        "                category_index,\n",
        "                use_normalized_coordinates=True,\n",
        "                max_boxes_to_draw=5,\n",
        "                min_score_thresh=.8,\n",
        "                agnostic_mode=False)\n",
        "\n",
        "    cv2.imshow('object detection',  cv2.resize(image_np_with_detections, (600, 600)))\n",
        "    \n",
        "    if cv2.waitKey(10) & 0xFF == ord('q'):\n",
        "        cap.release()\n",
        "        cv2.destroyAllWindows()\n",
        "        break"
      ]
    },
    {
      "cell_type": "code",
      "execution_count": 26,
      "metadata": {},
      "outputs": [],
      "source": []
    },
    {
      "cell_type": "markdown",
      "metadata": {
        "id": "rzlM4jt0pfDJ"
      },
      "source": [
        "# 10. Freezing the Graph"
      ]
    },
    {
      "cell_type": "code",
      "execution_count": null,
      "metadata": {
        "id": "n4olHB2npfDJ"
      },
      "outputs": [],
      "source": [
        "FREEZE_SCRIPT = os.path.join(paths['APIMODEL_PATH'], 'research', 'object_detection', 'exporter_main_v2.py ')"
      ]
    },
    {
      "cell_type": "code",
      "execution_count": null,
      "metadata": {
        "colab": {
          "base_uri": "https://localhost:8080/"
        },
        "id": "F6Lsp3tCpfDJ",
        "outputId": "c3828529-bf06-4df5-d7f3-145890ec3edd"
      },
      "outputs": [],
      "source": [
        "print(command)"
      ]
    },
    {
      "cell_type": "code",
      "execution_count": null,
      "metadata": {
        "colab": {
          "base_uri": "https://localhost:8080/"
        },
        "id": "1Sw1ULgHpfDJ",
        "outputId": "6fd441e1-9fc9-4889-d072-3395c21e40b6"
      },
      "outputs": [],
      "source": [
        "!{command}"
      ]
    },
    {
      "cell_type": "markdown",
      "metadata": {
        "id": "5NQqZRdA21Uc"
      },
      "source": [
        "# 13. Zip and Export Models "
      ]
    },
    {
      "cell_type": "code",
      "execution_count": null,
      "metadata": {
        "id": "tTVTGCQp2ZJJ"
      },
      "outputs": [],
      "source": [
        "!tar -czf model_face_v1.tar.gz {paths['CHECKPOINT_PATH']}"
      ]
    },
    {
      "cell_type": "code",
      "execution_count": null,
      "metadata": {
        "id": "xIdDavp3ncXF",
        "outputId": "0ef2ec5e-9816-40fa-9295-1916d911c058"
      },
      "outputs": [],
      "source": [
        "import os\n",
        "import tensorflow as tf\n",
        "from tensorflow.keras.preprocessing import image\n",
        "\n",
        "New_Model = tf.keras.models.load_model(r'C:\\.others\\VS Code files\\Python\\Krishtec 2.0\\object_detection_2.0\\TFODCourse\\Tensorflow\\workspace\\models\\Face_Detection_v1\\export\\saved_model') # Loading the Tensorflow Saved Model (PB)\n",
        "print(New_Model.summary())"
      ]
    },
    {
      "cell_type": "code",
      "execution_count": null,
      "metadata": {
        "id": "f_WTQwzOncXF"
      },
      "outputs": [],
      "source": [
        "# Saving the Model in H5 Format and Loading it (to check if it is same as PB Format)\n",
        "tf.keras.models.save_model(New_Model, 'New_Model.h5') # Saving the Model in H5 Format\n",
        "\n",
        "loaded_model_from_h5 = tf.keras.models.load_model('New_Model.h5') # Loading the H5 Saved Model\n",
        "print(loaded_model_from_h5.summary())"
      ]
    }
  ],
  "metadata": {
    "accelerator": "GPU",
    "colab": {
      "provenance": []
    },
    "kernelspec": {
      "display_name": "Python 3",
      "language": "python",
      "name": "python3"
    },
    "language_info": {
      "codemirror_mode": {
        "name": "ipython",
        "version": 3
      },
      "file_extension": ".py",
      "mimetype": "text/x-python",
      "name": "python",
      "nbconvert_exporter": "python",
      "pygments_lexer": "ipython3",
      "version": "3.10.4"
    },
    "vscode": {
      "interpreter": {
        "hash": "2a3cd9cbb0d6e08718def2b56cb18ef3b743a0440c4660134c4c980e2599a35e"
      }
    }
  },
  "nbformat": 4,
  "nbformat_minor": 0
}
